{
 "cells": [
  {
   "cell_type": "markdown",
   "id": "83ac4827",
   "metadata": {
    "papermill": {
     "duration": 0.046141,
     "end_time": "2024-10-15T03:50:00.528436",
     "exception": false,
     "start_time": "2024-10-15T03:50:00.482295",
     "status": "completed"
    },
    "tags": []
   },
   "source": [
    "One of the [outstanding members](https://www.kaggle.com/cdeotte) of the Kaggle community, grandmaster, gives a link to his [***work***](https://www.kaggle.com/code/cdeotte/top-solutions-ensemble-0-947), where he shows the refinement of the prediction using an experimental example. In order to try to refine our predictions at the [NeurIPS - Ariel Data Challenge 2024](https://www.kaggle.com/competitions/ariel-data-challenge-2024/leaderboard) competition\n",
    "\n",
    "This approach has proven itself in the following competitions: 1. [ISIC 2024 - Skin Cancer Detection with 3D-TBP](https://www.kaggle.com/competitions/isic-2024-challenge/code?competitionId=63056&sortBy=scoreDescending&excludeNonAccessedDatasources=true), 2. [RSNA 2024 Lumbar Spine Degenerative Classification](https://www.kaggle.com/competitions/rsna-2024-lumbar-spine-degenerative-classification/code?competitionId=71549&sortBy=scoreAscending&excludeNonAccessedDatasources=true), 3. [NeurIPS - Ariel Data Challenge 2024](https://www.kaggle.com/competitions/ariel-data-challenge-2024/code?competitionId=70367&sortBy=scoreDescending&excludeNonAccessedDatasources=true), 4. [Child Mind Institute — Problematic Internet Use](https://www.kaggle.com/competitions/child-mind-institute-problematic-internet-use/code?competitionId=81933&sortBy=scoreDescending&excludeNonAccessedDatasources=true), 5. [BrisT1D Blood Glucose Prediction Competition](https://www.kaggle.com/competitions/brist1d/code?competitionId=82611&sortBy=scoreAscending&excludeNonAccessedDatasources=true), 6. [Eedi - Mining Misconceptions in Mathematics](https://www.kaggle.com/competitions/eedi-mining-misconceptions-in-mathematics/code?competitionId=82695&sortBy=scoreDescending&excludeNonAccessedDatasources=true), 7. [Connect X](https://www.kaggle.com/competitions/connectx/leaderboard?), 8. [Loan Approval Prediction {PS-S4.E10}](https://www.kaggle.com/competitions/brist1d/code)\n",
    "\n",
    "And accordingly in the following notebooks: 1. [ISIC_2024 | Ensemble of solutions](https://www.kaggle.com/code/vyacheslavbolotin/isic-2024-ensemble-of-solutions), 2. [RSNA | Ensemble of solutions](https://www.kaggle.com/code/vyacheslavbolotin/rsna-ensemble-of-solutions), 3. [Ariel | Ensemble of solutions](https://www.kaggle.com/code/vyacheslavbolotin/ariel-ensemble-of-solutions), 4. [CMI | Ensemble of solutions](https://www.kaggle.com/code/vyacheslavbolotin/cmi-ensemble-of-solutions), 5. [BrisT1D | Ensemble of solutions](https://www.kaggle.com/code/vyacheslavbolotin/brist1d-ensemble-of-solutions), 6. [Eedi | Ensemble of solutions](https://www.kaggle.com/code/vyacheslavbolotin/eedi-ensemble-of-solutions), 7. [agents Connect X](https://www.kaggle.com/code/vyacheslavbolotin/agents-connect-x), 8. [PS-S4.E10 | Ensemble of solutions](https://www.kaggle.com/code/vyacheslavbolotin/pss4e10-ensemble-of-solutions) \n",
    "\n",
    "#### Ariel | Ensemble of solutions:\n",
    "\n",
    "1. (LB=0.514) [ariel_only_correlation](https://www.kaggle.com/code/sergeifironov/ariel-only-correlation) by grandmaster [Sergei Fironov](https://www.kaggle.com/sergeifironov)\n",
    "2. (LB=0.515) [ariel_only_correlation LB: 0.515](https://www.kaggle.com/code/jaejohn/ariel-only-correlation-lb-0-515) by contributor [G John Rao](https://www.kaggle.com/jaejohn)\n",
    "3. (LB=0.446) [Fork of NeurIPS Ariel 2024 - Starter 5be123](https://www.kaggle.com/code/regisvargas/fork-of-neurips-ariel-2024-starter-5be123) by expert [Regis Vargas](https://www.kaggle.com/regisvargas)\n",
    "4. (LB=0.441) [AD24[TRAIN-INF]Ridge_AddFE[LB.441]](https://www.kaggle.com/code/hideyukizushi/ad24-train-inf-ridge-addfe-lb-441) by expert [yukiZ](https://www.kaggle.com/hideyukizushi)\n",
    "5. (LB=0.434) [NeurIPS Ariel 2024 - Starter withdifferentparametr](https://www.kaggle.com/code/bingyuniu/neurips-ariel-2024-starter-withdifferentparametr) by contributor [yu🐂](https://www.kaggle.com/bingyuniu)\n",
    "6. ()\n",
    "7. (LB=0.517) [ariel_only_correlation | param upd[LB.517]](https://www.kaggle.com/code/hideyukizushi/ariel-only-correlation-param-upd-lb-517) by expert [yukiZ](https://www.kaggle.com/hideyukizushi)\n",
    "8. (LB=0.544) [Ariel Data Challenge 2024](https://www.kaggle.com/code/xiaocao123/ariel-data-challenge-2024) by expert [qianc](https://www.kaggle.com/xiaocao123)\n",
    "9. (LB=0.545) [LB=0.545](https://www.kaggle.com/code/xiaocao123/lb-0-545) by expert [qianc](https://www.kaggle.com/xiaocao123)\n",
    "10. (LB=0.545) [LB=0.545 + change parameters](https://www.kaggle.com/code/xiaocao123/lb-0-545) by master [invisible](https://www.kaggle.com/vyacheslavbolotin)\n",
    "11. (LB=0.522) [ariel_only_correlation|ParamUpd[9/22ImprveLB.522]](https://www.kaggle.com/code/hideyukizushi/ariel-only-correlation-paramupd-9-22imprvelb-522) by expert [yukiZ](https://www.kaggle.com/hideyukizushi)\n",
    "\n",
    "\n",
    "#### options\n",
    "\n",
    "- option 1 -> LB=0.515 solutions (1,2)\n",
    "- option 2 -> LB= ?.??? solutions (3,4,5) \n",
    "- option 3 -> LB=0.000 solutions (1,2,3)         \n",
    "- option 4 -> LB= ?.??? solutions (4,5)\n",
    "- option 5 -> LB=0.514 solutions (1,2) + weight (0.15+0.85)\n",
    "- option 7 -> LB=0.515 solutions (1,2) + weight (0.85+0.15)\n",
    "- option 8 -> LB=0.515 solutions (1,2) + weight (0.07+0.93)\n",
    "- option 9 -> LB=0.517 solutions (2,7)\n",
    "- option 10 -> LB=0.516 solutions (1,2,7)\n",
    "- option 11 -> LB=0.517 solutions (2,7) + weight (0.10+0.90)\n",
    "- option 12 -> LB=0.517 solutions (2,7) + weight (0.05+0.95)\n",
    "- option 14 -> LB=0.544 solutions (7,8) + weight (0.005+0.995)\n",
    "- option 15 -> LB=0.544 solutions (7,8) + weight (0.008+0.992)\n",
    "- option 16 -> LB=0.544 solutions (7,8) + weight (0.011+0.989)\n",
    "- option 17 -> LB=0.544 solutions (7,8) + weight (0.015+0.985)\n",
    "- option 18 -> LB=0.544 solutions (7,8) + weight (0.02+0.98)\n",
    "- option 19 -> LB=0.544 solutions (7,8) + weight (0.05+0.95)\n",
    "- option 20 -> LB=0.544 solutions (7,8) + weight (0.07+0.93)\n",
    "- option 21 -> LB=0.544 solutions (7,8) + weight (0.03+0.97)\n",
    "- option 22 -> LB=0.544 solutions (7,8) + weight (0.035+0.965)\n",
    "- option 23 -> LB=0.544 solutions (7,8) + weight (0.026+0.974)\n",
    "- option 24 -> LB=0.544 solutions (7,8) + weight (0.032+0.968)\n",
    "- option 25 -> LB=0.544 solutions (7,8) + weight (0.031+0.969)\n",
    "- option 26 -> LB=0.544 solutions (7,8) + weight (0.028+0.972)\n",
    "- \n",
    "- option 27 -> LB=0.544 solutions (7,8) + weight (0.0305+0.9695) **prev**.1 best\n",
    "- \n",
    "- option 28 -> LB=0.544 solutions (7,8) + weight (0.0290+0.9710)\n",
    "- option 29 -> LB=0.544 solutions (7,8) + weight (0.0302+0.9698)\n",
    "- option 33 -> LB=0.545 solutions (7, 9.1, 9.2, 9.3)\n",
    "- option 34 -> LB=0.545 solutions (7,9) + weight (0.0298+0.9702)\n",
    "- \n",
    "- option 35 -> LB=0.545 solutions (7,9) + weight (0.0302+0.9698) **prev**.2 best\n",
    "- \n",
    "- option 31 -> LB=0.544 solutions (1,8) + weight (0.0305+0.9695)\n",
    "- option 32 -> LB=0.544 solutions (2,8) + weight (0.0305+0.9695)\n",
    "- option 36 -> LB=0.544 solutions (8,9) + weight (0.30 + 0.70)\n",
    "- option 37 -> LB=0.544 solutions (1,9) + weight (0.305 +0.695)\n",
    "- option 38 -> LB=0.544 solutions (2,9) + weight (0.305 +0.695)\n",
    "- option 39 -> LB=0.545 solutions (2,7,9) + weight (0.0100 +0.0205 +0.9695)\n",
    "- option 40 -> LB=0.545 solutions (2,7,9) + weight (0.0050 +0.0255 +0.9695)\n",
    "- option 41 -> LB=0.545 solutions (2,7,9) + weight (0.0005 +0.0300 +0.9695)\n",
    "- option 42 -> LB=0.545 solutions (2,7,9) + weight (0.00005 +0.03025 +0.9697)\n",
    "- option 43 -> LB=0.545 solutions (2,7,9) + weight (0.00003 +0.03030 +0.96967)\n",
    "- option 44 -> LB=0.000 solutions (2,7,9) + weight (0.00002 +0.03035 +0.96963) **!** time out\n",
    "- option 45 -> LB=0.545 solutions (7,9) + weight (0.0301+0.9699)\n",
    "- option 46 -> LB=0.000 solutions (7,9) + weight (0.0303+0.9697) **!** time out\n",
    "- option 47 -> LB=0.545 solutions (7,9) + weight (0.03021+0.96979) + sigma(0.0001421)\n",
    "- option 48 -> LB=0.545 solutions (7,9) + weight (0.03022+0.96978) + sigma(0.0001420)\n",
    "- option 49 -> LB=0.545 solutions (7,9) + weight (0.03023+0.96977) + sigma(0.0001419)\n",
    "- \n",
    "- option 50 -> LB=0.545 solutions (7,9) + weight (0.03024+0.96976) + sigma(0.0001418) **prev**.3 best\n",
    "- \n",
    "- option 51 -> LB=0.545 solutions (7,9) + weight (0.03025+0.96975) + sigma(0.0001417)\n",
    "- option 52 -> LB=0.545 solutions (7,9) + weight (0.03026+0.96974) + sigma(0.0001416)\n",
    "- option 53 -> LB=0.545 solutions (7,9) + weight (0.03027+0.96973) + sigma(0.0001415)\n",
    "- option 54 -> LB=0.545 solutions (7,9) + weight (0.03028+0.96972) + sigma(0.0001414)\n",
    "- option 55 -> LB=0.545 solutions (7,9) + weight (0.03030+0.96970) + sigma(0.0001412)\n",
    "- \n",
    "- option 56 -> LB=0.545 solutions (7,9) + weight (0.03032+0.96968) + sigma(0.0001410), version 97 **prev**.4 best\n",
    "- \n",
    "- option 57 -> LB=0.545 solutions (7,9) + weight (0.03033+0.96967) + sigma(0.0001408), version 101\n",
    "- option 58 -> LB=0.545 solutions (7,9) + weight (0.03035+0.96965) + sigma(0.0001407), version 102\n",
    "- option 59 -> LB=0.545 solutions (7,9) + weight (0.03036+0.96964) + sigma(0.0001405), version 103\n",
    "- option 60 -> LB=0.54? solutions (7,9) + weight (0.03031+0.96969) + sigma(0.0001411), version 105 **!** time out\n",
    "- \n",
    "- option 61 -> LB=0.545 solutions (7,9) + weight (0.03033+0.96967) + sigma(0.0001409), version 106 **prev**.5 best\n",
    "- \n",
    "- option 62 -> LB=0.545 solutions (7,9) + weight (0.030326+0.969674) + sigma(0.00014095), version 107\n",
    "- \n",
    "- option **63** -> LB=0.545 solutions (7,9) + weight (0.0303215+0.9696785) + sigma(0.000140985),  version 108 - **BEST OPTION**\n",
    "- \n",
    "- option 64 -> LB=0.54? solutions (7,9) + weight (0.0303221+0.9696779) + sigma(0.000140985), version 109 **!** time out\n",
    "- option 65 -> LB=0.545 solutions (7,9) + weight (0.030322+0.969678) + sigma(0.00014095), version 110\n",
    "- option 66 -> LB=0.545 solutions (7,9) + weight (0.030321+0.969679) + sigma(0.00014091), version 111\n",
    "- option 67 -> LB=0.545 solutions (7,9) + weight (0.030322+0.969678) + sigma(0.00014092), version 112\n",
    "- option 68 -> LB=0.545 solutions (7,9) + weight (0.030323+0.969677) + sigma(0.00014093), version 113\n",
    "- option 70 -> LB=0.544 solutions (9,10) + weight (0.50 + 0.50) + bilzard_idea(4.5 + 4.15) + k_min(0.0001 + 0.00015)\n",
    "- option 71 -> LB=0.000 solutions (9,10) + weight (0.50 + 0.50) + bilzard_idea(4.5 + 4.85) + k_min(0.0001 + 0.000085) **!** time out\n",
    "- option 72 -> LB=0.000 solutions (9,10) + weight (0.50 + 0.50) + bilzard_idea(4.5 + 5.15) + k_min(0.0001 + 0.0002) **!** time out\n",
    "- option 82 -> LB=0.544 solutions (11,9) + weight (0.0303215+0.9696785)\n",
    "- option 83 -> LB=0.000 solutions (7,11,9) + weight (0.01 + 0.04 + 0.95) + sigma.7.(0.000140985) **!** time out\n",
    "- option 84 -> LB=0.543 solutions (11,9) + weight (0.10+0.90)\n",
    "- option 85 -> LB=0.543 solutions (11,9) + weight (0.15+0.85)\n",
    "- option 86 -> LB=0.542 solutions (11,9) + weight (0.20+0.80)\n",
    "- option 87 -> LB=0.544 solutions (11,9) + weight (0.0303215+0.9696785) + sigma.11(0.000177), V140\n",
    "- option 88 -> time .out solutions (11,9) + weight (0.0303215+0.9696785) + sigma.11(0.000178), V141\n",
    "- option 89 -> LB=0.544 solutions (11,9) + weight (0.0303215+0.9696785) + sigma.11(0.000179), V142\n",
    "- option 90 -> LB=0.544 solutions (11,9) + weight (0.0303215+0.9696785) + sigma.11(0.0001749),\n",
    "- option 91 -> LB=0.544 solutions (11,9) + weight (0.0303215+0.9696785) + sigma.11(0.000174),\n",
    "- option 92 -> LB=0.544 solutions (11,9) + weight (0.0303215+0.9696785) + sigma.11(0.000173),\n",
    "- \n",
    "- weight (0.0303215+0.9696785)\n",
    "- \n",
    "- option 93 -> LB=0.544 solutions (11,9) * sigma.11.(0.000180) - (0.000140).9.amgis . V147\n",
    "- option 94 -> LB=0.544 solutions (11,9) * sigma.11.(0.000185) - (0.000135).9.amgis . V148\n",
    "- option 95 -> LB=0.000 solutions (11,9) * sigma.11.(0.000190) - (0.000130).9.amgis . V149 **!** Time out\n",
    "- \n",
    "- option 101-> LB=0.545 solutions (7,9) + weight (0.0303215+0.9696785) + sigma(0.000176135+0.000140985),  V151\n",
    "- option 102-> LB=0.545 solutions (7,9) + weight (0.0303215+0.9696785) + sigma(0.000176270+0.000141120),  V152\n",
    "- option 103-> LB=0.545 solutions (7,9) + weight (0.0303215+0.9696785) + sigma(0.000176405+0.000141255),  V153\n",
    "- option 104-> LB=0.545 solutions (7,9) + weight (0.0303215+0.9696785) + sigma(0.000176540+0.000141390),  V154\n",
    "- option 105-> LB=0.545 solutions (7,9) + weight (0.0303215+0.9696785) + sigma(0.000176676+0.000141525),  V155\n",
    "- option 106-> LB=0.545 solutions (7,9) + weight (0.0303215+0.9696785) + sigma(0.000176810+0.000141650),  V156\n",
    "- option 107-> LB=0.545 solutions (7,9) + weight (0.0303215+0.9696785) + sigma(0.000176945+0.000141785),  V157\n",
    "- option 108-> LB=0.545 solutions (7,9) + weight (0.0303215+0.9696785) + sigma(0.000177080+0.000141920),  V158\n",
    "- option 109-> LB=0.545 solutions (7,9) + weight (0.0303215+0.9696785) + sigma(0.000177215+0.000142055),  V159\n",
    "- \n",
    "- option 111-> LB=0.000 solutions (7,9) + weight (0.0303215+0.9696785) + sigma(0.000140985+0.000176135),  V161 **!** time out\n",
    "- option 112-> LB=0.545 solutions (7,9) + weight (0.0303215+0.9696785) + sigma(0.000141120+0.000176270),  V162\n",
    "- option 113-> LB=0.545 solutions (7,9) + weight (0.0303215+0.9696785) + sigma(0.000141255+0.000176405),  V163\n",
    "- option 114-> LB=***?*** solutions (7,9) + weight (0.0303215+0.9696785) + sigma(0.000141390+0.000176540),  V164\n",
    "- option 115-> LB=***?*** solutions (7,9) + weight (0.0303215+0.9696785) + sigma(0.000141525+0.000176676),  V165\n",
    "- option 116-> LB=***?*** solutions (7,9) + weight (0.0303215+0.9696785) + sigma(0.000141650+0.000176810),  V166\n",
    "- option 117-> LB=***?*** solutions (7,9) + weight (0.0303215+0.9696785) + sigma(0.000141785+0.000176945),  V167\n",
    "- option 118-> LB=***?*** solutions (7,9) + weight (0.0303215+0.9696785) + sigma(0.000141920+0.000177080),  V168\n",
    "- option 119-> LB=***?*** solutions (7,9) + weight (0.0303215+0.9696785) + sigma(0.000142055+0.000177215),  V169\n",
    "\n",
    "\n",
    "#### some rezults:\n",
    "* option.21 < option.28 < option.27 (0.544 version.52)\n",
    "* option.33 < option.34 < option.35 (0.545 version.59)\n",
    "* option.39 < option.40 < option.41 (0.545 version.75)\n",
    "* option.40 < option.41 < option.35 (0.545 version.59)\n",
    "* option.43 < option.42 < option.35 (0.545 version.59)\n",
    "* option.45 < option.42 < option.35 (0.545 version.59)\n",
    "* 51 < 52 < 53 < 54 < 55 < option.56 (0.545 version.97)\n",
    "* \n",
    "* option.62 < option.61 < option.56 < option.65 < **option.63** version.108 - **BEST OPTION**\n",
    "\n",
    "#### best option:\n",
    "- option 27 -> LB=**0.544** solutions (7,8) + weight (0.0305+0.9695), version 52\n",
    "- option 63 -> LB=**0.545** solutions (7,9) + weight (0.0303215+0.9696785) + sigma(0.000140985), version 108 - **BEST OPTION**\n",
    "\n",
    "#### current option:\n",
    "- option **63** -> LB=0.545 solutions (7,9) + weight (0.0303215+0.9696785) + sigma(0.000140985),  version 108 - **BEST OPTION**\n",
    "\n",
    "#### next option:\n",
    "- options.101-109 -> versions.151-159 : LB=???.???.??? solutions (7,9) * sigma.7.(0.000176 +7d)...(b9 + 0.000142195).9.amgis\n",
    "- options.111-119 -> versions.161-169 : LB=???.???.??? solutions (7,9) * sigma.7.(0.000142195 +7d)...(b9 + 0.000176).9.amgis\n",
    "\n",
    "- replacement in one of Ridge's solutions with ..\n",
    "- artificial operation with the help of: df_submission = df_temp.map(lambda x:x)"
   ]
  },
  {
   "cell_type": "markdown",
   "id": "3ebd6119",
   "metadata": {
    "papermill": {
     "duration": 0.043046,
     "end_time": "2024-10-15T03:50:00.615843",
     "exception": false,
     "start_time": "2024-10-15T03:50:00.572797",
     "status": "completed"
    },
    "tags": []
   },
   "source": [
    "At the end of the competition, all data will be grouped and presented in the usual tables. [Stat | Ensemble of solutions](https://www.kaggle.com/code/vyacheslavbolotin/stat-ensemble-of-solutions)"
   ]
  },
  {
   "cell_type": "code",
   "execution_count": 1,
   "id": "5f29644a",
   "metadata": {
    "execution": {
     "iopub.execute_input": "2024-10-15T03:50:00.705480Z",
     "iopub.status.busy": "2024-10-15T03:50:00.704959Z",
     "iopub.status.idle": "2024-10-15T03:50:00.719337Z",
     "shell.execute_reply": "2024-10-15T03:50:00.718160Z"
    },
    "papermill": {
     "duration": 0.06319,
     "end_time": "2024-10-15T03:50:00.722155",
     "exception": false,
     "start_time": "2024-10-15T03:50:00.658965",
     "status": "completed"
    },
    "tags": []
   },
   "outputs": [],
   "source": [
    "# LAUNCH_VARIANT,ENSEMBLE_SOLUTIONS = 'option 111',['SOLUTION_7','SOLUTION_9']\n",
    "# LAUNCH_VARIANT,ENSEMBLE_SOLUTIONS = 'option 112',['SOLUTION_7','SOLUTION_9']\n",
    "# LAUNCH_VARIANT,ENSEMBLE_SOLUTIONS = 'option 113',['SOLUTION_7','SOLUTION_9']\n",
    "\n",
    "# LAUNCH_VARIANT,ENSEMBLE_SOLUTIONS = 'option 114',['SOLUTION_7','SOLUTION_9']\n",
    "# LAUNCH_VARIANT,ENSEMBLE_SOLUTIONS = 'option 115',['SOLUTION_7','SOLUTION_9']\n",
    "LAUNCH_VARIANT,ENSEMBLE_SOLUTIONS = 'option 116',['SOLUTION_7','SOLUTION_9']\n",
    "\n",
    "# LAUNCH_VARIANT,ENSEMBLE_SOLUTIONS = 'option 117',['SOLUTION_7','SOLUTION_9']\n",
    "# LAUNCH_VARIANT,ENSEMBLE_SOLUTIONS = 'option 118',['SOLUTION_7','SOLUTION_9']\n",
    "# LAUNCH_VARIANT,ENSEMBLE_SOLUTIONS = 'option 119',['SOLUTION_7','SOLUTION_9']"
   ]
  },
  {
   "cell_type": "markdown",
   "id": "f3f121b5",
   "metadata": {
    "papermill": {
     "duration": 0.044172,
     "end_time": "2024-10-15T03:50:00.812281",
     "exception": false,
     "start_time": "2024-10-15T03:50:00.768109",
     "status": "completed"
    },
    "tags": []
   },
   "source": [
    "## 1. [ariel_only_correlation](https://www.kaggle.com/code/vyacheslavbolotin/isic-2024-2-image-lines)\n",
    "\n",
    "### [Sergei Fironov](https://www.kaggle.com/sergeifironov)"
   ]
  },
  {
   "cell_type": "markdown",
   "id": "ea299075",
   "metadata": {
    "papermill": {
     "duration": 0.047186,
     "end_time": "2024-10-15T03:50:00.904264",
     "exception": false,
     "start_time": "2024-10-15T03:50:00.857078",
     "status": "completed"
    },
    "tags": []
   },
   "source": [
    "### preface \n",
    "I was inspired by @AmbrosM idea https://www.kaggle.com/competitions/ariel-data-challenge-2024/discussion/530152#2969648\n",
    "\n",
    "The idea of ​​this approach is to predict the average answer for each test sample. Instead of building models, we will search for the correct answer experimentally. We will select for each spectrum such a multiplier that the transit part multiplied by it will \"line up\" with the other points. The line can be either a straight line or a polynomial up to the 5th degree. For selection, we will use the Nelder-Mead method. The found multiplication factor minus one is our answer.\n",
    "\n",
    "There are some changes in data preparation here.\n",
    "* dt for dark calibration changed in favor https://www.kaggle.com/code/gordonyip/update-calibrating-and-binning-astronomical-data/comments#2964759\n",
    "* signal clipped to zero due this https://www.kaggle.com/competitions/ariel-data-challenge-2024/discussion/530247#2970709\n",
    "* I masked hot and dead pixels with NaN in flat and averaging through spatial dimension."
   ]
  },
  {
   "cell_type": "markdown",
   "id": "43813dd8",
   "metadata": {
    "_kg_hide-input": true,
    "papermill": {
     "duration": 0.044688,
     "end_time": "2024-10-15T03:50:00.994029",
     "exception": false,
     "start_time": "2024-10-15T03:50:00.949341",
     "status": "completed"
    },
    "tags": []
   },
   "source": [
    "### **upd for version 2**: it seems I forgot to remove **5x sigma** copied from somewhere. I wonder how this will affect the score."
   ]
  },
  {
   "cell_type": "markdown",
   "id": "cdbd1eb0",
   "metadata": {
    "_kg_hide-input": true,
    "papermill": {
     "duration": 0.044056,
     "end_time": "2024-10-15T03:50:01.082576",
     "exception": false,
     "start_time": "2024-10-15T03:50:01.038520",
     "status": "completed"
    },
    "tags": []
   },
   "source": [
    "### preprocess the data"
   ]
  },
  {
   "cell_type": "code",
   "execution_count": 2,
   "id": "527efa8b",
   "metadata": {
    "_kg_hide-input": true,
    "execution": {
     "iopub.execute_input": "2024-10-15T03:50:01.173547Z",
     "iopub.status.busy": "2024-10-15T03:50:01.173062Z",
     "iopub.status.idle": "2024-10-15T03:50:01.178883Z",
     "shell.execute_reply": "2024-10-15T03:50:01.177801Z"
    },
    "jupyter": {
     "source_hidden": true
    },
    "papermill": {
     "duration": 0.054754,
     "end_time": "2024-10-15T03:50:01.181854",
     "exception": false,
     "start_time": "2024-10-15T03:50:01.127100",
     "status": "completed"
    },
    "tags": []
   },
   "outputs": [],
   "source": [
    "# import pandas as pd\n",
    "# import matplotlib.pyplot as plt\n",
    "# import numpy as np\n",
    "# import seaborn as sns\n",
    "# import scipy.stats\n",
    "# from tqdm import tqdm\n",
    "\n",
    "# from sklearn.model_selection import cross_val_predict\n",
    "# from sklearn.linear_model import Ridge\n",
    "# from sklearn.metrics import r2_score, mean_squared_error\n",
    "# import itertools\n",
    "# from scipy.optimize import minimize\n",
    "# from functools import partial\n",
    "# import random, os\n",
    "# from astropy.stats import sigma_clip"
   ]
  },
  {
   "cell_type": "code",
   "execution_count": 3,
   "id": "16da12cb",
   "metadata": {
    "_kg_hide-input": true,
    "_kg_hide-output": true,
    "execution": {
     "iopub.execute_input": "2024-10-15T03:50:01.272452Z",
     "iopub.status.busy": "2024-10-15T03:50:01.271950Z",
     "iopub.status.idle": "2024-10-15T03:50:01.277443Z",
     "shell.execute_reply": "2024-10-15T03:50:01.276459Z"
    },
    "jupyter": {
     "source_hidden": true
    },
    "papermill": {
     "duration": 0.053713,
     "end_time": "2024-10-15T03:50:01.280282",
     "exception": false,
     "start_time": "2024-10-15T03:50:01.226569",
     "status": "completed"
    },
    "tags": []
   },
   "outputs": [],
   "source": [
    "# test_adc_info = pd.read_csv('/kaggle/input/ariel-data-challenge-2024/test_adc_info.csv',\n",
    "#                            index_col='planet_id')\n",
    "# axis_info = pd.read_parquet('/kaggle/input/ariel-data-challenge-2024/axis_info.parquet')"
   ]
  },
  {
   "cell_type": "code",
   "execution_count": 4,
   "id": "0eac6366",
   "metadata": {
    "_kg_hide-input": true,
    "_kg_hide-output": true,
    "execution": {
     "iopub.execute_input": "2024-10-15T03:50:01.373340Z",
     "iopub.status.busy": "2024-10-15T03:50:01.372906Z",
     "iopub.status.idle": "2024-10-15T03:50:01.382821Z",
     "shell.execute_reply": "2024-10-15T03:50:01.381389Z"
    },
    "jupyter": {
     "source_hidden": true
    },
    "papermill": {
     "duration": 0.060824,
     "end_time": "2024-10-15T03:50:01.385571",
     "exception": false,
     "start_time": "2024-10-15T03:50:01.324747",
     "status": "completed"
    },
    "tags": []
   },
   "outputs": [],
   "source": [
    "# def apply_linear_corr(linear_corr,clean_signal):\n",
    "#     linear_corr = np.flip(linear_corr, axis=0)\n",
    "#     for x, y in itertools.product(\n",
    "#                 range(clean_signal.shape[1]), range(clean_signal.shape[2])\n",
    "#             ):\n",
    "#         poli = np.poly1d(linear_corr[:, x, y])\n",
    "#         clean_signal[:, x, y] = poli(clean_signal[:, x, y])\n",
    "#     return clean_signal\n",
    "\n",
    "# def clean_dark(signal, dark, dt):\n",
    "#     dark = np.tile(dark, (signal.shape[0], 1, 1))\n",
    "#     signal -= dark* dt[:, np.newaxis, np.newaxis]\n",
    "#     return signal\n",
    "\n",
    "# def preproc(dataset, adc_info, sensor, binning = 15):\n",
    "#     cut_inf, cut_sup = 39, 321\n",
    "#     sensor_sizes_dict = {\"AIRS-CH0\":[[11250, 32, 356], [1, 32, cut_sup-cut_inf]], \"FGS1\":[[135000, 32, 32], [1, 32, 32]]}\n",
    "#     binned_dict = {\"AIRS-CH0\":[11250 // binning // 2, 282], \"FGS1\":[135000 // binning // 2]}\n",
    "#     linear_corr_dict = {\"AIRS-CH0\":(6, 32, 356), \"FGS1\":(6, 32, 32)}\n",
    "#     planet_ids = adc_info.index\n",
    "    \n",
    "#     feats = []\n",
    "#     for i, planet_id in tqdm(list(enumerate(planet_ids))):\n",
    "#         signal = pd.read_parquet(f'/kaggle/input/ariel-data-challenge-2024/{dataset}/{planet_id}/{sensor}_signal.parquet').to_numpy()\n",
    "#         dark_frame = pd.read_parquet(f'/kaggle/input/ariel-data-challenge-2024/{dataset}/' + str(planet_id) + '/' + sensor + '_calibration/dark.parquet', engine='pyarrow').to_numpy()\n",
    "#         dead_frame = pd.read_parquet(f'/kaggle/input/ariel-data-challenge-2024/{dataset}/' + str(planet_id) + '/' + sensor + '_calibration/dead.parquet', engine='pyarrow').to_numpy()\n",
    "#         flat_frame = pd.read_parquet(f'/kaggle/input/ariel-data-challenge-2024/{dataset}/' + str(planet_id) + '/' + sensor + '_calibration/flat.parquet', engine='pyarrow').to_numpy()\n",
    "#         linear_corr = pd.read_parquet(f'/kaggle/input/ariel-data-challenge-2024/{dataset}/' + str(planet_id) + '/' + sensor + '_calibration/linear_corr.parquet').values.astype(np.float64).reshape(linear_corr_dict[sensor])\n",
    "\n",
    "#         signal = signal.reshape(sensor_sizes_dict[sensor][0]) \n",
    "#         gain = adc_info[f'{sensor}_adc_gain'].values[i]\n",
    "#         offset = adc_info[f'{sensor}_adc_offset'].values[i]\n",
    "#         signal = signal / gain + offset\n",
    "        \n",
    "#         hot = sigma_clip(\n",
    "#             dark_frame, sigma=5, maxiters=5\n",
    "#         ).mask\n",
    "        \n",
    "#         if sensor != \"FGS1\":\n",
    "#             signal = signal[:, :, cut_inf:cut_sup] #11250 * 32 * 282\n",
    "#             #dt = axis_info['AIRS-CH0-integration_time'].dropna().values\n",
    "#             dt = np.ones(len(signal))*0.1 \n",
    "#             dt[1::2] += 4.5 #@bilzard idea\n",
    "#             linear_corr = linear_corr[:, :, cut_inf:cut_sup]\n",
    "#             dark_frame = dark_frame[:, cut_inf:cut_sup]\n",
    "#             dead_frame = dead_frame[:, cut_inf:cut_sup]\n",
    "#             flat_frame = flat_frame[:, cut_inf:cut_sup]\n",
    "#             hot = hot[:, cut_inf:cut_sup]\n",
    "#         else:\n",
    "#             dt = np.ones(len(signal))*0.1\n",
    "#             dt[1::2] += 0.1\n",
    "            \n",
    "#         signal = signal.clip(0) #@graySnow idea\n",
    "#         linear_corr_signal = apply_linear_corr(linear_corr, signal)\n",
    "#         signal = clean_dark(linear_corr_signal, dark_frame, dt)\n",
    "        \n",
    "#         flat = flat_frame.reshape(sensor_sizes_dict[sensor][1])\n",
    "#         flat[dead_frame.reshape(sensor_sizes_dict[sensor][1])] = np.nan\n",
    "#         flat[hot.reshape(sensor_sizes_dict[sensor][1])] = np.nan\n",
    "#         signal = signal / flat\n",
    "        \n",
    "#         if sensor == \"FGS1\":\n",
    "#             signal = signal.reshape((sensor_sizes_dict[sensor][0][0], sensor_sizes_dict[sensor][0][1]*sensor_sizes_dict[sensor][0][2]))\n",
    "        \n",
    "#         mean_signal = np.nanmean(signal, axis=1) # mean over the 32*32(FGS1) or 32(CH0) pixels\n",
    "#         cds_signal = (mean_signal[1::2] - mean_signal[0::2])\n",
    "        \n",
    "#         binned = np.zeros((binned_dict[sensor]))\n",
    "#         for j in range(cds_signal.shape[0] // binning):\n",
    "#             binned[j] = cds_signal[j*binning:j*binning+binning].mean(axis=0)\n",
    "                   \n",
    "#         if sensor == \"FGS1\":\n",
    "#             binned = binned.reshape((binned.shape[0],1))\n",
    "            \n",
    "#         feats.append(binned)\n",
    "        \n",
    "#     return np.stack(feats)\n",
    "    \n",
    "# pre_train = np.concatenate([preproc('test', test_adc_info, \"FGS1\", 30*12), preproc('test', test_adc_info, \"AIRS-CH0\", 30)], axis=2)"
   ]
  },
  {
   "cell_type": "markdown",
   "id": "68d30e1d",
   "metadata": {
    "_kg_hide-input": true,
    "papermill": {
     "duration": 0.045761,
     "end_time": "2024-10-15T03:50:01.476507",
     "exception": false,
     "start_time": "2024-10-15T03:50:01.430746",
     "status": "completed"
    },
    "tags": []
   },
   "source": [
    "### fit polynoms for each sample"
   ]
  },
  {
   "cell_type": "code",
   "execution_count": 5,
   "id": "8a0e6d5e",
   "metadata": {
    "_kg_hide-input": true,
    "_kg_hide-output": true,
    "execution": {
     "iopub.execute_input": "2024-10-15T03:50:01.652037Z",
     "iopub.status.busy": "2024-10-15T03:50:01.651596Z",
     "iopub.status.idle": "2024-10-15T03:50:01.660169Z",
     "shell.execute_reply": "2024-10-15T03:50:01.658914Z"
    },
    "jupyter": {
     "source_hidden": true
    },
    "papermill": {
     "duration": 0.059267,
     "end_time": "2024-10-15T03:50:01.663052",
     "exception": false,
     "start_time": "2024-10-15T03:50:01.603785",
     "status": "completed"
    },
    "tags": []
   },
   "outputs": [],
   "source": [
    "# def phase_detector(signal):\n",
    "#     phase1, phase2 = None, None\n",
    "#     best_drop = 0\n",
    "#     for i in range(50//2,150//2):        \n",
    "#         t1 = signal[i:i+20//2].max() - signal[i:i+20//2].min()\n",
    "#         if t1 > best_drop:\n",
    "#             phase1 = i+(20+5)//2\n",
    "#             best_drop = t1\n",
    "    \n",
    "#     best_drop = 0\n",
    "#     for i in range(200//2,250//2):\n",
    "#         t1 = signal[i:i+20//2].max() - signal[i:i+20//2].min()\n",
    "#         if t1 > best_drop:\n",
    "#             phase2 = i-5//2\n",
    "#             best_drop = t1\n",
    "    \n",
    "#     return phase1, phase2\n",
    "\n",
    "# def try_s(signal, p1, p2, deg, s):\n",
    "#     out = list(range(p1-30)) + list(range(p2+30,signal.shape[0]))\n",
    "#     x, y = out, signal[out].tolist()\n",
    "#     x = x + list(range(p1,p2))\n",
    "\n",
    "#     y = y + (signal[p1:p2] * (1 + s[0])).tolist()\n",
    "#     z = np.polyfit(x, y, deg)\n",
    "#     p = np.poly1d(z)\n",
    "#     q = np.abs(p(x) - y).mean()\n",
    "\n",
    "#     if s < 1e-4:\n",
    "#         return q + 1e3\n",
    "\n",
    "#     return q\n",
    "    \n",
    "# def calibrate_signal(signal):\n",
    "#     p1,p2 = phase_detector(signal)\n",
    "\n",
    "#     best_deg, best_score = 1, 1e12\n",
    "#     for deg in range(1, 6):\n",
    "#         f = partial(try_s, signal, p1, p2, deg)\n",
    "#         r = minimize(f, [0.001], method = 'Nelder-Mead')\n",
    "#         s = r.x[0]\n",
    "\n",
    "#         out = list(range(p1-30)) + list(range(p2+30,signal.shape[0]))\n",
    "#         x, y = out, signal[out].tolist()\n",
    "#         x = x + list(range(p1,p2))\n",
    "#         y = y + (signal[p1:p2] * (1 + s)).tolist()\n",
    "    \n",
    "#         z = np.polyfit(x, y, deg)\n",
    "#         p = np.poly1d(z)\n",
    "#         q = np.abs(p(x) - y).mean()\n",
    "        \n",
    "#         if q < best_score:\n",
    "#             best_score = q\n",
    "#             best_deg = deg\n",
    "        \n",
    "#         print(deg, q)\n",
    "            \n",
    "#     z = np.polyfit(x, y, best_deg)\n",
    "#     p = np.poly1d(z)\n",
    "\n",
    "#     return s, x, y, p(x)\n",
    "\n",
    "# def calibrate_train(signal):\n",
    "#     p1,p2 = phase_detector(signal)\n",
    "    \n",
    "#     best_deg, best_score = 1, 1e12\n",
    "#     for deg in range(1, 6):\n",
    "#         f = partial(try_s, signal, p1, p2, deg)\n",
    "#         r = minimize(f, [0.001], method = 'Nelder-Mead')\n",
    "#         s = r.x[0]\n",
    "\n",
    "#         out = list(range(p1-30)) + list(range(p2+30,signal.shape[0]))\n",
    "#         x, y = out, signal[out].tolist()\n",
    "#         x = x + list(range(p1,p2))\n",
    "#         y = y + (signal[p1:p2] * (1 + s)).tolist()\n",
    "    \n",
    "#         z = np.polyfit(x, y, deg)\n",
    "#         p = np.poly1d(z)\n",
    "#         q = np.abs(p(x) - y).mean()\n",
    "        \n",
    "#         if q < best_score:\n",
    "#             best_score = q\n",
    "#             best_deg = deg\n",
    "            \n",
    "#     z = np.polyfit(x, y, best_deg)\n",
    "#     p = np.poly1d(z)\n",
    "    \n",
    "#     return s, p(np.arange(signal.shape[0])), p1, p2\n",
    "\n",
    "\n",
    "# train = pre_train.copy()\n",
    "# all_s = []\n",
    "# for i in range(len(test_adc_info)):\n",
    "#     signal = train[i,:,1:].mean(axis=1)\n",
    "#     s, p, p1, p2 = calibrate_train(pre_train[i,:,1:].mean(axis=1))\n",
    "#     all_s.append(s)\n",
    "        \n",
    "# #copy answer 283 times because we predict mean value\n",
    "# train_s = np.repeat(np.array(all_s), 283).reshape((len(all_s), 283))        \n",
    "# train_sigma = np.ones_like(train_s) * 0.00016"
   ]
  },
  {
   "cell_type": "markdown",
   "id": "7c8670ef",
   "metadata": {
    "_kg_hide-input": true,
    "papermill": {
     "duration": 0.04447,
     "end_time": "2024-10-15T03:50:01.752379",
     "exception": false,
     "start_time": "2024-10-15T03:50:01.707909",
     "status": "completed"
    },
    "tags": []
   },
   "source": [
    "Probably we can accurately estimate sigma from train"
   ]
  },
  {
   "cell_type": "code",
   "execution_count": 6,
   "id": "cfe32fb0",
   "metadata": {
    "_kg_hide-input": true,
    "execution": {
     "iopub.execute_input": "2024-10-15T03:50:01.843086Z",
     "iopub.status.busy": "2024-10-15T03:50:01.842661Z",
     "iopub.status.idle": "2024-10-15T03:50:01.848069Z",
     "shell.execute_reply": "2024-10-15T03:50:01.846960Z"
    },
    "jupyter": {
     "source_hidden": true
    },
    "papermill": {
     "duration": 0.053535,
     "end_time": "2024-10-15T03:50:01.850573",
     "exception": false,
     "start_time": "2024-10-15T03:50:01.797038",
     "status": "completed"
    },
    "tags": []
   },
   "outputs": [],
   "source": [
    "# n = 0\n",
    "# s, x, y, y_new = calibrate_signal(pre_train[n,:,1:].mean(axis=1))\n",
    "# plt.scatter(x,y)\n",
    "# plt.scatter(x,y_new)"
   ]
  },
  {
   "cell_type": "markdown",
   "id": "75b553a7",
   "metadata": {
    "_kg_hide-input": true,
    "papermill": {
     "duration": 0.046619,
     "end_time": "2024-10-15T03:50:01.943581",
     "exception": false,
     "start_time": "2024-10-15T03:50:01.896962",
     "status": "completed"
    },
    "tags": []
   },
   "source": [
    "I call the orange line \"starline\". This is probably what we would see if the planet weren't in the way."
   ]
  },
  {
   "cell_type": "markdown",
   "id": "d80f6b63",
   "metadata": {
    "_kg_hide-input": true,
    "papermill": {
     "duration": 0.045296,
     "end_time": "2024-10-15T03:50:02.036696",
     "exception": false,
     "start_time": "2024-10-15T03:50:01.991400",
     "status": "completed"
    },
    "tags": []
   },
   "source": [
    "### Making submission"
   ]
  },
  {
   "cell_type": "code",
   "execution_count": 7,
   "id": "7e90d207",
   "metadata": {
    "_kg_hide-input": true,
    "execution": {
     "iopub.execute_input": "2024-10-15T03:50:02.129912Z",
     "iopub.status.busy": "2024-10-15T03:50:02.129452Z",
     "iopub.status.idle": "2024-10-15T03:50:02.135433Z",
     "shell.execute_reply": "2024-10-15T03:50:02.133917Z"
    },
    "jupyter": {
     "source_hidden": true
    },
    "papermill": {
     "duration": 0.055857,
     "end_time": "2024-10-15T03:50:02.138512",
     "exception": false,
     "start_time": "2024-10-15T03:50:02.082655",
     "status": "completed"
    },
    "tags": []
   },
   "outputs": [],
   "source": [
    "# ss = pd.read_csv('/kaggle/input/ariel-data-challenge-2024/sample_submission.csv')\n",
    "\n",
    "# preds = train_s.clip(0)\n",
    "# sigmas = train_sigma\n",
    "# submission = pd.DataFrame(np.concatenate([preds,sigmas], axis=1), columns=ss.columns[1:])\n",
    "# submission.index = test_adc_info.index\n",
    "# submission.to_csv('submission_1.csv')"
   ]
  },
  {
   "cell_type": "code",
   "execution_count": 8,
   "id": "c8c5d74b",
   "metadata": {
    "_kg_hide-input": true,
    "execution": {
     "iopub.execute_input": "2024-10-15T03:50:02.232884Z",
     "iopub.status.busy": "2024-10-15T03:50:02.232366Z",
     "iopub.status.idle": "2024-10-15T03:50:02.238977Z",
     "shell.execute_reply": "2024-10-15T03:50:02.237372Z"
    },
    "jupyter": {
     "source_hidden": true
    },
    "papermill": {
     "duration": 0.058495,
     "end_time": "2024-10-15T03:50:02.242207",
     "exception": false,
     "start_time": "2024-10-15T03:50:02.183712",
     "status": "completed"
    },
    "tags": []
   },
   "outputs": [],
   "source": [
    "# submission"
   ]
  },
  {
   "cell_type": "markdown",
   "id": "54d91f2e",
   "metadata": {
    "papermill": {
     "duration": 0.04529,
     "end_time": "2024-10-15T03:50:02.334439",
     "exception": false,
     "start_time": "2024-10-15T03:50:02.289149",
     "status": "completed"
    },
    "tags": []
   },
   "source": [
    "### [ariel_local_purple_hat_inference](https://www.kaggle.com/code/sergeifironov/ariel-local-purple-hat-inference)\n",
    "\n",
    "### [Sergei Fironov](https://www.kaggle.com/sergeifironov)"
   ]
  },
  {
   "cell_type": "code",
   "execution_count": null,
   "id": "6c922fa5",
   "metadata": {
    "_kg_hide-input": true,
    "jupyter": {
     "source_hidden": true
    },
    "papermill": {
     "duration": 0.043842,
     "end_time": "2024-10-15T03:50:02.426354",
     "exception": false,
     "start_time": "2024-10-15T03:50:02.382512",
     "status": "completed"
    },
    "tags": []
   },
   "outputs": [],
   "source": []
  },
  {
   "cell_type": "markdown",
   "id": "5dc50734",
   "metadata": {
    "papermill": {
     "duration": 0.044493,
     "end_time": "2024-10-15T03:50:02.518562",
     "exception": false,
     "start_time": "2024-10-15T03:50:02.474069",
     "status": "completed"
    },
    "tags": []
   },
   "source": [
    "## 2. [ariel_only_correlation LB: 0.515](https://www.kaggle.com/code/jaejohn/ariel-only-correlation-lb-0-515)\n",
    "\n",
    "### [G John Rao](https://www.kaggle.com/jaejohn)"
   ]
  },
  {
   "cell_type": "markdown",
   "id": "2cf288ba",
   "metadata": {
    "_kg_hide-input": true,
    "jupyter": {
     "source_hidden": true
    },
    "papermill": {
     "duration": 0.044723,
     "end_time": "2024-10-15T03:50:02.610585",
     "exception": false,
     "start_time": "2024-10-15T03:50:02.565862",
     "status": "completed"
    },
    "tags": []
   },
   "source": [
    "### preface \n",
    "I was inspired by @AmbrosM idea https://www.kaggle.com/competitions/ariel-data-challenge-2024/discussion/530152#2969648\n",
    "\n",
    "The idea of ​​this approach is to predict the average answer for each test sample. Instead of building models, we will search for the correct answer experimentally. We will select for each spectrum such a multiplier that the transit part multiplied by it will \"line up\" with the other points. The line can be either a straight line or a polynomial up to the 5th degree. For selection, we will use the Nelder-Mead method. The found multiplication factor minus one is our answer.\n",
    "\n",
    "There are some changes in data preparation here.\n",
    "* dt for dark calibration changed in favor https://www.kaggle.com/code/gordonyip/update-calibrating-and-binning-astronomical-data/comments#2964759\n",
    "* signal clipped to zero due this https://www.kaggle.com/competitions/ariel-data-challenge-2024/discussion/530247#2970709\n",
    "* I masked hot and dead pixels with NaN in flat and averaging through spatial dimension."
   ]
  },
  {
   "cell_type": "markdown",
   "id": "1ba1e86e",
   "metadata": {
    "_kg_hide-input": true,
    "papermill": {
     "duration": 0.045395,
     "end_time": "2024-10-15T03:50:02.702150",
     "exception": false,
     "start_time": "2024-10-15T03:50:02.656755",
     "status": "completed"
    },
    "tags": []
   },
   "source": [
    "### **upd for version 2**: it seems I forgot to remove **5x sigma** copied from somewhere. I wonder how this will affect the score.\n",
    "\n",
    "#### preprocess the data"
   ]
  },
  {
   "cell_type": "code",
   "execution_count": 9,
   "id": "551993d6",
   "metadata": {
    "_kg_hide-input": true,
    "execution": {
     "iopub.execute_input": "2024-10-15T03:50:02.796509Z",
     "iopub.status.busy": "2024-10-15T03:50:02.796015Z",
     "iopub.status.idle": "2024-10-15T03:50:06.985088Z",
     "shell.execute_reply": "2024-10-15T03:50:06.983718Z"
    },
    "jupyter": {
     "source_hidden": true
    },
    "papermill": {
     "duration": 4.239958,
     "end_time": "2024-10-15T03:50:06.988250",
     "exception": false,
     "start_time": "2024-10-15T03:50:02.748292",
     "status": "completed"
    },
    "tags": []
   },
   "outputs": [],
   "source": [
    "import pandas as pd\n",
    "import matplotlib.pyplot as plt\n",
    "import numpy as np\n",
    "import seaborn as sns\n",
    "import scipy.stats\n",
    "from tqdm import tqdm\n",
    "\n",
    "from sklearn.model_selection import cross_val_predict\n",
    "from sklearn.linear_model import Ridge\n",
    "from sklearn.metrics import r2_score, mean_squared_error\n",
    "import itertools\n",
    "from scipy.optimize import minimize\n",
    "from functools import partial\n",
    "import random, os\n",
    "from astropy.stats import sigma_clip"
   ]
  },
  {
   "cell_type": "code",
   "execution_count": 10,
   "id": "e78fabd3",
   "metadata": {
    "_kg_hide-input": true,
    "_kg_hide-output": true,
    "execution": {
     "iopub.execute_input": "2024-10-15T03:50:07.081267Z",
     "iopub.status.busy": "2024-10-15T03:50:07.080546Z",
     "iopub.status.idle": "2024-10-15T03:50:07.272216Z",
     "shell.execute_reply": "2024-10-15T03:50:07.270833Z"
    },
    "jupyter": {
     "source_hidden": true
    },
    "papermill": {
     "duration": 0.241647,
     "end_time": "2024-10-15T03:50:07.275252",
     "exception": false,
     "start_time": "2024-10-15T03:50:07.033605",
     "status": "completed"
    },
    "tags": []
   },
   "outputs": [],
   "source": [
    "test_adc_info = pd.read_csv('/kaggle/input/ariel-data-challenge-2024/test_adc_info.csv',\n",
    "                           index_col='planet_id')\n",
    "axis_info = pd.read_parquet('/kaggle/input/ariel-data-challenge-2024/axis_info.parquet')"
   ]
  },
  {
   "cell_type": "code",
   "execution_count": 11,
   "id": "5257a1c2",
   "metadata": {
    "_kg_hide-input": true,
    "_kg_hide-output": true,
    "execution": {
     "iopub.execute_input": "2024-10-15T03:50:07.366635Z",
     "iopub.status.busy": "2024-10-15T03:50:07.366073Z",
     "iopub.status.idle": "2024-10-15T03:50:21.212552Z",
     "shell.execute_reply": "2024-10-15T03:50:21.210978Z"
    },
    "jupyter": {
     "source_hidden": true
    },
    "papermill": {
     "duration": 13.895595,
     "end_time": "2024-10-15T03:50:21.215296",
     "exception": false,
     "start_time": "2024-10-15T03:50:07.319701",
     "status": "completed"
    },
    "tags": []
   },
   "outputs": [
    {
     "name": "stderr",
     "output_type": "stream",
     "text": [
      "100%|██████████| 1/1 [00:07<00:00,  7.36s/it]\n",
      "100%|██████████| 1/1 [00:06<00:00,  6.43s/it]\n"
     ]
    }
   ],
   "source": [
    "def apply_linear_corr(linear_corr,clean_signal):\n",
    "    linear_corr = np.flip(linear_corr, axis=0)\n",
    "    for x, y in itertools.product(\n",
    "                range(clean_signal.shape[1]), range(clean_signal.shape[2])\n",
    "            ):\n",
    "        poli = np.poly1d(linear_corr[:, x, y])\n",
    "        clean_signal[:, x, y] = poli(clean_signal[:, x, y])\n",
    "    return clean_signal\n",
    "\n",
    "def clean_dark(signal, dark, dt):\n",
    "    dark = np.tile(dark, (signal.shape[0], 1, 1))\n",
    "    signal -= dark* dt[:, np.newaxis, np.newaxis]\n",
    "    return signal\n",
    "\n",
    "def preproc(dataset, adc_info, sensor, binning = 15):\n",
    "    cut_inf, cut_sup = 39, 321\n",
    "    sensor_sizes_dict = {\"AIRS-CH0\":[[11250, 32, 356], [1, 32, cut_sup-cut_inf]], \"FGS1\":[[135000, 32, 32], [1, 32, 32]]}\n",
    "    binned_dict = {\"AIRS-CH0\":[11250 // binning // 2, 282], \"FGS1\":[135000 // binning // 2]}\n",
    "    linear_corr_dict = {\"AIRS-CH0\":(6, 32, 356), \"FGS1\":(6, 32, 32)}\n",
    "    planet_ids = adc_info.index\n",
    "    \n",
    "    feats = []\n",
    "    for i, planet_id in tqdm(list(enumerate(planet_ids))):\n",
    "        signal = pd.read_parquet(f'/kaggle/input/ariel-data-challenge-2024/{dataset}/{planet_id}/{sensor}_signal.parquet').to_numpy()\n",
    "        dark_frame = pd.read_parquet(f'/kaggle/input/ariel-data-challenge-2024/{dataset}/' + str(planet_id) + '/' + sensor + '_calibration/dark.parquet', engine='pyarrow').to_numpy()\n",
    "        dead_frame = pd.read_parquet(f'/kaggle/input/ariel-data-challenge-2024/{dataset}/' + str(planet_id) + '/' + sensor + '_calibration/dead.parquet', engine='pyarrow').to_numpy()\n",
    "        flat_frame = pd.read_parquet(f'/kaggle/input/ariel-data-challenge-2024/{dataset}/' + str(planet_id) + '/' + sensor + '_calibration/flat.parquet', engine='pyarrow').to_numpy()\n",
    "        linear_corr = pd.read_parquet(f'/kaggle/input/ariel-data-challenge-2024/{dataset}/' + str(planet_id) + '/' + sensor + '_calibration/linear_corr.parquet').values.astype(np.float64).reshape(linear_corr_dict[sensor])\n",
    "\n",
    "        signal = signal.reshape(sensor_sizes_dict[sensor][0]) \n",
    "        gain = adc_info[f'{sensor}_adc_gain'].values[i]\n",
    "        offset = adc_info[f'{sensor}_adc_offset'].values[i]\n",
    "        signal = signal / gain + offset\n",
    "        \n",
    "        hot = sigma_clip(\n",
    "            dark_frame, sigma=5, maxiters=5\n",
    "        ).mask\n",
    "        \n",
    "        if sensor != \"FGS1\":\n",
    "            signal = signal[:, :, cut_inf:cut_sup] #11250 * 32 * 282\n",
    "            #dt = axis_info['AIRS-CH0-integration_time'].dropna().values\n",
    "            dt = np.ones(len(signal))*0.1 \n",
    "            dt[1::2] += 4.5 #@bilzard idea\n",
    "            linear_corr = linear_corr[:, :, cut_inf:cut_sup]\n",
    "            dark_frame = dark_frame[:, cut_inf:cut_sup]\n",
    "            dead_frame = dead_frame[:, cut_inf:cut_sup]\n",
    "            flat_frame = flat_frame[:, cut_inf:cut_sup]\n",
    "            hot = hot[:, cut_inf:cut_sup]\n",
    "        else:\n",
    "            dt = np.ones(len(signal))*0.1\n",
    "            dt[1::2] += 0.1\n",
    "            \n",
    "        signal = signal.clip(0) #@graySnow idea\n",
    "        linear_corr_signal = apply_linear_corr(linear_corr, signal)\n",
    "        signal = clean_dark(linear_corr_signal, dark_frame, dt)\n",
    "        \n",
    "        flat = flat_frame.reshape(sensor_sizes_dict[sensor][1])\n",
    "        flat[dead_frame.reshape(sensor_sizes_dict[sensor][1])] = np.nan\n",
    "        flat[hot.reshape(sensor_sizes_dict[sensor][1])] = np.nan\n",
    "        signal = signal / flat\n",
    "        \n",
    "        if sensor == \"FGS1\":\n",
    "            signal = signal.reshape((sensor_sizes_dict[sensor][0][0], sensor_sizes_dict[sensor][0][1]*sensor_sizes_dict[sensor][0][2]))\n",
    "        \n",
    "        mean_signal = np.nanmean(signal, axis=1) # mean over the 32*32(FGS1) or 32(CH0) pixels\n",
    "        cds_signal = (mean_signal[1::2] - mean_signal[0::2])\n",
    "        \n",
    "        binned = np.zeros((binned_dict[sensor]))\n",
    "        for j in range(cds_signal.shape[0] // binning):\n",
    "            binned[j] = cds_signal[j*binning:j*binning+binning].mean(axis=0)\n",
    "                   \n",
    "        if sensor == \"FGS1\":\n",
    "            binned = binned.reshape((binned.shape[0],1))\n",
    "            \n",
    "        feats.append(binned)\n",
    "        \n",
    "    return np.stack(feats)\n",
    "    \n",
    "pre_train = np.concatenate([preproc('test', test_adc_info, \"FGS1\", 30*12), preproc('test', test_adc_info, \"AIRS-CH0\", 30)], axis=2)"
   ]
  },
  {
   "cell_type": "markdown",
   "id": "03b48636",
   "metadata": {
    "_kg_hide-input": true,
    "papermill": {
     "duration": 0.046407,
     "end_time": "2024-10-15T03:50:21.308513",
     "exception": false,
     "start_time": "2024-10-15T03:50:21.262106",
     "status": "completed"
    },
    "tags": []
   },
   "source": [
    "### fit polynoms for each sample"
   ]
  },
  {
   "cell_type": "code",
   "execution_count": 12,
   "id": "d2d2b600",
   "metadata": {
    "_kg_hide-input": true,
    "_kg_hide-output": true,
    "execution": {
     "iopub.execute_input": "2024-10-15T03:50:21.404697Z",
     "iopub.status.busy": "2024-10-15T03:50:21.404260Z",
     "iopub.status.idle": "2024-10-15T03:50:21.485297Z",
     "shell.execute_reply": "2024-10-15T03:50:21.483864Z"
    },
    "jupyter": {
     "source_hidden": true
    },
    "papermill": {
     "duration": 0.132811,
     "end_time": "2024-10-15T03:50:21.488457",
     "exception": false,
     "start_time": "2024-10-15T03:50:21.355646",
     "status": "completed"
    },
    "tags": []
   },
   "outputs": [],
   "source": [
    "def phase_detector(signal):\n",
    "    phase1, phase2 = None, None\n",
    "    best_drop = 0\n",
    "    for i in range(50//2,150//2):        \n",
    "        t1 = signal[i:i+20//2].max() - signal[i:i+20//2].min()\n",
    "        if t1 > best_drop:\n",
    "            phase1 = i+(20+5)//2\n",
    "            best_drop = t1\n",
    "    \n",
    "    best_drop = 0\n",
    "    for i in range(200//2,250//2):\n",
    "        t1 = signal[i:i+20//2].max() - signal[i:i+20//2].min()\n",
    "        if t1 > best_drop:\n",
    "            phase2 = i-5//2\n",
    "            best_drop = t1\n",
    "    \n",
    "    return phase1, phase2\n",
    "\n",
    "def try_s(signal, p1, p2, deg, s):\n",
    "    out = list(range(p1-30)) + list(range(p2+30,signal.shape[0]))\n",
    "    x, y = out, signal[out].tolist()\n",
    "    x = x + list(range(p1,p2))\n",
    "\n",
    "    y = y + (signal[p1:p2] * (1 + s[0])).tolist()\n",
    "    z = np.polyfit(x, y, deg)\n",
    "    p = np.poly1d(z)\n",
    "    q = np.abs(p(x) - y).mean()\n",
    "\n",
    "    if s < 1e-4:\n",
    "        return q + 1e3\n",
    "\n",
    "    return q\n",
    "    \n",
    "def calibrate_signal(signal):\n",
    "    p1,p2 = phase_detector(signal)\n",
    "\n",
    "    best_deg, best_score = 1, 1e12\n",
    "    for deg in range(1, 6):\n",
    "        f = partial(try_s, signal, p1, p2, deg)\n",
    "        r = minimize(f, [0.001], method = 'Nelder-Mead')\n",
    "        s = r.x[0]\n",
    "\n",
    "        out = list(range(p1-30)) + list(range(p2+30,signal.shape[0]))\n",
    "        x, y = out, signal[out].tolist()\n",
    "        x = x + list(range(p1,p2))\n",
    "        y = y + (signal[p1:p2] * (1 + s)).tolist()\n",
    "    \n",
    "        z = np.polyfit(x, y, deg)\n",
    "        p = np.poly1d(z)\n",
    "        q = np.abs(p(x) - y).mean()\n",
    "        \n",
    "        if q < best_score:\n",
    "            best_score = q\n",
    "            best_deg = deg\n",
    "        \n",
    "        print(deg, q)\n",
    "            \n",
    "    z = np.polyfit(x, y, best_deg)\n",
    "    p = np.poly1d(z)\n",
    "\n",
    "    return s, x, y, p(x)\n",
    "\n",
    "def calibrate_train(signal):\n",
    "    p1,p2 = phase_detector(signal)\n",
    "    \n",
    "    best_deg, best_score = 1, 1e12\n",
    "    for deg in range(1, 6):\n",
    "        f = partial(try_s, signal, p1, p2, deg)\n",
    "        r = minimize(f, [0.001], method = 'Nelder-Mead')\n",
    "        s = r.x[0]\n",
    "\n",
    "        out = list(range(p1-30)) + list(range(p2+30,signal.shape[0]))\n",
    "        x, y = out, signal[out].tolist()\n",
    "        x = x + list(range(p1,p2))\n",
    "        y = y + (signal[p1:p2] * (1 + s)).tolist()\n",
    "    \n",
    "        z = np.polyfit(x, y, deg)\n",
    "        p = np.poly1d(z)\n",
    "        q = np.abs(p(x) - y).mean()\n",
    "        \n",
    "        if q < best_score:\n",
    "            best_score = q\n",
    "            best_deg = deg\n",
    "            \n",
    "    z = np.polyfit(x, y, best_deg)\n",
    "    p = np.poly1d(z)\n",
    "    \n",
    "    return s, p(np.arange(signal.shape[0])), p1, p2\n",
    "\n",
    "\n",
    "train = pre_train.copy()\n",
    "all_s = []\n",
    "for i in range(len(test_adc_info)):\n",
    "    signal = train[i,:,1:].mean(axis=1)\n",
    "    s, p, p1, p2 = calibrate_train(pre_train[i,:,1:].mean(axis=1))\n",
    "    all_s.append(s)\n",
    "        \n",
    "#copy answer 283 times because we predict mean value\n",
    "train_s = np.repeat(np.array(all_s), 283).reshape((len(all_s), 283))        \n",
    "train_sigma = np.ones_like(train_s) * 0.000176"
   ]
  },
  {
   "cell_type": "markdown",
   "id": "fcb59b7a",
   "metadata": {
    "_kg_hide-input": true,
    "papermill": {
     "duration": 0.045517,
     "end_time": "2024-10-15T03:50:21.581722",
     "exception": false,
     "start_time": "2024-10-15T03:50:21.536205",
     "status": "completed"
    },
    "tags": []
   },
   "source": [
    "Probably we can accurately estimate sigma from train"
   ]
  },
  {
   "cell_type": "code",
   "execution_count": 13,
   "id": "524c25b6",
   "metadata": {
    "_kg_hide-input": true,
    "_kg_hide-output": true,
    "execution": {
     "iopub.execute_input": "2024-10-15T03:50:21.676708Z",
     "iopub.status.busy": "2024-10-15T03:50:21.676253Z",
     "iopub.status.idle": "2024-10-15T03:50:22.126216Z",
     "shell.execute_reply": "2024-10-15T03:50:22.124926Z"
    },
    "jupyter": {
     "source_hidden": true
    },
    "papermill": {
     "duration": 0.500146,
     "end_time": "2024-10-15T03:50:22.128880",
     "exception": false,
     "start_time": "2024-10-15T03:50:21.628734",
     "status": "completed"
    },
    "tags": []
   },
   "outputs": [
    {
     "name": "stdout",
     "output_type": "stream",
     "text": [
      "1 0.07244656257090913\n",
      "2 0.06997614558677229\n",
      "3 0.06340499597848703\n",
      "4 0.06369586726506939\n",
      "5 0.06329606118528834\n"
     ]
    },
    {
     "data": {
      "text/plain": [
       "<matplotlib.collections.PathCollection at 0x7831edd3a2f0>"
      ]
     },
     "execution_count": 13,
     "metadata": {},
     "output_type": "execute_result"
    },
    {
     "data": {
      "image/png": "[encoded data removed]",
      "text/plain": [
       "<Figure size 640x480 with 1 Axes>"
      ]
     },
     "metadata": {},
     "output_type": "display_data"
    }
   ],
   "source": [
    "n = 0\n",
    "s, x, y, y_new = calibrate_signal(pre_train[n,:,1:].mean(axis=1))\n",
    "plt.scatter(x,y)\n",
    "plt.scatter(x,y_new)"
   ]
  },
  {
   "cell_type": "markdown",
   "id": "4ae721cb",
   "metadata": {
    "_kg_hide-input": true,
    "papermill": {
     "duration": 0.045822,
     "end_time": "2024-10-15T03:50:22.221503",
     "exception": false,
     "start_time": "2024-10-15T03:50:22.175681",
     "status": "completed"
    },
    "tags": []
   },
   "source": [
    "I call the orange line \"starline\". This is probably what we would see if the planet weren't in the way."
   ]
  },
  {
   "cell_type": "markdown",
   "id": "5e45128f",
   "metadata": {
    "_kg_hide-input": true,
    "papermill": {
     "duration": 0.045697,
     "end_time": "2024-10-15T03:50:22.313968",
     "exception": false,
     "start_time": "2024-10-15T03:50:22.268271",
     "status": "completed"
    },
    "tags": []
   },
   "source": [
    "### Making submission"
   ]
  },
  {
   "cell_type": "code",
   "execution_count": 14,
   "id": "2a264db1",
   "metadata": {
    "_kg_hide-input": true,
    "execution": {
     "iopub.execute_input": "2024-10-15T03:50:22.409161Z",
     "iopub.status.busy": "2024-10-15T03:50:22.408680Z",
     "iopub.status.idle": "2024-10-15T03:50:22.448810Z",
     "shell.execute_reply": "2024-10-15T03:50:22.447398Z"
    },
    "jupyter": {
     "source_hidden": true
    },
    "papermill": {
     "duration": 0.091769,
     "end_time": "2024-10-15T03:50:22.451959",
     "exception": false,
     "start_time": "2024-10-15T03:50:22.360190",
     "status": "completed"
    },
    "tags": []
   },
   "outputs": [],
   "source": [
    "ss = pd.read_csv('/kaggle/input/ariel-data-challenge-2024/sample_submission.csv')\n",
    "\n",
    "preds = train_s.clip(0)\n",
    "sigmas = train_sigma\n",
    "submission = pd.DataFrame(np.concatenate([preds,sigmas], axis=1), columns=ss.columns[1:])\n",
    "submission.index = test_adc_info.index\n",
    "submission.to_csv('submission_2.csv')"
   ]
  },
  {
   "cell_type": "markdown",
   "id": "88ca9289",
   "metadata": {
    "papermill": {
     "duration": 0.046013,
     "end_time": "2024-10-15T03:50:22.546062",
     "exception": false,
     "start_time": "2024-10-15T03:50:22.500049",
     "status": "completed"
    },
    "tags": []
   },
   "source": [
    "## 3. [Fork of NeurIPS Ariel 2024 - Starter 5be123](https://www.kaggle.com/code/regisvargas/fork-of-neurips-ariel-2024-starter-5be123)\n",
    "\n",
    "### [Regis Vargas](https://www.kaggle.com/regisvargas)"
   ]
  },
  {
   "cell_type": "markdown",
   "id": "09a8df35",
   "metadata": {
    "_kg_hide-input": true,
    "jupyter": {
     "source_hidden": true
    },
    "papermill": {
     "duration": 0.046284,
     "end_time": "2024-10-15T03:50:22.638215",
     "exception": false,
     "start_time": "2024-10-15T03:50:22.591931",
     "status": "completed"
    },
    "tags": []
   },
   "source": [
    "References\n",
    "\n",
    "1. [Why Did Calibration Lead to a Lower Public Score When Combining Two Kaggle Notebooks?](https://www.kaggle.com/competitions/ariel-data-challenge-2024/discussion/530472)\n",
    "\n",
    "2. [Fork of NeurIPS Ariel 2024 - Starter 5be123](https://www.kaggle.com/code/regisvargas/fork-of-neurips-ariel-2024-starter-5be123)\n",
    "\n",
    "3. [NeurIPS Ariel 2024 - Starter withdifferentparametr](https://www.kaggle.com/code/bingyuniu/neurips-ariel-2024-starter-withdifferentparametr)\n",
    "\n",
    "4. [[UPDATE]Calibrating and Binning Astronomical Data](https://www.kaggle.com/code/gordonyip/update-calibrating-and-binning-astronomical-data)\n",
    "\n",
    "5. [[UPDATE]Calibrating and Binning Astronomical Data (copy)](https://www.kaggle.com/code/aaronjday/update-calibrating-and-binning-astronomical-data)"
   ]
  },
  {
   "cell_type": "markdown",
   "id": "14c91a29",
   "metadata": {
    "_kg_hide-input": true,
    "jupyter": {
     "source_hidden": true
    },
    "papermill": {
     "duration": 0.045738,
     "end_time": "2024-10-15T03:50:22.731029",
     "exception": false,
     "start_time": "2024-10-15T03:50:22.685291",
     "status": "completed"
    },
    "tags": []
   },
   "source": [
    "### Initialization\n",
    "\n",
    "This competition seems requires strong scientific background and I had lot of confusion during EDA process. Therefore, I just build a simple starter for future coding.\n",
    "\n",
    "#### Load Library"
   ]
  },
  {
   "cell_type": "code",
   "execution_count": 15,
   "id": "82825c9e",
   "metadata": {
    "_kg_hide-input": true,
    "execution": {
     "iopub.execute_input": "2024-10-15T03:50:22.825888Z",
     "iopub.status.busy": "2024-10-15T03:50:22.824678Z",
     "iopub.status.idle": "2024-10-15T03:50:22.831060Z",
     "shell.execute_reply": "2024-10-15T03:50:22.829715Z"
    },
    "jupyter": {
     "source_hidden": true
    },
    "papermill": {
     "duration": 0.056752,
     "end_time": "2024-10-15T03:50:22.833625",
     "exception": false,
     "start_time": "2024-10-15T03:50:22.776873",
     "status": "completed"
    },
    "tags": []
   },
   "outputs": [],
   "source": [
    "# import matplotlib.pyplot as plt\n",
    "# import seaborn as sns\n",
    "# import pandas as pd\n",
    "# import polars as pl\n",
    "# import numpy as np\n",
    "# import torch\n",
    "# # import torch.nn as nn\n",
    "# # import torch.optim as optim\n",
    "# # from torch.utils.data import DataLoader, Dataset\n",
    "# from tqdm import tqdm\n",
    "# import pickle\n",
    "# import time\n",
    "# import os\n",
    "# import pickle\n",
    "# import seaborn as sns\n",
    "# import scipy.stats\n",
    "# from sklearn.model_selection import cross_val_predict\n",
    "# from sklearn.linear_model import Ridge\n",
    "# from sklearn.metrics import r2_score, mean_squared_error"
   ]
  },
  {
   "cell_type": "code",
   "execution_count": 16,
   "id": "3d007ae8",
   "metadata": {
    "_kg_hide-input": true,
    "execution": {
     "iopub.execute_input": "2024-10-15T03:50:22.931319Z",
     "iopub.status.busy": "2024-10-15T03:50:22.930857Z",
     "iopub.status.idle": "2024-10-15T03:50:22.936716Z",
     "shell.execute_reply": "2024-10-15T03:50:22.935491Z"
    },
    "jupyter": {
     "source_hidden": true
    },
    "papermill": {
     "duration": 0.058653,
     "end_time": "2024-10-15T03:50:22.939434",
     "exception": false,
     "start_time": "2024-10-15T03:50:22.880781",
     "status": "completed"
    },
    "tags": []
   },
   "outputs": [],
   "source": [
    "# # Load Meta-Data\n",
    "# PATH = \"/kaggle/input/ariel-data-challenge-2024\"\n",
    "# train_adc_info = pd.read_csv('/kaggle/input/ariel-data-challenge-2024/train_adc_info.csv', \n",
    "#                              index_col='planet_id')\n",
    "# train_labels = pd.read_csv('/kaggle/input/ariel-data-challenge-2024/train_labels.csv',\n",
    "#                            index_col='planet_id')\n",
    "# wavelengths = pd.read_csv(f'{PATH}/wavelengths.csv')\n",
    "# axis_info = pd.read_parquet(os.path.join(PATH,'axis_info.parquet'))"
   ]
  },
  {
   "cell_type": "code",
   "execution_count": 17,
   "id": "abab3edc",
   "metadata": {
    "_kg_hide-input": true,
    "execution": {
     "iopub.execute_input": "2024-10-15T03:50:23.039288Z",
     "iopub.status.busy": "2024-10-15T03:50:23.038161Z",
     "iopub.status.idle": "2024-10-15T03:50:23.043784Z",
     "shell.execute_reply": "2024-10-15T03:50:23.042555Z"
    },
    "jupyter": {
     "source_hidden": true
    },
    "papermill": {
     "duration": 0.058125,
     "end_time": "2024-10-15T03:50:23.046294",
     "exception": false,
     "start_time": "2024-10-15T03:50:22.988169",
     "status": "completed"
    },
    "tags": []
   },
   "outputs": [],
   "source": [
    "# train_adc_info['AIRS-CH0_adc_gain'].loc[785834]"
   ]
  },
  {
   "cell_type": "markdown",
   "id": "5ece7690",
   "metadata": {
    "_kg_hide-input": true,
    "papermill": {
     "duration": 0.045938,
     "end_time": "2024-10-15T03:50:23.139629",
     "exception": false,
     "start_time": "2024-10-15T03:50:23.093691",
     "status": "completed"
    },
    "tags": []
   },
   "source": [
    "### Pre-Processing\n",
    "#### Load Functions"
   ]
  },
  {
   "cell_type": "code",
   "execution_count": 18,
   "id": "5d0ab301",
   "metadata": {
    "_kg_hide-input": true,
    "execution": {
     "iopub.execute_input": "2024-10-15T03:50:23.234132Z",
     "iopub.status.busy": "2024-10-15T03:50:23.233695Z",
     "iopub.status.idle": "2024-10-15T03:50:23.239995Z",
     "shell.execute_reply": "2024-10-15T03:50:23.238682Z"
    },
    "jupyter": {
     "source_hidden": true
    },
    "papermill": {
     "duration": 0.057026,
     "end_time": "2024-10-15T03:50:23.242779",
     "exception": false,
     "start_time": "2024-10-15T03:50:23.185753",
     "status": "completed"
    },
    "tags": []
   },
   "outputs": [],
   "source": [
    "# import pywt\n",
    "# def wavelet_denoising(data, wavelet = 'db10', sigma=None):\n",
    "#     \"\"\"Denoises the signal using SURE wavelet shrinkage with the specified wavelet.\"\"\"\n",
    "#     # Criar uma cópia do array para evitar o erro de \"read-only\"\n",
    "#     data = np.array(data, copy=True)\n",
    "    \n",
    "#     # Decompose the signal using discrete wavelet transform\n",
    "#     coeffs = pywt.wavedec(data, wavelet)\n",
    "    \n",
    "#     # Estimate noise level if sigma is not provided\n",
    "#     if sigma is None:\n",
    "#         # Using the Median Absolute Deviation (MAD) estimator for noise level\n",
    "#         sigma = np.median(np.abs(coeffs[-1])) / 0.6745\n",
    "#     # Apply thresholding (SURE or hard/soft)\n",
    "#     threshold = sigma * np.sqrt(2 * np.log(len(data)))\n",
    "#     new_coeffs = [pywt.threshold(c, threshold, mode='soft') for c in coeffs]\n",
    "#     # Reconstruct the signal using the modified coefficients\n",
    "#     return pywt.waverec(new_coeffs, wavelet)"
   ]
  },
  {
   "cell_type": "code",
   "execution_count": 19,
   "id": "0a16eb40",
   "metadata": {
    "_kg_hide-input": true,
    "execution": {
     "iopub.execute_input": "2024-10-15T03:50:23.341093Z",
     "iopub.status.busy": "2024-10-15T03:50:23.340677Z",
     "iopub.status.idle": "2024-10-15T03:50:23.353737Z",
     "shell.execute_reply": "2024-10-15T03:50:23.352439Z"
    },
    "jupyter": {
     "source_hidden": true
    },
    "papermill": {
     "duration": 0.065741,
     "end_time": "2024-10-15T03:50:23.356550",
     "exception": false,
     "start_time": "2024-10-15T03:50:23.290809",
     "status": "completed"
    },
    "tags": []
   },
   "outputs": [],
   "source": [
    "# %%writefile utils.py\n",
    "# import pandas as pd\n",
    "# import polars as pl\n",
    "# import numpy as np\n",
    "# from tqdm import tqdm\n",
    "# import pickle\n",
    "# PATH = \"/kaggle/input/ariel-data-challenge-2024\"\n",
    "# cut_inf, cut_sup = 39, 321\n",
    "# def load_signal_data(planet_id, dataset, instrument, img_size):\n",
    "#     file_path = f'{PATH}/{dataset}/{planet_id}/{instrument}_signal.parquet'\n",
    "#     signal = pd.read_parquet(file_path)\n",
    "#     if instrument == \"AIRS-CH0\":\n",
    "#         signal = signal.values.astype(np.float64).reshape((signal.shape[0], 32, 356))\n",
    "#     else:\n",
    "#         signal = signal.values.astype(np.float64).reshape((signal.shape[0], 32, 32))\n",
    "#     if dataset == 'train':\n",
    "#         gain = train_adc_info[instrument+'_adc_gain'].loc[planet_id]\n",
    "#         offset = train_adc_info[instrument+'_adc_offset'].loc[planet_id]\n",
    "#         signal = ADC_convert(signal, gain, offset)\n",
    "#     else:\n",
    "#         gain = test_adc_info[instrument+'_adc_gain'].loc[planet_id]\n",
    "#         offset = test_adc_info[instrument+'_adc_offset'].loc[planet_id]\n",
    "#         signal = ADC_convert(signal, gain, offset)\n",
    "#     if instrument == \"AIRS-CH0\":\n",
    "#         dt_airs = axis_info['AIRS-CH0-integration_time'].dropna().values\n",
    "#         dt_airs[1::2] += 0.1\n",
    "#         signal = signal[:, :, cut_inf:cut_sup]\n",
    "#     signal = signal.reshape(signal.shape[0], signal.shape[1] * signal.shape[2])\n",
    "#     mean_signal = signal.mean(axis=1)\n",
    "#     mean_signal = mean_signal / np.linalg.norm(mean_signal)\n",
    "#     net_signal = mean_signal[1::2] - mean_signal[0::2]\n",
    "#     #return wavelet_denoising(net_signal)\n",
    "#     return net_signal\n",
    "# def ADC_convert(signal, gain, offset):\n",
    "#     signal = signal.astype(np.float64)\n",
    "#     signal /= gain\n",
    "#     signal += offset\n",
    "#     return signal\n",
    "# def read_and_preprocess(dataset, planet_ids, instrument = \"AIRS-CH0\"):\n",
    "#     \"\"\"Read the files for all planet_ids and extract the time series.\n",
    "#     Parameters\n",
    "#     dataset: 'train' or 'test'\n",
    "#     planet_ids: list of planet ids\n",
    "#     instrument: the instrument of observation, 'AIRS-CH0' or 'FGS1', default to 'AIRS-CH0'\n",
    "#     Returns\n",
    "#     dataframe with one row per planet_id and 67500 values per row for FGS1 and 5624 for AIRS-CH0\n",
    "#     \"\"\"\n",
    "#     img_size = 1024 if instrument == \"FGS1\" else 32*356\n",
    "#     column_num = 67500 if instrument == 'FGS1' else 5625\n",
    "#     raw_train = np.full((len(planet_ids), column_num), np.nan, dtype=np.float32)\n",
    "#     for i, planet_id in tqdm(list(enumerate(planet_ids))):\n",
    "#         raw_train[i] = load_signal_data(planet_id, dataset, instrument, img_size)\n",
    "#     return raw_train\n",
    "# def feature_engineering(f_raw, a_raw, adc_info, window_size=50, step_size=15):\n",
    "#     \"\"\"Create a dataframe with combined features from the raw data, including sliding window and time-series statistics.\n",
    "    \n",
    "#     Parameters:\n",
    "#     f_raw: ndarray of shape (n_planets, 67500)\n",
    "#     a_raw: ndarray of shape (n_planets, 5625)\n",
    "#     window_size: int, size of the sliding window for time-series statistics\n",
    "#     step_size: int, step size for the sliding window\n",
    "    \n",
    "#     Return value:\n",
    "#     df: DataFrame of shape (n_planets, several features)\n",
    "#     \"\"\"\n",
    "#     f_obscured = f_raw[:, 23500:44000].mean(axis=1)\n",
    "#     f_unobscured = (f_raw[:, :20500].mean(axis=1) + f_raw[:, 47000:].mean(axis=1)) / 2\n",
    "#     f_relative_reduction = (f_unobscured - f_obscured) / f_unobscured\n",
    "#     f_std_dev = f_raw.std(axis=1)\n",
    "#     f_signal_to_noise = f_unobscured / f_std_dev\n",
    "#     a_obscured = a_raw[:, 1958:3666].mean(axis=1)\n",
    "#     a_unobscured = (a_raw[:, :1708].mean(axis=1) + a_raw[:, 3916:].mean(axis=1)) / 2\n",
    "#     a_relative_reduction = (a_unobscured - a_obscured) / a_unobscured\n",
    "#     a_std_dev = a_raw.std(axis=1)\n",
    "#     a_signal_to_noise = a_unobscured / a_std_dev\n",
    "#     f_variance = f_raw.var(axis=1)\n",
    "#     a_variance = a_raw.var(axis=1)\n",
    "    \n",
    "#     f_skewness = pd.DataFrame(f_raw).skew(axis=1).values\n",
    "#     a_skewness = pd.DataFrame(a_raw).skew(axis=1).values\n",
    "#     f_kurtosis = pd.DataFrame(f_raw).kurtosis(axis=1).values\n",
    "#     a_kurtosis = pd.DataFrame(a_raw).kurtosis(axis=1).values\n",
    "    \n",
    "#     f_half_obscured1 = f_raw[:, 20500:23500].mean(axis=1)\n",
    "#     f_half_obscured2 = f_raw[:, 44000:47000].mean(axis=1)\n",
    "#     f_half_reduction1 = (f_unobscured - f_half_obscured1) / f_unobscured\n",
    "#     f_half_reduction2 = (f_unobscured - f_half_obscured2) / f_unobscured\n",
    "#     a_half_obscured1 = a_raw[:, 1708:1958].mean(axis=1)\n",
    "#     a_half_obscured2 = a_raw[:, 3666:3916].mean(axis=1)\n",
    "#     a_half_reduction1 = (a_unobscured - a_half_obscured1) / a_unobscured\n",
    "#     a_half_reduction2 = (a_unobscured - a_half_obscured2) / a_unobscured\n",
    "#     # Sliding window features\n",
    "#     def sliding_window_features(data, window_size, step_size):\n",
    "#         features = []\n",
    "#         max_index = data.shape[1]\n",
    "#         for start in range(0, max_index - window_size + 1, step_size):\n",
    "#             end = start + window_size\n",
    "#             window = data[:, start:end]\n",
    "#             features.append([\n",
    "#                 np.mean(window, axis=1),\n",
    "#                 np.std(window, axis=1),\n",
    "#                 np.min(window, axis=1),\n",
    "#                 np.max(window, axis=1)\n",
    "#             ])\n",
    "#         if features:\n",
    "#             return np.vstack(features).T  # Stack vertically and transpose to get the correct shape\n",
    "#         else:\n",
    "#             return np.empty((data.shape[0], 0))  # Return empty array with correct shape\n",
    "    \n",
    "#     f_sliding_features = sliding_window_features(f_raw, window_size, step_size)\n",
    "#     a_sliding_features = sliding_window_features(a_raw, window_size, step_size)\n",
    "#     print(f'f_sliding_features.shape: {f_sliding_features.shape}')\n",
    "#     print(f'a_sliding_features.shape: {a_sliding_features.shape}')\n",
    "#     df = pd.DataFrame({\n",
    "#         'f_relative_reduction': f_relative_reduction,\n",
    "#         'f_signal_to_noise': f_signal_to_noise,\n",
    "#         'f_variance': f_variance,\n",
    "#         'f_skewness': f_skewness,\n",
    "#         'f_kurtosis': f_kurtosis,\n",
    "#         'a_relative_reduction': a_relative_reduction,\n",
    "#         'a_signal_to_noise': a_signal_to_noise,\n",
    "#         'a_variance': a_variance,\n",
    "#         'a_skewness': a_skewness,\n",
    "#         'a_kurtosis': a_kurtosis,\n",
    "#         'f_half_reduction1': f_half_reduction1,\n",
    "#         'f_half_reduction2': f_half_reduction2,\n",
    "#         'a_half_reduction1': a_half_reduction1,\n",
    "#         'a_half_reduction2': a_half_reduction2\n",
    "#     })\n",
    "#     if f_sliding_features.size > 0:\n",
    "#         f_sliding_df = pd.DataFrame(f_sliding_features, columns=[f'f_slide_{i}' for i in range(f_sliding_features.shape[1])])\n",
    "#         df = pd.concat([df, f_sliding_df], axis=1)\n",
    "#     if a_sliding_features.size > 0:\n",
    "#         a_sliding_df = pd.DataFrame(a_sliding_features, columns=[f'a_slide_{i}' for i in range(a_sliding_features.shape[1])])\n",
    "#         df = pd.concat([df, a_sliding_df], axis=1)\n",
    "    \n",
    "#     df = pd.concat([df, adc_info.reset_index().iloc[:, 1:6]], axis=1)\n",
    "    \n",
    "#     return df"
   ]
  },
  {
   "cell_type": "code",
   "execution_count": 20,
   "id": "5d611cf8",
   "metadata": {
    "_kg_hide-input": true,
    "execution": {
     "iopub.execute_input": "2024-10-15T03:50:23.453825Z",
     "iopub.status.busy": "2024-10-15T03:50:23.453292Z",
     "iopub.status.idle": "2024-10-15T03:50:23.463054Z",
     "shell.execute_reply": "2024-10-15T03:50:23.461319Z"
    },
    "jupyter": {
     "source_hidden": true
    },
    "papermill": {
     "duration": 0.062145,
     "end_time": "2024-10-15T03:50:23.465670",
     "exception": false,
     "start_time": "2024-10-15T03:50:23.403525",
     "status": "completed"
    },
    "tags": []
   },
   "outputs": [],
   "source": [
    "# %%writefile -a utils.py\n",
    "\n",
    "# def postprocessing(pred_array, index, sigma_pred):\n",
    "#     \"\"\"Create a submission dataframe from its components\n",
    "    \n",
    "#     Parameters:\n",
    "#     pred_array: ndarray of shape (n_samples, 283)\n",
    "#     index: pandas.Index of length n_samples with name 'planet_id'\n",
    "#     sigma_pred: float\n",
    "    \n",
    "#     Return value:\n",
    "#     df: DataFrame of shape (n_samples, 566) with planet_id as index\n",
    "#     \"\"\"\n",
    "#     return pd.concat([pd.DataFrame(pred_array.clip(0, None), index=index, columns=wavelengths.columns),\n",
    "#                       pd.DataFrame(sigma_pred, index=index, columns=[f\"sigma_{i}\" for i in range(1, 284)])],\n",
    "#                      axis=1)\n",
    "\n",
    "# class ParticipantVisibleError(Exception):\n",
    "#     pass\n",
    "\n",
    "# def competition_score(\n",
    "#         solution: pd.DataFrame,\n",
    "#         submission: pd.DataFrame,\n",
    "#         naive_mean: float,\n",
    "#         naive_sigma: float,\n",
    "#         sigma_true: float,\n",
    "#         row_id_column_name='planet_id',\n",
    "#     ) -> float:\n",
    "#     '''\n",
    "#     This is a Gaussian Log Likelihood based metric. For a submission, which contains the predicted mean (x_hat) and variance (x_hat_std),\n",
    "#     we calculate the Gaussian Log-likelihood (GLL) value to the provided ground truth (x). We treat each pair of x_hat,\n",
    "#     x_hat_std as a 1D gaussian, meaning there will be 283 1D gaussian distributions, hence 283 values for each test spectrum,\n",
    "#     the GLL value for one spectrum is the sum of all of them.\n",
    "\n",
    "#     Inputs:\n",
    "#         - solution: Ground Truth spectra (from test set)\n",
    "#             - shape: (nsamples, n_wavelengths)\n",
    "#         - submission: Predicted spectra and errors (from participants)\n",
    "#             - shape: (nsamples, n_wavelengths*2)\n",
    "#         naive_mean: (float) mean from the train set.\n",
    "#         naive_sigma: (float) standard deviation from the train set.\n",
    "#         sigma_true: (float) essentially sets the scale of the outputs.\n",
    "#     '''\n",
    "\n",
    "#     del solution[row_id_column_name]\n",
    "#     del submission[row_id_column_name]\n",
    "\n",
    "#     if submission.min().min() < 0:\n",
    "#         raise ParticipantVisibleError('Negative values in the submission')\n",
    "#     for col in submission.columns:\n",
    "#         if not pd.api.types.is_numeric_dtype(submission[col]):\n",
    "#             raise ParticipantVisibleError(f'Submission column {col} must be a number')\n",
    "\n",
    "#     n_wavelengths = len(solution.columns)\n",
    "#     if len(submission.columns) != n_wavelengths*2:\n",
    "#         raise ParticipantVisibleError('Wrong number of columns in the submission')\n",
    "\n",
    "#     y_pred = submission.iloc[:, :n_wavelengths].values\n",
    "#     # Set a non-zero minimum sigma pred to prevent division by zero errors.\n",
    "#     sigma_pred = np.clip(submission.iloc[:, n_wavelengths:].values, a_min=10**-15, a_max=None)\n",
    "#     y_true = solution.values\n",
    "\n",
    "#     GLL_pred = np.sum(scipy.stats.norm.logpdf(y_true, loc=y_pred, scale=sigma_pred))\n",
    "#     GLL_true = np.sum(scipy.stats.norm.logpdf(y_true, loc=y_true, scale=sigma_true * np.ones_like(y_true)))\n",
    "#     GLL_mean = np.sum(scipy.stats.norm.logpdf(y_true, loc=naive_mean * np.ones_like(y_true), scale=naive_sigma * np.ones_like(y_true)))\n",
    "\n",
    "#     submit_score = (GLL_pred - GLL_mean)/(GLL_true - GLL_mean)\n",
    "#     return float(np.clip(submit_score, 0.0, 1.0))"
   ]
  },
  {
   "cell_type": "code",
   "execution_count": 21,
   "id": "292fc8c6",
   "metadata": {
    "_kg_hide-input": true,
    "execution": {
     "iopub.execute_input": "2024-10-15T03:50:23.565535Z",
     "iopub.status.busy": "2024-10-15T03:50:23.565053Z",
     "iopub.status.idle": "2024-10-15T03:50:23.570735Z",
     "shell.execute_reply": "2024-10-15T03:50:23.569382Z"
    },
    "jupyter": {
     "source_hidden": true
    },
    "papermill": {
     "duration": 0.058947,
     "end_time": "2024-10-15T03:50:23.573338",
     "exception": false,
     "start_time": "2024-10-15T03:50:23.514391",
     "status": "completed"
    },
    "tags": []
   },
   "outputs": [],
   "source": [
    "# exec(open('utils.py', 'r').read())"
   ]
  },
  {
   "cell_type": "markdown",
   "id": "503991e6",
   "metadata": {
    "_kg_hide-input": true,
    "papermill": {
     "duration": 0.048047,
     "end_time": "2024-10-15T03:50:23.668589",
     "exception": false,
     "start_time": "2024-10-15T03:50:23.620542",
     "status": "completed"
    },
    "tags": []
   },
   "source": [
    "### Load Data"
   ]
  },
  {
   "cell_type": "code",
   "execution_count": 22,
   "id": "dc93babb",
   "metadata": {
    "_kg_hide-input": true,
    "execution": {
     "iopub.execute_input": "2024-10-15T03:50:23.766720Z",
     "iopub.status.busy": "2024-10-15T03:50:23.766197Z",
     "iopub.status.idle": "2024-10-15T03:50:23.772254Z",
     "shell.execute_reply": "2024-10-15T03:50:23.770940Z"
    },
    "jupyter": {
     "source_hidden": true
    },
    "papermill": {
     "duration": 0.058742,
     "end_time": "2024-10-15T03:50:23.775111",
     "exception": false,
     "start_time": "2024-10-15T03:50:23.716369",
     "status": "completed"
    },
    "tags": []
   },
   "outputs": [],
   "source": [
    "# %%time\n",
    "# if os.path.exists(\"/kaggle/input/adc24-intro-training/f_raw_train.pickle\"):\n",
    "#     f_raw_train = np.load('/kaggle/input/adc24-intro-training/f_raw_train.pickle', allow_pickle=True)\n",
    "# else:\n",
    "#     f_raw_train = read_and_preprocess('train', train_labels.index, 'FGS1')\n",
    "#     with open('f_raw_train.pickle', 'wb') as f:\n",
    "#         pickle.dump(f_raw_train, f)"
   ]
  },
  {
   "cell_type": "code",
   "execution_count": 23,
   "id": "5e552433",
   "metadata": {
    "_kg_hide-input": true,
    "execution": {
     "iopub.execute_input": "2024-10-15T03:50:23.871945Z",
     "iopub.status.busy": "2024-10-15T03:50:23.871379Z",
     "iopub.status.idle": "2024-10-15T03:50:23.877632Z",
     "shell.execute_reply": "2024-10-15T03:50:23.876347Z"
    },
    "jupyter": {
     "source_hidden": true
    },
    "papermill": {
     "duration": 0.057505,
     "end_time": "2024-10-15T03:50:23.880151",
     "exception": false,
     "start_time": "2024-10-15T03:50:23.822646",
     "status": "completed"
    },
    "tags": []
   },
   "outputs": [],
   "source": [
    "# %%time\n",
    "# if os.path.exists(\"/kaggle/input/adc24-intro-training/a_raw_train.pickle\"):\n",
    "#     a_raw_train = np.load('/kaggle/input/adc24-intro-training/a_raw_train.pickle', allow_pickle=True)\n",
    "# else:\n",
    "#     a_raw_train = read_and_preprocess('train', train_labels.index)\n",
    "#     with open('a_raw_train.pickle', 'wb') as f:\n",
    "#         pickle.dump(a_raw_train, f)"
   ]
  },
  {
   "cell_type": "markdown",
   "id": "369bb42e",
   "metadata": {
    "_kg_hide-input": true,
    "papermill": {
     "duration": 0.046665,
     "end_time": "2024-10-15T03:50:23.975022",
     "exception": false,
     "start_time": "2024-10-15T03:50:23.928357",
     "status": "completed"
    },
    "tags": []
   },
   "source": [
    "### Feature Engineering"
   ]
  },
  {
   "cell_type": "code",
   "execution_count": 24,
   "id": "1e98d203",
   "metadata": {
    "_kg_hide-input": true,
    "execution": {
     "iopub.execute_input": "2024-10-15T03:50:24.072690Z",
     "iopub.status.busy": "2024-10-15T03:50:24.072198Z",
     "iopub.status.idle": "2024-10-15T03:50:24.077665Z",
     "shell.execute_reply": "2024-10-15T03:50:24.076271Z"
    },
    "jupyter": {
     "source_hidden": true
    },
    "papermill": {
     "duration": 0.05643,
     "end_time": "2024-10-15T03:50:24.080089",
     "exception": false,
     "start_time": "2024-10-15T03:50:24.023659",
     "status": "completed"
    },
    "tags": []
   },
   "outputs": [],
   "source": [
    "# %%time\n",
    "# train = feature_engineering(f_raw_train, a_raw_train, train_adc_info)"
   ]
  },
  {
   "cell_type": "code",
   "execution_count": 25,
   "id": "ef263d19",
   "metadata": {
    "_kg_hide-input": true,
    "execution": {
     "iopub.execute_input": "2024-10-15T03:50:24.177010Z",
     "iopub.status.busy": "2024-10-15T03:50:24.175594Z",
     "iopub.status.idle": "2024-10-15T03:50:24.181427Z",
     "shell.execute_reply": "2024-10-15T03:50:24.180031Z"
    },
    "jupyter": {
     "source_hidden": true
    },
    "papermill": {
     "duration": 0.05664,
     "end_time": "2024-10-15T03:50:24.184248",
     "exception": false,
     "start_time": "2024-10-15T03:50:24.127608",
     "status": "completed"
    },
    "tags": []
   },
   "outputs": [],
   "source": [
    "# train.head()"
   ]
  },
  {
   "cell_type": "code",
   "execution_count": 26,
   "id": "6aea2756",
   "metadata": {
    "_kg_hide-input": true,
    "execution": {
     "iopub.execute_input": "2024-10-15T03:50:24.282931Z",
     "iopub.status.busy": "2024-10-15T03:50:24.282394Z",
     "iopub.status.idle": "2024-10-15T03:50:24.287966Z",
     "shell.execute_reply": "2024-10-15T03:50:24.286697Z"
    },
    "jupyter": {
     "source_hidden": true
    },
    "papermill": {
     "duration": 0.057981,
     "end_time": "2024-10-15T03:50:24.290598",
     "exception": false,
     "start_time": "2024-10-15T03:50:24.232617",
     "status": "completed"
    },
    "tags": []
   },
   "outputs": [],
   "source": [
    "# train = train.iloc[:,:-1]"
   ]
  },
  {
   "cell_type": "markdown",
   "id": "ce1a0475",
   "metadata": {
    "_kg_hide-input": true,
    "papermill": {
     "duration": 0.046707,
     "end_time": "2024-10-15T03:50:24.389948",
     "exception": false,
     "start_time": "2024-10-15T03:50:24.343241",
     "status": "completed"
    },
    "tags": []
   },
   "source": [
    "### Data Plot"
   ]
  },
  {
   "cell_type": "code",
   "execution_count": 27,
   "id": "4c1f4c16",
   "metadata": {
    "_kg_hide-input": true,
    "execution": {
     "iopub.execute_input": "2024-10-15T03:50:24.487566Z",
     "iopub.status.busy": "2024-10-15T03:50:24.486610Z",
     "iopub.status.idle": "2024-10-15T03:50:24.492461Z",
     "shell.execute_reply": "2024-10-15T03:50:24.491257Z"
    },
    "jupyter": {
     "source_hidden": true
    },
    "papermill": {
     "duration": 0.058528,
     "end_time": "2024-10-15T03:50:24.495237",
     "exception": false,
     "start_time": "2024-10-15T03:50:24.436709",
     "status": "completed"
    },
    "tags": []
   },
   "outputs": [],
   "source": [
    "# plt.figure(figsize=(6, 2))\n",
    "# plt.plot(f_raw_train.mean(axis=0))\n",
    "# for time_step in [20500, 23500, 44000, 47000]:\n",
    "#     plt.axvline(time_step, color='gray')\n",
    "# plt.xlabel('time step')\n",
    "# plt.title('FGS1: Overall mean')\n",
    "# plt.show()\n",
    "\n",
    "# plt.figure(figsize=(6, 2))\n",
    "# plt.plot(a_raw_train.mean(axis=0))\n",
    "# for time_step in [20500, 23500, 44000, 47000]:\n",
    "#     plt.axvline(time_step * 11250 // 135000, color='gray')\n",
    "# plt.xlabel('time step')\n",
    "# plt.title('AIRS-CH0: Overall mean')\n",
    "# plt.show()"
   ]
  },
  {
   "cell_type": "code",
   "execution_count": 28,
   "id": "7d4cce4f",
   "metadata": {
    "_kg_hide-input": true,
    "execution": {
     "iopub.execute_input": "2024-10-15T03:50:24.618716Z",
     "iopub.status.busy": "2024-10-15T03:50:24.618254Z",
     "iopub.status.idle": "2024-10-15T03:50:24.624310Z",
     "shell.execute_reply": "2024-10-15T03:50:24.622919Z"
    },
    "jupyter": {
     "source_hidden": true
    },
    "papermill": {
     "duration": 0.068781,
     "end_time": "2024-10-15T03:50:24.626899",
     "exception": false,
     "start_time": "2024-10-15T03:50:24.558118",
     "status": "completed"
    },
    "tags": []
   },
   "outputs": [],
   "source": [
    "# color_array = np.array(plt.rcParams['axes.prop_cycle'].by_key()['color'])\n",
    "# plt.scatter(train.a_relative_reduction, train_labels.wl_1, s=15, alpha=0.5,\n",
    "#             c=color_array[train_adc_info.star])\n",
    "# plt.xlabel('relative signal reduction when planet is in front')\n",
    "# plt.ylabel('target')\n",
    "# plt.title('Correlation between relative signal reduction and target')\n",
    "# # plt.gca().set_aspect('equal')\n",
    "# points = [plt.Line2D([0], [0], label=f'star {i}', marker='o', markersize=3,\n",
    "#          markeredgecolor=color_array[i], markerfacecolor=color_array[i], linestyle='') for i in range(2)]\n",
    "\n",
    "# plt.legend(handles=points)\n",
    "# plt.show()"
   ]
  },
  {
   "cell_type": "markdown",
   "id": "ef2ac902",
   "metadata": {
    "_kg_hide-input": true,
    "papermill": {
     "duration": 0.047601,
     "end_time": "2024-10-15T03:50:24.722988",
     "exception": false,
     "start_time": "2024-10-15T03:50:24.675387",
     "status": "completed"
    },
    "tags": []
   },
   "source": [
    "### Model\n",
    "#### Rigde Model"
   ]
  },
  {
   "cell_type": "code",
   "execution_count": 29,
   "id": "65417b82",
   "metadata": {
    "_kg_hide-input": true,
    "execution": {
     "iopub.execute_input": "2024-10-15T03:50:24.827394Z",
     "iopub.status.busy": "2024-10-15T03:50:24.826379Z",
     "iopub.status.idle": "2024-10-15T03:50:24.832281Z",
     "shell.execute_reply": "2024-10-15T03:50:24.830862Z"
    },
    "jupyter": {
     "source_hidden": true
    },
    "papermill": {
     "duration": 0.059607,
     "end_time": "2024-10-15T03:50:24.834929",
     "exception": false,
     "start_time": "2024-10-15T03:50:24.775322",
     "status": "completed"
    },
    "tags": []
   },
   "outputs": [],
   "source": [
    "# model = Ridge(alpha=1e-12)\n",
    "\n",
    "# oof_pred = cross_val_predict(model, train, train_labels)\n",
    "\n",
    "# print(f\"# R2 score: {r2_score(train_labels, oof_pred):.4f}\")\n",
    "# sigma_pred = mean_squared_error(train_labels, oof_pred, squared=False)\n",
    "# print(f\"# Root mean squared error: {sigma_pred:.7f}\")"
   ]
  },
  {
   "cell_type": "code",
   "execution_count": 30,
   "id": "187b4609",
   "metadata": {
    "_kg_hide-input": true,
    "execution": {
     "iopub.execute_input": "2024-10-15T03:50:24.937977Z",
     "iopub.status.busy": "2024-10-15T03:50:24.937539Z",
     "iopub.status.idle": "2024-10-15T03:50:24.943436Z",
     "shell.execute_reply": "2024-10-15T03:50:24.942130Z"
    },
    "jupyter": {
     "source_hidden": true
    },
    "papermill": {
     "duration": 0.061442,
     "end_time": "2024-10-15T03:50:24.946093",
     "exception": false,
     "start_time": "2024-10-15T03:50:24.884651",
     "status": "completed"
    },
    "tags": []
   },
   "outputs": [],
   "source": [
    "# oof_df = postprocessing(oof_pred, train_adc_info.index, sigma_pred)\n",
    "# display(oof_df)\n",
    "\n",
    "# gll_score = competition_score(train_labels.copy().reset_index(),\n",
    "#                               oof_df.copy().reset_index(),\n",
    "#                               naive_mean=train_labels.values.mean(),\n",
    "#                               naive_sigma=train_labels.values.std(),\n",
    "#                               sigma_true=0.000003)\n",
    "# print(f\"# Estimated competition score: {gll_score:.4f}\")"
   ]
  },
  {
   "cell_type": "code",
   "execution_count": 31,
   "id": "e6fb3ffa",
   "metadata": {
    "_kg_hide-input": true,
    "execution": {
     "iopub.execute_input": "2024-10-15T03:50:25.044448Z",
     "iopub.status.busy": "2024-10-15T03:50:25.043934Z",
     "iopub.status.idle": "2024-10-15T03:50:25.049613Z",
     "shell.execute_reply": "2024-10-15T03:50:25.048410Z"
    },
    "jupyter": {
     "source_hidden": true
    },
    "papermill": {
     "duration": 0.057396,
     "end_time": "2024-10-15T03:50:25.052147",
     "exception": false,
     "start_time": "2024-10-15T03:50:24.994751",
     "status": "completed"
    },
    "tags": []
   },
   "outputs": [],
   "source": [
    "# model.fit(train, train_labels)\n",
    "# with open('model.pickle', 'wb') as f:\n",
    "#     pickle.dump(model, f)\n",
    "# with open('sigma_pred.pickle', 'wb') as f:\n",
    "#     pickle.dump(sigma_pred, f)"
   ]
  },
  {
   "cell_type": "markdown",
   "id": "16f8ec1f",
   "metadata": {
    "_kg_hide-input": true,
    "papermill": {
     "duration": 0.046946,
     "end_time": "2024-10-15T03:50:25.146832",
     "exception": false,
     "start_time": "2024-10-15T03:50:25.099886",
     "status": "completed"
    },
    "tags": []
   },
   "source": [
    "### Inference"
   ]
  },
  {
   "cell_type": "code",
   "execution_count": 32,
   "id": "926d61ea",
   "metadata": {
    "_kg_hide-input": true,
    "execution": {
     "iopub.execute_input": "2024-10-15T03:50:25.243757Z",
     "iopub.status.busy": "2024-10-15T03:50:25.243276Z",
     "iopub.status.idle": "2024-10-15T03:50:25.249680Z",
     "shell.execute_reply": "2024-10-15T03:50:25.248389Z"
    },
    "jupyter": {
     "source_hidden": true
    },
    "papermill": {
     "duration": 0.058252,
     "end_time": "2024-10-15T03:50:25.252199",
     "exception": false,
     "start_time": "2024-10-15T03:50:25.193947",
     "status": "completed"
    },
    "tags": []
   },
   "outputs": [],
   "source": [
    "# # Load the data\n",
    "# test_adc_info = pd.read_csv('/kaggle/input/ariel-data-challenge-2024/test_adc_info.csv',\n",
    "#                            index_col='planet_id')\n",
    "# sample_submission = pd.read_csv('/kaggle/input/ariel-data-challenge-2024/sample_submission.csv',\n",
    "#                                 index_col='planet_id')\n",
    "# f_raw_test = read_and_preprocess('test', sample_submission.index, 'FGS1')\n",
    "# a_raw_test = read_and_preprocess('test', sample_submission.index)\n",
    "# test = feature_engineering(f_raw_test, a_raw_test, test_adc_info)\n",
    "# test = test.iloc[: , :-1]\n",
    "# # Load the model\n",
    "# with open('model.pickle', 'rb') as f:\n",
    "#     model = pickle.load(f)\n",
    "# with open('sigma_pred.pickle', 'rb') as f:\n",
    "#     sigma_pred = pickle.load(f)\n",
    "\n",
    "# # Predict\n",
    "# test_pred = model.predict(test)\n",
    "\n",
    "# # Package into submission file\n",
    "# sub_df = sub_df = postprocessing(test_pred,\n",
    "#                         test_adc_info.index,\n",
    "#                         sigma_pred=np.tile(np.where(test_adc_info[['star']] <= 1, 0.0001555, 0.00085), (1, 283)))\n",
    "# display(sub_df)\n",
    "# sub_df.to_csv('submission_3.csv')"
   ]
  },
  {
   "cell_type": "markdown",
   "id": "c980a21a",
   "metadata": {
    "papermill": {
     "duration": 0.047466,
     "end_time": "2024-10-15T03:50:25.347266",
     "exception": false,
     "start_time": "2024-10-15T03:50:25.299800",
     "status": "completed"
    },
    "tags": []
   },
   "source": [
    "## 4. [AD24[TRAIN-INF]Ridge_AddFE[LB.441]](https://www.kaggle.com/code/hideyukizushi/ad24-train-inf-ridge-addfe-lb-441)\n",
    "\n",
    "### [yukiZ](https://www.kaggle.com/hideyukizushi)"
   ]
  },
  {
   "cell_type": "markdown",
   "id": "3b5c47be",
   "metadata": {
    "_kg_hide-input": true,
    "papermill": {
     "duration": 0.047928,
     "end_time": "2024-10-15T03:50:25.442696",
     "exception": false,
     "start_time": "2024-10-15T03:50:25.394768",
     "status": "completed"
    },
    "tags": []
   },
   "source": [
    "### ℹ️ **Info**\n",
    "* **forked original great work kernels**\n",
    "\n",
    "    * https://www.kaggle.com/code/ambrosm/adc24-intro-inference\n",
    "    * https://www.kaggle.com/code/hugowjd/neurips-ariel-2024-starter\n",
    "    * https://www.kaggle.com/code/xiaocao123/neurips-ariel-2024-starter?scriptVersionId=193156800\n",
    "    * https://www.kaggle.com/code/bingyuniu/neurips-ariel-2024-starter-withdifferentparametr\n",
    "\n",
    "* **2024/08/26 My Additional**\n",
    "    * percentile FE add.\n",
    "```\n",
    "np.percentile(window, 5, axis=1),\n",
    "np.percentile(window, 10, axis=1),\n",
    "np.percentile(window, 15, axis=1),\n",
    "np.percentile(window, 20, axis=1),\n",
    "np.percentile(window, 25, axis=1),\n",
    "np.percentile(window, 30, axis=1),\n",
    "np.percentile(window, 35, axis=1),\n",
    "np.percentile(window, 40, axis=1),\n",
    "np.percentile(window, 60, axis=1),\n",
    "np.percentile(window, 65, axis=1),\n",
    "np.percentile(window, 70, axis=1),\n",
    "np.percentile(window, 75, axis=1),\n",
    "np.percentile(window, 80, axis=1),\n",
    "np.percentile(window, 85, axis=1),\n",
    "np.percentile(window, 90, axis=1),\n",
    "np.percentile(window, 95, axis=1),\n",
    "np.median(window, axis=1),\n",
    "np.var(window, axis=1),\n",
    "```\n",
    "\n",
    "* **2024/08/29 My Additional**\n",
    "    * add FE\n",
    "```\n",
    "f_sliding_features2 = sliding_window_features(f_raw, 100, 10)\n",
    "a_sliding_features2 = sliding_window_features(a_raw, 100, 10)\n",
    "```"
   ]
  },
  {
   "cell_type": "code",
   "execution_count": 33,
   "id": "2ece86d8",
   "metadata": {
    "_kg_hide-input": true,
    "execution": {
     "iopub.execute_input": "2024-10-15T03:50:25.543337Z",
     "iopub.status.busy": "2024-10-15T03:50:25.542905Z",
     "iopub.status.idle": "2024-10-15T03:50:25.549138Z",
     "shell.execute_reply": "2024-10-15T03:50:25.547569Z"
    },
    "jupyter": {
     "source_hidden": true
    },
    "papermill": {
     "duration": 0.059581,
     "end_time": "2024-10-15T03:50:25.551544",
     "exception": false,
     "start_time": "2024-10-15T03:50:25.491963",
     "status": "completed"
    },
    "tags": []
   },
   "outputs": [],
   "source": [
    "# import matplotlib.pyplot as plt\n",
    "# import seaborn as sns\n",
    "# import pandas as pd\n",
    "# import polars as pl\n",
    "# import numpy as np\n",
    "# import torch\n",
    "# # import torch.nn as nn\n",
    "# # import torch.optim as optim\n",
    "# # from torch.utils.data import DataLoader, Dataset\n",
    "# from tqdm import tqdm\n",
    "# import pickle\n",
    "# import time\n",
    "# import os\n",
    "# import pickle\n",
    "# import seaborn as sns\n",
    "# import scipy.stats\n",
    "# from sklearn.model_selection import cross_val_predict\n",
    "# from sklearn.linear_model import Ridge\n",
    "# from sklearn.metrics import r2_score, mean_squared_error\n",
    "# from scipy.stats import kurtosis\n",
    "# from scipy.stats import skew"
   ]
  },
  {
   "cell_type": "code",
   "execution_count": 34,
   "id": "e36bfa40",
   "metadata": {
    "_kg_hide-input": true,
    "execution": {
     "iopub.execute_input": "2024-10-15T03:50:25.669379Z",
     "iopub.status.busy": "2024-10-15T03:50:25.668863Z",
     "iopub.status.idle": "2024-10-15T03:50:25.674559Z",
     "shell.execute_reply": "2024-10-15T03:50:25.673432Z"
    },
    "jupyter": {
     "source_hidden": true
    },
    "papermill": {
     "duration": 0.058547,
     "end_time": "2024-10-15T03:50:25.677084",
     "exception": false,
     "start_time": "2024-10-15T03:50:25.618537",
     "status": "completed"
    },
    "tags": []
   },
   "outputs": [],
   "source": [
    "# # Load Meta-Data\n",
    "# PATH = \"/kaggle/input/ariel-data-challenge-2024\"\n",
    "# train_adc_info = pd.read_csv('/kaggle/input/ariel-data-challenge-2024/train_adc_info.csv', \n",
    "#                              index_col='planet_id')\n",
    "# train_labels = pd.read_csv('/kaggle/input/ariel-data-challenge-2024/train_labels.csv',\n",
    "#                            index_col='planet_id')\n",
    "# wavelengths = pd.read_csv(f'{PATH}/wavelengths.csv')"
   ]
  },
  {
   "cell_type": "markdown",
   "id": "940b43cd",
   "metadata": {
    "_kg_hide-input": true,
    "papermill": {
     "duration": 0.047663,
     "end_time": "2024-10-15T03:50:25.773055",
     "exception": false,
     "start_time": "2024-10-15T03:50:25.725392",
     "status": "completed"
    },
    "tags": []
   },
   "source": [
    "### Pre-Processing\n",
    "#### Load Functions"
   ]
  },
  {
   "cell_type": "code",
   "execution_count": 35,
   "id": "127fa172",
   "metadata": {
    "_kg_hide-input": true,
    "execution": {
     "iopub.execute_input": "2024-10-15T03:50:25.871071Z",
     "iopub.status.busy": "2024-10-15T03:50:25.870572Z",
     "iopub.status.idle": "2024-10-15T03:50:25.883720Z",
     "shell.execute_reply": "2024-10-15T03:50:25.882538Z"
    },
    "jupyter": {
     "source_hidden": true
    },
    "papermill": {
     "duration": 0.065643,
     "end_time": "2024-10-15T03:50:25.886335",
     "exception": false,
     "start_time": "2024-10-15T03:50:25.820692",
     "status": "completed"
    },
    "tags": []
   },
   "outputs": [],
   "source": [
    "# %%writefile utils.py\n",
    "# import pandas as pd\n",
    "# import polars as pl\n",
    "# import numpy as np\n",
    "# from tqdm import tqdm\n",
    "# import pickle\n",
    "# PATH = \"/kaggle/input/ariel-data-challenge-2024\"\n",
    "# def load_signal_data(planet_id, dataset, instrument, img_size):\n",
    "#     file_path = f'{PATH}/{dataset}/{planet_id}/{instrument}_signal.parquet'\n",
    "#     signal = pl.read_parquet(file_path)\n",
    "#     mean_signal = signal.cast(pl.Int32).sum_horizontal().cast(pl.Float32).to_numpy() / img_size # mean over the 32*32 pixels\n",
    "#     net_signal = mean_signal[1::2] - mean_signal[0::2]\n",
    "#     return net_signal\n",
    "\n",
    "# def read_and_preprocess(dataset, planet_ids, instrument = \"AIRS-CH0\"):\n",
    "#     \"\"\"Read the files for all planet_ids and extract the time series.\n",
    "#     Parameters\n",
    "#     dataset: 'train' or 'test'\n",
    "#     planet_ids: list of planet ids\n",
    "#     instrument: the instrument of observation, 'AIRS-CH0' or 'FGS1', default to 'AIRS-CH0'\n",
    "#     Returns\n",
    "#     dataframe with one row per planet_id and 67500 values per row for FGS1 and 5624 for AIRS-CH0\n",
    "#     \"\"\"\n",
    "#     img_size = 1024 if instrument == \"FGS1\" else 32*356\n",
    "#     column_num = 67500 if instrument == 'FGS1' else 5625\n",
    "#     raw_train = np.full((len(planet_ids), column_num), np.nan, dtype=np.float32)\n",
    "#     for i, planet_id in tqdm(list(enumerate(planet_ids))):\n",
    "#         raw_train[i] = load_signal_data(planet_id, dataset, instrument, img_size)\n",
    "#     return raw_train\n",
    "\n",
    "# def feature_engineering(f_raw, a_raw, adc_info, window_size=60, step_size=15):\n",
    "#     \"\"\"Create a dataframe with combined features from the raw data, including sliding window and time-series statistics.\n",
    "    \n",
    "#     Parameters:\n",
    "#     f_raw: ndarray of shape (n_planets, 67500)\n",
    "#     a_raw: ndarray of shape (n_planets, 5625)\n",
    "#     window_size: int, size of the sliding window for time-series statistics\n",
    "#     step_size: int, step size for the sliding window\n",
    "    \n",
    "#     Return value:\n",
    "#     df: DataFrame of shape (n_planets, several features)\n",
    "#     \"\"\"\n",
    "#     f_obscured = f_raw[:, 23500:44000].mean(axis=1)\n",
    "#     f_unobscured = (f_raw[:, :20500].mean(axis=1) + f_raw[:, 47000:].mean(axis=1)) / 2\n",
    "#     f_relative_reduction = (f_unobscured - f_obscured) / f_unobscured\n",
    "#     f_std_dev = f_raw.std(axis=1)\n",
    "#     f_signal_to_noise = f_unobscured / f_std_dev\n",
    "\n",
    "#     a_obscured = a_raw[:, 1958:3666].mean(axis=1)\n",
    "#     a_unobscured = (a_raw[:, :1708].mean(axis=1) + a_raw[:, 3916:].mean(axis=1)) / 2\n",
    "#     a_relative_reduction = (a_unobscured - a_obscured) / a_unobscured\n",
    "#     a_std_dev = a_raw.std(axis=1)\n",
    "#     a_signal_to_noise = a_unobscured / a_std_dev\n",
    "\n",
    "#     f_variance = f_raw.var(axis=1)\n",
    "#     a_variance = a_raw.var(axis=1)\n",
    "    \n",
    "#     f_skewness = pd.DataFrame(f_raw).skew(axis=1).values\n",
    "#     a_skewness = pd.DataFrame(a_raw).skew(axis=1).values\n",
    "\n",
    "#     f_kurtosis = pd.DataFrame(f_raw).kurtosis(axis=1).values\n",
    "#     a_kurtosis = pd.DataFrame(a_raw).kurtosis(axis=1).values\n",
    "    \n",
    "#     f_half_obscured1 = f_raw[:, 20500:23500].mean(axis=1)\n",
    "#     f_half_obscured2 = f_raw[:, 44000:47000].mean(axis=1)\n",
    "#     f_half_reduction1 = (f_unobscured - f_half_obscured1) / f_unobscured\n",
    "#     f_half_reduction2 = (f_unobscured - f_half_obscured2) / f_unobscured\n",
    "\n",
    "#     a_half_obscured1 = a_raw[:, 1708:1958].mean(axis=1)\n",
    "#     a_half_obscured2 = a_raw[:, 3666:3916].mean(axis=1)\n",
    "#     a_half_reduction1 = (a_unobscured - a_half_obscured1) / a_unobscured\n",
    "#     a_half_reduction2 = (a_unobscured - a_half_obscured2) / a_unobscured\n",
    "\n",
    "#     # Sliding window features\n",
    "#     def sliding_window_features(data, window_size, step_size):\n",
    "#         features = []\n",
    "#         max_index = data.shape[1]\n",
    "#         for start in range(0, max_index - window_size + 1, step_size):\n",
    "#             end = start + window_size\n",
    "#             window = data[:, start:end]\n",
    "#             features.append([\n",
    "#                 np.mean(window, axis=1),\n",
    "#                 np.std(window, axis=1),\n",
    "#                 np.min(window, axis=1),\n",
    "#                 np.max(window, axis=1),\n",
    "#                 np.percentile(window, 5, axis=1),\n",
    "#                 np.percentile(window, 10, axis=1),\n",
    "#                 np.percentile(window, 15, axis=1),\n",
    "#                 np.percentile(window, 20, axis=1),\n",
    "#                 np.percentile(window, 25, axis=1),\n",
    "#                 np.percentile(window, 30, axis=1),\n",
    "#                 np.percentile(window, 35, axis=1),\n",
    "#                 np.percentile(window, 40, axis=1),\n",
    "#                 np.percentile(window, 60, axis=1),\n",
    "#                 np.percentile(window, 65, axis=1),\n",
    "#                 np.percentile(window, 70, axis=1),\n",
    "#                 np.percentile(window, 75, axis=1),\n",
    "#                 np.percentile(window, 80, axis=1),\n",
    "#                 np.percentile(window, 85, axis=1),\n",
    "#                 np.percentile(window, 90, axis=1),\n",
    "#                 np.percentile(window, 95, axis=1),\n",
    "#                 np.median(window, axis=1),\n",
    "#                 np.var(window, axis=1),\n",
    "# #                 kurtosis(window, axis=1),\n",
    "# #                 skew(window, axis=1),\n",
    "#             ])\n",
    "#         if features:\n",
    "#             return np.vstack(features).T  # Stack vertically and transpose to get the correct shape\n",
    "#         else:\n",
    "#             return np.empty((data.shape[0], 0))  # Return empty array with correct shape\n",
    "    \n",
    "#     f_sliding_features = sliding_window_features(f_raw, window_size, step_size)\n",
    "#     a_sliding_features = sliding_window_features(a_raw, window_size, step_size)\n",
    "    \n",
    "#     f_sliding_features2 = sliding_window_features(f_raw, 100, 10)\n",
    "#     a_sliding_features2 = sliding_window_features(a_raw, 100, 10)\n",
    "\n",
    "\n",
    "#     print(f'f_sliding_features.shape: {f_sliding_features.shape}')\n",
    "#     print(f'a_sliding_features.shape: {a_sliding_features.shape}')\n",
    "\n",
    "\n",
    "#     df = pd.DataFrame({\n",
    "#         'f_relative_reduction': f_relative_reduction,\n",
    "#         'f_signal_to_noise': f_signal_to_noise,\n",
    "#         'f_variance': f_variance,\n",
    "#         'f_skewness': f_skewness,\n",
    "#         'f_kurtosis': f_kurtosis,\n",
    "#         'a_relative_reduction': a_relative_reduction,\n",
    "#         'a_signal_to_noise': a_signal_to_noise,\n",
    "#         'a_variance': a_variance,\n",
    "#         'a_skewness': a_skewness,\n",
    "#         'a_kurtosis': a_kurtosis,\n",
    "#         'f_half_reduction1': f_half_reduction1,\n",
    "#         'f_half_reduction2': f_half_reduction2,\n",
    "#         'a_half_reduction1': a_half_reduction1,\n",
    "#         'a_half_reduction2': a_half_reduction2\n",
    "#     })\n",
    "\n",
    "\n",
    "#     if f_sliding_features.size > 0:\n",
    "#         f_sliding_df = pd.DataFrame(f_sliding_features, columns=[f'f_slide_{i}' for i in range(f_sliding_features.shape[1])])\n",
    "#         df = pd.concat([df, f_sliding_df], axis=1)\n",
    "#     if a_sliding_features.size > 0:\n",
    "#         a_sliding_df = pd.DataFrame(a_sliding_features, columns=[f'a_slide_{i}' for i in range(a_sliding_features.shape[1])])\n",
    "#         df = pd.concat([df, a_sliding_df], axis=1)\n",
    "    \n",
    "#     if f_sliding_features2.size > 0:\n",
    "#         f_sliding_df = pd.DataFrame(f_sliding_features2, columns=[f'f_slide2_{i}' for i in range(f_sliding_features2.shape[1])])\n",
    "#         df = pd.concat([df, f_sliding_df], axis=1)\n",
    "#     if a_sliding_features2.size > 0:\n",
    "#         a_sliding_df = pd.DataFrame(a_sliding_features2, columns=[f'a_slide2_{i}' for i in range(a_sliding_features2.shape[1])])\n",
    "#         df = pd.concat([df, a_sliding_df], axis=1)\n",
    "    \n",
    "    \n",
    "#     df = pd.concat([df, adc_info.reset_index().iloc[:, 1:6]], axis=1)\n",
    "    \n",
    "#     return df"
   ]
  },
  {
   "cell_type": "code",
   "execution_count": 36,
   "id": "10dde72a",
   "metadata": {
    "_kg_hide-input": true,
    "execution": {
     "iopub.execute_input": "2024-10-15T03:50:25.987066Z",
     "iopub.status.busy": "2024-10-15T03:50:25.986540Z",
     "iopub.status.idle": "2024-10-15T03:50:25.995282Z",
     "shell.execute_reply": "2024-10-15T03:50:25.994000Z"
    },
    "jupyter": {
     "source_hidden": true
    },
    "papermill": {
     "duration": 0.062129,
     "end_time": "2024-10-15T03:50:25.997901",
     "exception": false,
     "start_time": "2024-10-15T03:50:25.935772",
     "status": "completed"
    },
    "tags": []
   },
   "outputs": [],
   "source": [
    "# %%writefile -a utils.py\n",
    "\n",
    "# def postprocessing(pred_array, index, sigma_pred):\n",
    "#     \"\"\"Create a submission dataframe from its components\n",
    "    \n",
    "#     Parameters:\n",
    "#     pred_array: ndarray of shape (n_samples, 283)\n",
    "#     index: pandas.Index of length n_samples with name 'planet_id'\n",
    "#     sigma_pred: float\n",
    "    \n",
    "#     Return value:\n",
    "#     df: DataFrame of shape (n_samples, 566) with planet_id as index\n",
    "#     \"\"\"\n",
    "#     return pd.concat([pd.DataFrame(pred_array.clip(0, None), index=index, columns=wavelengths.columns),\n",
    "#                       pd.DataFrame(sigma_pred, index=index, columns=[f\"sigma_{i}\" for i in range(1, 284)])],\n",
    "#                      axis=1)\n",
    "\n",
    "# class ParticipantVisibleError(Exception):\n",
    "#     pass\n",
    "\n",
    "# def competition_score(\n",
    "#         solution: pd.DataFrame,\n",
    "#         submission: pd.DataFrame,\n",
    "#         naive_mean: float,\n",
    "#         naive_sigma: float,\n",
    "#         sigma_true: float,\n",
    "#         row_id_column_name='planet_id',\n",
    "#     ) -> float:\n",
    "#     '''\n",
    "#     This is a Gaussian Log Likelihood based metric. For a submission, which contains the predicted mean (x_hat) and variance (x_hat_std),\n",
    "#     we calculate the Gaussian Log-likelihood (GLL) value to the provided ground truth (x). We treat each pair of x_hat,\n",
    "#     x_hat_std as a 1D gaussian, meaning there will be 283 1D gaussian distributions, hence 283 values for each test spectrum,\n",
    "#     the GLL value for one spectrum is the sum of all of them.\n",
    "\n",
    "#     Inputs:\n",
    "#         - solution: Ground Truth spectra (from test set)\n",
    "#             - shape: (nsamples, n_wavelengths)\n",
    "#         - submission: Predicted spectra and errors (from participants)\n",
    "#             - shape: (nsamples, n_wavelengths*2)\n",
    "#         naive_mean: (float) mean from the train set.\n",
    "#         naive_sigma: (float) standard deviation from the train set.\n",
    "#         sigma_true: (float) essentially sets the scale of the outputs.\n",
    "#     '''\n",
    "\n",
    "#     del solution[row_id_column_name]\n",
    "#     del submission[row_id_column_name]\n",
    "\n",
    "#     if submission.min().min() < 0:\n",
    "#         raise ParticipantVisibleError('Negative values in the submission')\n",
    "#     for col in submission.columns:\n",
    "#         if not pd.api.types.is_numeric_dtype(submission[col]):\n",
    "#             raise ParticipantVisibleError(f'Submission column {col} must be a number')\n",
    "\n",
    "#     n_wavelengths = len(solution.columns)\n",
    "#     if len(submission.columns) != n_wavelengths*2:\n",
    "#         raise ParticipantVisibleError('Wrong number of columns in the submission')\n",
    "\n",
    "#     y_pred = submission.iloc[:, :n_wavelengths].values\n",
    "#     # Set a non-zero minimum sigma pred to prevent division by zero errors.\n",
    "#     sigma_pred = np.clip(submission.iloc[:, n_wavelengths:].values, a_min=10**-15, a_max=None)\n",
    "#     y_true = solution.values\n",
    "\n",
    "#     GLL_pred = np.sum(scipy.stats.norm.logpdf(y_true, loc=y_pred, scale=sigma_pred))\n",
    "#     GLL_true = np.sum(scipy.stats.norm.logpdf(y_true, loc=y_true, scale=sigma_true * np.ones_like(y_true)))\n",
    "#     GLL_mean = np.sum(scipy.stats.norm.logpdf(y_true, loc=naive_mean * np.ones_like(y_true), scale=naive_sigma * np.ones_like(y_true)))\n",
    "\n",
    "#     submit_score = (GLL_pred - GLL_mean)/(GLL_true - GLL_mean)\n",
    "#     return float(np.clip(submit_score, 0.0, 1.0))"
   ]
  },
  {
   "cell_type": "code",
   "execution_count": 37,
   "id": "cda68f71",
   "metadata": {
    "_kg_hide-input": true,
    "execution": {
     "iopub.execute_input": "2024-10-15T03:50:26.096608Z",
     "iopub.status.busy": "2024-10-15T03:50:26.096047Z",
     "iopub.status.idle": "2024-10-15T03:50:26.101898Z",
     "shell.execute_reply": "2024-10-15T03:50:26.100567Z"
    },
    "jupyter": {
     "source_hidden": true
    },
    "papermill": {
     "duration": 0.058079,
     "end_time": "2024-10-15T03:50:26.104692",
     "exception": false,
     "start_time": "2024-10-15T03:50:26.046613",
     "status": "completed"
    },
    "tags": []
   },
   "outputs": [],
   "source": [
    "# exec(open('utils.py', 'r').read())"
   ]
  },
  {
   "cell_type": "markdown",
   "id": "7de4d9f6",
   "metadata": {
    "_kg_hide-input": true,
    "papermill": {
     "duration": 0.047381,
     "end_time": "2024-10-15T03:50:26.200260",
     "exception": false,
     "start_time": "2024-10-15T03:50:26.152879",
     "status": "completed"
    },
    "tags": []
   },
   "source": [
    "### Load Data"
   ]
  },
  {
   "cell_type": "code",
   "execution_count": 38,
   "id": "6941401a",
   "metadata": {
    "_kg_hide-input": true,
    "execution": {
     "iopub.execute_input": "2024-10-15T03:50:26.298912Z",
     "iopub.status.busy": "2024-10-15T03:50:26.298012Z",
     "iopub.status.idle": "2024-10-15T03:50:26.304317Z",
     "shell.execute_reply": "2024-10-15T03:50:26.302681Z"
    },
    "jupyter": {
     "source_hidden": true
    },
    "papermill": {
     "duration": 0.059414,
     "end_time": "2024-10-15T03:50:26.307321",
     "exception": false,
     "start_time": "2024-10-15T03:50:26.247907",
     "status": "completed"
    },
    "tags": []
   },
   "outputs": [],
   "source": [
    "# %%time\n",
    "# if os.path.exists(\"/kaggle/input/adc24-intro-training/f_raw_train.pickle\"):\n",
    "#     f_raw_train = np.load('/kaggle/input/adc24-intro-training/f_raw_train.pickle', allow_pickle=True)\n",
    "# else:\n",
    "#     f_raw_train = read_and_preprocess('train', train_labels.index, 'FGS1')\n",
    "#     with open('f_raw_train.pickle', 'wb') as f:\n",
    "#         pickle.dump(f_raw_train, f)"
   ]
  },
  {
   "cell_type": "code",
   "execution_count": 39,
   "id": "ad0ea48a",
   "metadata": {
    "_kg_hide-input": true,
    "execution": {
     "iopub.execute_input": "2024-10-15T03:50:26.408691Z",
     "iopub.status.busy": "2024-10-15T03:50:26.408228Z",
     "iopub.status.idle": "2024-10-15T03:50:26.414216Z",
     "shell.execute_reply": "2024-10-15T03:50:26.412841Z"
    },
    "jupyter": {
     "source_hidden": true
    },
    "papermill": {
     "duration": 0.058974,
     "end_time": "2024-10-15T03:50:26.416936",
     "exception": false,
     "start_time": "2024-10-15T03:50:26.357962",
     "status": "completed"
    },
    "tags": []
   },
   "outputs": [],
   "source": [
    "# %%time\n",
    "# if os.path.exists(\"/kaggle/input/adc24-intro-training/a_raw_train.pickle\"):\n",
    "#     a_raw_train = np.load('/kaggle/input/adc24-intro-training/a_raw_train.pickle', allow_pickle=True)\n",
    "# else:\n",
    "#     a_raw_train = read_and_preprocess('train', train_labels.index)\n",
    "#     with open('a_raw_train.pickle', 'wb') as f:\n",
    "#         pickle.dump(a_raw_train, f)"
   ]
  },
  {
   "cell_type": "markdown",
   "id": "15a5cba8",
   "metadata": {
    "_kg_hide-input": true,
    "papermill": {
     "duration": 0.050135,
     "end_time": "2024-10-15T03:50:26.517048",
     "exception": false,
     "start_time": "2024-10-15T03:50:26.466913",
     "status": "completed"
    },
    "tags": []
   },
   "source": [
    "### Feature Engineering"
   ]
  },
  {
   "cell_type": "code",
   "execution_count": 40,
   "id": "b23fb774",
   "metadata": {
    "_kg_hide-input": true,
    "execution": {
     "iopub.execute_input": "2024-10-15T03:50:26.619215Z",
     "iopub.status.busy": "2024-10-15T03:50:26.618696Z",
     "iopub.status.idle": "2024-10-15T03:50:26.624602Z",
     "shell.execute_reply": "2024-10-15T03:50:26.623243Z"
    },
    "jupyter": {
     "source_hidden": true
    },
    "papermill": {
     "duration": 0.060596,
     "end_time": "2024-10-15T03:50:26.627559",
     "exception": false,
     "start_time": "2024-10-15T03:50:26.566963",
     "status": "completed"
    },
    "tags": []
   },
   "outputs": [],
   "source": [
    "# %%time\n",
    "# train = feature_engineering(f_raw_train, a_raw_train, train_adc_info)"
   ]
  },
  {
   "cell_type": "code",
   "execution_count": 41,
   "id": "10217bc6",
   "metadata": {
    "_kg_hide-input": true,
    "execution": {
     "iopub.execute_input": "2024-10-15T03:50:26.727844Z",
     "iopub.status.busy": "2024-10-15T03:50:26.727402Z",
     "iopub.status.idle": "2024-10-15T03:50:26.732787Z",
     "shell.execute_reply": "2024-10-15T03:50:26.731564Z"
    },
    "jupyter": {
     "source_hidden": true
    },
    "papermill": {
     "duration": 0.058747,
     "end_time": "2024-10-15T03:50:26.735646",
     "exception": false,
     "start_time": "2024-10-15T03:50:26.676899",
     "status": "completed"
    },
    "tags": []
   },
   "outputs": [],
   "source": [
    "# train.head()"
   ]
  },
  {
   "cell_type": "code",
   "execution_count": 42,
   "id": "46c1a7d3",
   "metadata": {
    "_kg_hide-input": true,
    "execution": {
     "iopub.execute_input": "2024-10-15T03:50:26.835334Z",
     "iopub.status.busy": "2024-10-15T03:50:26.834828Z",
     "iopub.status.idle": "2024-10-15T03:50:26.840590Z",
     "shell.execute_reply": "2024-10-15T03:50:26.838975Z"
    },
    "jupyter": {
     "source_hidden": true
    },
    "papermill": {
     "duration": 0.059137,
     "end_time": "2024-10-15T03:50:26.843226",
     "exception": false,
     "start_time": "2024-10-15T03:50:26.784089",
     "status": "completed"
    },
    "tags": []
   },
   "outputs": [],
   "source": [
    "# train = train.iloc[:,:-1]"
   ]
  },
  {
   "cell_type": "markdown",
   "id": "02805b9f",
   "metadata": {
    "_kg_hide-input": true,
    "papermill": {
     "duration": 0.049799,
     "end_time": "2024-10-15T03:50:26.941772",
     "exception": false,
     "start_time": "2024-10-15T03:50:26.891973",
     "status": "completed"
    },
    "tags": []
   },
   "source": [
    "### Data Plot"
   ]
  },
  {
   "cell_type": "code",
   "execution_count": 43,
   "id": "85407f72",
   "metadata": {
    "_kg_hide-input": true,
    "execution": {
     "iopub.execute_input": "2024-10-15T03:50:27.044344Z",
     "iopub.status.busy": "2024-10-15T03:50:27.043920Z",
     "iopub.status.idle": "2024-10-15T03:50:27.049999Z",
     "shell.execute_reply": "2024-10-15T03:50:27.048754Z"
    },
    "jupyter": {
     "source_hidden": true
    },
    "papermill": {
     "duration": 0.061056,
     "end_time": "2024-10-15T03:50:27.053017",
     "exception": false,
     "start_time": "2024-10-15T03:50:26.991961",
     "status": "completed"
    },
    "tags": []
   },
   "outputs": [],
   "source": [
    "# plt.figure(figsize=(6, 2))\n",
    "# plt.plot(f_raw_train.mean(axis=0))\n",
    "# for time_step in [20500, 23500, 44000, 47000]:\n",
    "#     plt.axvline(time_step, color='gray')\n",
    "# plt.xlabel('time step')\n",
    "# plt.title('FGS1: Overall mean')\n",
    "# plt.show()\n",
    "\n",
    "# plt.figure(figsize=(6, 2))\n",
    "# plt.plot(a_raw_train.mean(axis=0))\n",
    "# for time_step in [20500, 23500, 44000, 47000]:\n",
    "#     plt.axvline(time_step * 11250 // 135000, color='gray')\n",
    "# plt.xlabel('time step')\n",
    "# plt.title('AIRS-CH0: Overall mean')\n",
    "# plt.show()"
   ]
  },
  {
   "cell_type": "code",
   "execution_count": 44,
   "id": "001782e6",
   "metadata": {
    "_kg_hide-input": true,
    "execution": {
     "iopub.execute_input": "2024-10-15T03:50:27.151251Z",
     "iopub.status.busy": "2024-10-15T03:50:27.150835Z",
     "iopub.status.idle": "2024-10-15T03:50:27.158058Z",
     "shell.execute_reply": "2024-10-15T03:50:27.156747Z"
    },
    "jupyter": {
     "source_hidden": true
    },
    "papermill": {
     "duration": 0.059486,
     "end_time": "2024-10-15T03:50:27.160902",
     "exception": false,
     "start_time": "2024-10-15T03:50:27.101416",
     "status": "completed"
    },
    "tags": []
   },
   "outputs": [],
   "source": [
    "# color_array = np.array(plt.rcParams['axes.prop_cycle'].by_key()['color'])\n",
    "# plt.scatter(train.a_relative_reduction, train_labels.wl_1, s=15, alpha=0.5,\n",
    "#             c=color_array[train_adc_info.star])\n",
    "# plt.xlabel('relative signal reduction when planet is in front')\n",
    "# plt.ylabel('target')\n",
    "# plt.title('Correlation between relative signal reduction and target')\n",
    "# # plt.gca().set_aspect('equal')\n",
    "# points = [plt.Line2D([0], [0], label=f'star {i}', marker='o', markersize=3,\n",
    "#          markeredgecolor=color_array[i], markerfacecolor=color_array[i], linestyle='') for i in range(2)]\n",
    "\n",
    "# plt.legend(handles=points)\n",
    "# plt.show()"
   ]
  },
  {
   "cell_type": "markdown",
   "id": "18d10f5b",
   "metadata": {
    "_kg_hide-input": true,
    "papermill": {
     "duration": 0.04852,
     "end_time": "2024-10-15T03:50:27.258097",
     "exception": false,
     "start_time": "2024-10-15T03:50:27.209577",
     "status": "completed"
    },
    "tags": []
   },
   "source": [
    "### Model\n",
    "#### Rigde Model"
   ]
  },
  {
   "cell_type": "code",
   "execution_count": 45,
   "id": "aa33de1e",
   "metadata": {
    "_kg_hide-input": true,
    "execution": {
     "iopub.execute_input": "2024-10-15T03:50:27.357159Z",
     "iopub.status.busy": "2024-10-15T03:50:27.356125Z",
     "iopub.status.idle": "2024-10-15T03:50:27.361641Z",
     "shell.execute_reply": "2024-10-15T03:50:27.360352Z"
    },
    "jupyter": {
     "source_hidden": true
    },
    "papermill": {
     "duration": 0.057853,
     "end_time": "2024-10-15T03:50:27.364225",
     "exception": false,
     "start_time": "2024-10-15T03:50:27.306372",
     "status": "completed"
    },
    "tags": []
   },
   "outputs": [],
   "source": [
    "# model = Ridge(alpha=1e-12)\n",
    "\n",
    "# oof_pred = cross_val_predict(model, train, train_labels)\n",
    "\n",
    "# print(f\"# R2 score: {r2_score(train_labels, oof_pred):.4f}\")\n",
    "# sigma_pred = mean_squared_error(train_labels, oof_pred, squared=False)\n",
    "# print(f\"# Root mean squared error: {sigma_pred:.7f}\")"
   ]
  },
  {
   "cell_type": "code",
   "execution_count": 46,
   "id": "0ddb51d9",
   "metadata": {
    "_kg_hide-input": true,
    "execution": {
     "iopub.execute_input": "2024-10-15T03:50:27.465692Z",
     "iopub.status.busy": "2024-10-15T03:50:27.465196Z",
     "iopub.status.idle": "2024-10-15T03:50:27.470971Z",
     "shell.execute_reply": "2024-10-15T03:50:27.469694Z"
    },
    "jupyter": {
     "source_hidden": true
    },
    "papermill": {
     "duration": 0.059706,
     "end_time": "2024-10-15T03:50:27.473673",
     "exception": false,
     "start_time": "2024-10-15T03:50:27.413967",
     "status": "completed"
    },
    "tags": []
   },
   "outputs": [],
   "source": [
    "# oof_df = postprocessing(oof_pred, train_adc_info.index, sigma_pred)\n",
    "# display(oof_df)\n",
    "\n",
    "# gll_score = competition_score(train_labels.copy().reset_index(),\n",
    "#                               oof_df.copy().reset_index(),\n",
    "#                               naive_mean=train_labels.values.mean(),\n",
    "#                               naive_sigma=train_labels.values.std(),\n",
    "#                               sigma_true=0.000003)\n",
    "# print(f\"# Estimated competition score: {gll_score:.4f}\")"
   ]
  },
  {
   "cell_type": "code",
   "execution_count": 47,
   "id": "bf2b462d",
   "metadata": {
    "_kg_hide-input": true,
    "execution": {
     "iopub.execute_input": "2024-10-15T03:50:27.576543Z",
     "iopub.status.busy": "2024-10-15T03:50:27.576090Z",
     "iopub.status.idle": "2024-10-15T03:50:27.581703Z",
     "shell.execute_reply": "2024-10-15T03:50:27.580406Z"
    },
    "jupyter": {
     "source_hidden": true
    },
    "papermill": {
     "duration": 0.058962,
     "end_time": "2024-10-15T03:50:27.584096",
     "exception": false,
     "start_time": "2024-10-15T03:50:27.525134",
     "status": "completed"
    },
    "tags": []
   },
   "outputs": [],
   "source": [
    "# model.fit(train, train_labels)\n",
    "# with open('model.pickle', 'wb') as f:\n",
    "#     pickle.dump(model, f)\n",
    "# with open('sigma_pred.pickle', 'wb') as f:\n",
    "#     pickle.dump(sigma_pred, f)"
   ]
  },
  {
   "cell_type": "markdown",
   "id": "3ef094de",
   "metadata": {
    "_kg_hide-input": true,
    "papermill": {
     "duration": 0.049328,
     "end_time": "2024-10-15T03:50:27.682944",
     "exception": false,
     "start_time": "2024-10-15T03:50:27.633616",
     "status": "completed"
    },
    "tags": []
   },
   "source": [
    "### Inference"
   ]
  },
  {
   "cell_type": "code",
   "execution_count": 48,
   "id": "d26aff4b",
   "metadata": {
    "_kg_hide-input": true,
    "execution": {
     "iopub.execute_input": "2024-10-15T03:50:27.783515Z",
     "iopub.status.busy": "2024-10-15T03:50:27.783034Z",
     "iopub.status.idle": "2024-10-15T03:50:27.789492Z",
     "shell.execute_reply": "2024-10-15T03:50:27.788163Z"
    },
    "jupyter": {
     "source_hidden": true
    },
    "papermill": {
     "duration": 0.059711,
     "end_time": "2024-10-15T03:50:27.792004",
     "exception": false,
     "start_time": "2024-10-15T03:50:27.732293",
     "status": "completed"
    },
    "tags": []
   },
   "outputs": [],
   "source": [
    "# # Load the data\n",
    "# test_adc_info = pd.read_csv('/kaggle/input/ariel-data-challenge-2024/test_adc_info.csv',\n",
    "#                            index_col='planet_id')\n",
    "# sample_submission = pd.read_csv('/kaggle/input/ariel-data-challenge-2024/sample_submission.csv',\n",
    "#                                 index_col='planet_id')\n",
    "# f_raw_test = read_and_preprocess('test', sample_submission.index, 'FGS1')\n",
    "# a_raw_test = read_and_preprocess('test', sample_submission.index)\n",
    "# test = feature_engineering(f_raw_test, a_raw_test, test_adc_info)\n",
    "# test = test.iloc[: , :-1]\n",
    "# # Load the model\n",
    "# with open('model.pickle', 'rb') as f:\n",
    "#     model = pickle.load(f)\n",
    "# with open('sigma_pred.pickle', 'rb') as f:\n",
    "#     sigma_pred = pickle.load(f)\n",
    "\n",
    "# # Predict\n",
    "# test_pred = model.predict(test)\n",
    "\n",
    "# # Package into submission file\n",
    "# sub_df = sub_df = postprocessing(test_pred,\n",
    "#                         test_adc_info.index,\n",
    "#                         sigma_pred=np.tile(np.where(test_adc_info[['star']] <= 1, 0.0001555, 0.00085), (1, 283)))\n",
    "# display(sub_df)\n",
    "# sub_df.to_csv('submission_4.csv')"
   ]
  },
  {
   "cell_type": "markdown",
   "id": "60a1cf21",
   "metadata": {
    "papermill": {
     "duration": 0.049058,
     "end_time": "2024-10-15T03:50:27.891066",
     "exception": false,
     "start_time": "2024-10-15T03:50:27.842008",
     "status": "completed"
    },
    "tags": []
   },
   "source": [
    "## 5. [NeurIPS Ariel 2024 - Starter withdifferentparametr](https://www.kaggle.com/code/hideyukizushi/ad24-train-inf-ridge-addfe-lb-441)\n",
    "\n",
    "### [yu🐂](https://www.kaggle.com/bingyuniu)"
   ]
  },
  {
   "cell_type": "markdown",
   "id": "25509f5e",
   "metadata": {
    "_kg_hide-input": true,
    "papermill": {
     "duration": 0.051034,
     "end_time": "2024-10-15T03:50:27.991748",
     "exception": false,
     "start_time": "2024-10-15T03:50:27.940714",
     "status": "completed"
    },
    "tags": []
   },
   "source": [
    "### Initialization\n",
    "\n",
    "This competition seems requires strong scientific background and I had lot of confusion during EDA process. Therefore, I just build a simple starter for future coding.\n",
    "\n",
    "#### Load Library"
   ]
  },
  {
   "cell_type": "code",
   "execution_count": 49,
   "id": "405dae07",
   "metadata": {
    "_kg_hide-input": true,
    "execution": {
     "iopub.execute_input": "2024-10-15T03:50:28.097370Z",
     "iopub.status.busy": "2024-10-15T03:50:28.096884Z",
     "iopub.status.idle": "2024-10-15T03:50:28.103330Z",
     "shell.execute_reply": "2024-10-15T03:50:28.101939Z"
    },
    "jupyter": {
     "source_hidden": true
    },
    "papermill": {
     "duration": 0.061521,
     "end_time": "2024-10-15T03:50:28.106107",
     "exception": false,
     "start_time": "2024-10-15T03:50:28.044586",
     "status": "completed"
    },
    "tags": []
   },
   "outputs": [],
   "source": [
    "# import matplotlib.pyplot as plt\n",
    "# import seaborn as sns\n",
    "# import pandas as pd\n",
    "# import polars as pl\n",
    "# import numpy as np\n",
    "# import torch\n",
    "# # import torch.nn as nn\n",
    "# # import torch.optim as optim\n",
    "# # from torch.utils.data import DataLoader, Dataset\n",
    "# from tqdm import tqdm\n",
    "# import pickle\n",
    "# import time\n",
    "# import os\n",
    "# import pickle\n",
    "# import seaborn as sns\n",
    "# import scipy.stats\n",
    "# from sklearn.model_selection import cross_val_predict\n",
    "# from sklearn.linear_model import Ridge\n",
    "# from sklearn.metrics import r2_score, mean_squared_error"
   ]
  },
  {
   "cell_type": "code",
   "execution_count": 50,
   "id": "4a3006fb",
   "metadata": {
    "_kg_hide-input": true,
    "execution": {
     "iopub.execute_input": "2024-10-15T03:50:28.210237Z",
     "iopub.status.busy": "2024-10-15T03:50:28.209031Z",
     "iopub.status.idle": "2024-10-15T03:50:28.215081Z",
     "shell.execute_reply": "2024-10-15T03:50:28.213767Z"
    },
    "jupyter": {
     "source_hidden": true
    },
    "papermill": {
     "duration": 0.060995,
     "end_time": "2024-10-15T03:50:28.218006",
     "exception": false,
     "start_time": "2024-10-15T03:50:28.157011",
     "status": "completed"
    },
    "tags": []
   },
   "outputs": [],
   "source": [
    "# # Load Meta-Data\n",
    "# PATH = \"/kaggle/input/ariel-data-challenge-2024\"\n",
    "# train_adc_info = pd.read_csv('/kaggle/input/ariel-data-challenge-2024/train_adc_info.csv', \n",
    "#                              index_col='planet_id')\n",
    "# train_labels = pd.read_csv('/kaggle/input/ariel-data-challenge-2024/train_labels.csv',\n",
    "#                            index_col='planet_id')\n",
    "# wavelengths = pd.read_csv(f'{PATH}/wavelengths.csv')"
   ]
  },
  {
   "cell_type": "markdown",
   "id": "cd7f341d",
   "metadata": {
    "_kg_hide-input": true,
    "papermill": {
     "duration": 0.048572,
     "end_time": "2024-10-15T03:50:28.315920",
     "exception": false,
     "start_time": "2024-10-15T03:50:28.267348",
     "status": "completed"
    },
    "tags": []
   },
   "source": [
    "### Pre-Processing\n",
    "#### Load Functions"
   ]
  },
  {
   "cell_type": "code",
   "execution_count": 51,
   "id": "76c9284f",
   "metadata": {
    "_kg_hide-input": true,
    "execution": {
     "iopub.execute_input": "2024-10-15T03:50:28.415376Z",
     "iopub.status.busy": "2024-10-15T03:50:28.414963Z",
     "iopub.status.idle": "2024-10-15T03:50:28.426898Z",
     "shell.execute_reply": "2024-10-15T03:50:28.425417Z"
    },
    "jupyter": {
     "source_hidden": true
    },
    "papermill": {
     "duration": 0.065056,
     "end_time": "2024-10-15T03:50:28.429712",
     "exception": false,
     "start_time": "2024-10-15T03:50:28.364656",
     "status": "completed"
    },
    "tags": []
   },
   "outputs": [],
   "source": [
    "# %%writefile utils.py\n",
    "# import pandas as pd\n",
    "# import polars as pl\n",
    "# import numpy as np\n",
    "# from tqdm import tqdm\n",
    "# import pickle\n",
    "# PATH = \"/kaggle/input/ariel-data-challenge-2024\"\n",
    "# def load_signal_data(planet_id, dataset, instrument, img_size):\n",
    "#     file_path = f'{PATH}/{dataset}/{planet_id}/{instrument}_signal.parquet'\n",
    "#     signal = pl.read_parquet(file_path)\n",
    "#     mean_signal = signal.cast(pl.Int32).sum_horizontal().cast(pl.Float32).to_numpy() / img_size # mean over the 32*32 pixels\n",
    "#     net_signal = mean_signal[1::2] - mean_signal[0::2]\n",
    "#     return net_signal\n",
    "\n",
    "# def read_and_preprocess(dataset, planet_ids, instrument = \"AIRS-CH0\"):\n",
    "#     \"\"\"Read the files for all planet_ids and extract the time series.\n",
    "#     Parameters\n",
    "#     dataset: 'train' or 'test'\n",
    "#     planet_ids: list of planet ids\n",
    "#     instrument: the instrument of observation, 'AIRS-CH0' or 'FGS1', default to 'AIRS-CH0'\n",
    "#     Returns\n",
    "#     dataframe with one row per planet_id and 67500 values per row for FGS1 and 5624 for AIRS-CH0\n",
    "#     \"\"\"\n",
    "#     img_size = 1024 if instrument == \"FGS1\" else 32*356\n",
    "#     column_num = 67500 if instrument == 'FGS1' else 5625\n",
    "#     raw_train = np.full((len(planet_ids), column_num), np.nan, dtype=np.float32)\n",
    "#     for i, planet_id in tqdm(list(enumerate(planet_ids))):\n",
    "#         raw_train[i] = load_signal_data(planet_id, dataset, instrument, img_size)\n",
    "#     return raw_train\n",
    "\n",
    "# def feature_engineering(f_raw, a_raw, adc_info, window_size=50, step_size=15):\n",
    "#     \"\"\"Create a dataframe with combined features from the raw data, including sliding window and time-series statistics.\n",
    "    \n",
    "#     Parameters:\n",
    "#     f_raw: ndarray of shape (n_planets, 67500)\n",
    "#     a_raw: ndarray of shape (n_planets, 5625)\n",
    "#     window_size: int, size of the sliding window for time-series statistics\n",
    "#     step_size: int, step size for the sliding window\n",
    "    \n",
    "#     Return value:\n",
    "#     df: DataFrame of shape (n_planets, several features)\n",
    "#     \"\"\"\n",
    "#     f_obscured = f_raw[:, 23500:44000].mean(axis=1)\n",
    "#     f_unobscured = (f_raw[:, :20500].mean(axis=1) + f_raw[:, 47000:].mean(axis=1)) / 2\n",
    "#     f_relative_reduction = (f_unobscured - f_obscured) / f_unobscured\n",
    "#     f_std_dev = f_raw.std(axis=1)\n",
    "#     f_signal_to_noise = f_unobscured / f_std_dev\n",
    "\n",
    "#     a_obscured = a_raw[:, 1958:3666].mean(axis=1)\n",
    "#     a_unobscured = (a_raw[:, :1708].mean(axis=1) + a_raw[:, 3916:].mean(axis=1)) / 2\n",
    "#     a_relative_reduction = (a_unobscured - a_obscured) / a_unobscured\n",
    "#     a_std_dev = a_raw.std(axis=1)\n",
    "#     a_signal_to_noise = a_unobscured / a_std_dev\n",
    "\n",
    "#     f_variance = f_raw.var(axis=1)\n",
    "#     a_variance = a_raw.var(axis=1)\n",
    "    \n",
    "#     f_skewness = pd.DataFrame(f_raw).skew(axis=1).values\n",
    "#     a_skewness = pd.DataFrame(a_raw).skew(axis=1).values\n",
    "\n",
    "#     f_kurtosis = pd.DataFrame(f_raw).kurtosis(axis=1).values\n",
    "#     a_kurtosis = pd.DataFrame(a_raw).kurtosis(axis=1).values\n",
    "    \n",
    "#     f_half_obscured1 = f_raw[:, 20500:23500].mean(axis=1)\n",
    "#     f_half_obscured2 = f_raw[:, 44000:47000].mean(axis=1)\n",
    "#     f_half_reduction1 = (f_unobscured - f_half_obscured1) / f_unobscured\n",
    "#     f_half_reduction2 = (f_unobscured - f_half_obscured2) / f_unobscured\n",
    "\n",
    "#     a_half_obscured1 = a_raw[:, 1708:1958].mean(axis=1)\n",
    "#     a_half_obscured2 = a_raw[:, 3666:3916].mean(axis=1)\n",
    "#     a_half_reduction1 = (a_unobscured - a_half_obscured1) / a_unobscured\n",
    "#     a_half_reduction2 = (a_unobscured - a_half_obscured2) / a_unobscured\n",
    "\n",
    "#     # Sliding window features\n",
    "#     def sliding_window_features(data, window_size, step_size):\n",
    "#         features = []\n",
    "#         max_index = data.shape[1]\n",
    "#         for start in range(0, max_index - window_size + 1, step_size):\n",
    "#             end = start + window_size\n",
    "#             window = data[:, start:end]\n",
    "#             features.append([\n",
    "#                 np.mean(window, axis=1),\n",
    "#                 np.std(window, axis=1),\n",
    "#                 np.min(window, axis=1),\n",
    "#                 np.max(window, axis=1)\n",
    "#             ])\n",
    "#         if features:\n",
    "#             return np.vstack(features).T  # Stack vertically and transpose to get the correct shape\n",
    "#         else:\n",
    "#             return np.empty((data.shape[0], 0))  # Return empty array with correct shape\n",
    "    \n",
    "#     f_sliding_features = sliding_window_features(f_raw, window_size, step_size)\n",
    "#     a_sliding_features = sliding_window_features(a_raw, window_size, step_size)\n",
    "\n",
    "\n",
    "#     print(f'f_sliding_features.shape: {f_sliding_features.shape}')\n",
    "#     print(f'a_sliding_features.shape: {a_sliding_features.shape}')\n",
    "\n",
    "\n",
    "#     df = pd.DataFrame({\n",
    "#         'f_relative_reduction': f_relative_reduction,\n",
    "#         'f_signal_to_noise': f_signal_to_noise,\n",
    "#         'f_variance': f_variance,\n",
    "#         'f_skewness': f_skewness,\n",
    "#         'f_kurtosis': f_kurtosis,\n",
    "#         'a_relative_reduction': a_relative_reduction,\n",
    "#         'a_signal_to_noise': a_signal_to_noise,\n",
    "#         'a_variance': a_variance,\n",
    "#         'a_skewness': a_skewness,\n",
    "#         'a_kurtosis': a_kurtosis,\n",
    "#         'f_half_reduction1': f_half_reduction1,\n",
    "#         'f_half_reduction2': f_half_reduction2,\n",
    "#         'a_half_reduction1': a_half_reduction1,\n",
    "#         'a_half_reduction2': a_half_reduction2\n",
    "#     })\n",
    "\n",
    "\n",
    "#     if f_sliding_features.size > 0:\n",
    "#         f_sliding_df = pd.DataFrame(f_sliding_features, columns=[f'f_slide_{i}' for i in range(f_sliding_features.shape[1])])\n",
    "#         df = pd.concat([df, f_sliding_df], axis=1)\n",
    "\n",
    "#     if a_sliding_features.size > 0:\n",
    "#         a_sliding_df = pd.DataFrame(a_sliding_features, columns=[f'a_slide_{i}' for i in range(a_sliding_features.shape[1])])\n",
    "#         df = pd.concat([df, a_sliding_df], axis=1)\n",
    "    \n",
    "#     df = pd.concat([df, adc_info.reset_index().iloc[:, 1:6]], axis=1)\n",
    "    \n",
    "#     return df"
   ]
  },
  {
   "cell_type": "code",
   "execution_count": 52,
   "id": "4dfa0c8a",
   "metadata": {
    "_kg_hide-input": true,
    "execution": {
     "iopub.execute_input": "2024-10-15T03:50:28.531983Z",
     "iopub.status.busy": "2024-10-15T03:50:28.531076Z",
     "iopub.status.idle": "2024-10-15T03:50:28.539956Z",
     "shell.execute_reply": "2024-10-15T03:50:28.538704Z"
    },
    "jupyter": {
     "source_hidden": true
    },
    "papermill": {
     "duration": 0.063643,
     "end_time": "2024-10-15T03:50:28.542521",
     "exception": false,
     "start_time": "2024-10-15T03:50:28.478878",
     "status": "completed"
    },
    "tags": []
   },
   "outputs": [],
   "source": [
    "# %%writefile -a utils.py\n",
    "\n",
    "# def postprocessing(pred_array, index, sigma_pred):\n",
    "#     \"\"\"Create a submission dataframe from its components\n",
    "    \n",
    "#     Parameters:\n",
    "#     pred_array: ndarray of shape (n_samples, 283)\n",
    "#     index: pandas.Index of length n_samples with name 'planet_id'\n",
    "#     sigma_pred: float\n",
    "    \n",
    "#     Return value:\n",
    "#     df: DataFrame of shape (n_samples, 566) with planet_id as index\n",
    "#     \"\"\"\n",
    "#     return pd.concat([pd.DataFrame(pred_array.clip(0, None), index=index, columns=wavelengths.columns),\n",
    "#                       pd.DataFrame(sigma_pred, index=index, columns=[f\"sigma_{i}\" for i in range(1, 284)])],\n",
    "#                      axis=1)\n",
    "\n",
    "# class ParticipantVisibleError(Exception):\n",
    "#     pass\n",
    "\n",
    "# def competition_score(\n",
    "#         solution: pd.DataFrame,\n",
    "#         submission: pd.DataFrame,\n",
    "#         naive_mean: float,\n",
    "#         naive_sigma: float,\n",
    "#         sigma_true: float,\n",
    "#         row_id_column_name='planet_id',\n",
    "#     ) -> float:\n",
    "#     '''\n",
    "#     This is a Gaussian Log Likelihood based metric. For a submission, which contains the predicted mean (x_hat) and variance (x_hat_std),\n",
    "#     we calculate the Gaussian Log-likelihood (GLL) value to the provided ground truth (x). We treat each pair of x_hat,\n",
    "#     x_hat_std as a 1D gaussian, meaning there will be 283 1D gaussian distributions, hence 283 values for each test spectrum,\n",
    "#     the GLL value for one spectrum is the sum of all of them.\n",
    "\n",
    "#     Inputs:\n",
    "#         - solution: Ground Truth spectra (from test set)\n",
    "#             - shape: (nsamples, n_wavelengths)\n",
    "#         - submission: Predicted spectra and errors (from participants)\n",
    "#             - shape: (nsamples, n_wavelengths*2)\n",
    "#         naive_mean: (float) mean from the train set.\n",
    "#         naive_sigma: (float) standard deviation from the train set.\n",
    "#         sigma_true: (float) essentially sets the scale of the outputs.\n",
    "#     '''\n",
    "\n",
    "#     del solution[row_id_column_name]\n",
    "#     del submission[row_id_column_name]\n",
    "\n",
    "#     if submission.min().min() < 0:\n",
    "#         raise ParticipantVisibleError('Negative values in the submission')\n",
    "#     for col in submission.columns:\n",
    "#         if not pd.api.types.is_numeric_dtype(submission[col]):\n",
    "#             raise ParticipantVisibleError(f'Submission column {col} must be a number')\n",
    "\n",
    "#     n_wavelengths = len(solution.columns)\n",
    "#     if len(submission.columns) != n_wavelengths*2:\n",
    "#         raise ParticipantVisibleError('Wrong number of columns in the submission')\n",
    "\n",
    "#     y_pred = submission.iloc[:, :n_wavelengths].values\n",
    "#     # Set a non-zero minimum sigma pred to prevent division by zero errors.\n",
    "#     sigma_pred = np.clip(submission.iloc[:, n_wavelengths:].values, a_min=10**-15, a_max=None)\n",
    "#     y_true = solution.values\n",
    "\n",
    "#     GLL_pred = np.sum(scipy.stats.norm.logpdf(y_true, loc=y_pred, scale=sigma_pred))\n",
    "#     GLL_true = np.sum(scipy.stats.norm.logpdf(y_true, loc=y_true, scale=sigma_true * np.ones_like(y_true)))\n",
    "#     GLL_mean = np.sum(scipy.stats.norm.logpdf(y_true, loc=naive_mean * np.ones_like(y_true), scale=naive_sigma * np.ones_like(y_true)))\n",
    "\n",
    "#     submit_score = (GLL_pred - GLL_mean)/(GLL_true - GLL_mean)\n",
    "#     return float(np.clip(submit_score, 0.0, 1.0))"
   ]
  },
  {
   "cell_type": "code",
   "execution_count": 53,
   "id": "937be5de",
   "metadata": {
    "_kg_hide-input": true,
    "execution": {
     "iopub.execute_input": "2024-10-15T03:50:28.643655Z",
     "iopub.status.busy": "2024-10-15T03:50:28.643089Z",
     "iopub.status.idle": "2024-10-15T03:50:28.648775Z",
     "shell.execute_reply": "2024-10-15T03:50:28.647339Z"
    },
    "jupyter": {
     "source_hidden": true
    },
    "papermill": {
     "duration": 0.059486,
     "end_time": "2024-10-15T03:50:28.651333",
     "exception": false,
     "start_time": "2024-10-15T03:50:28.591847",
     "status": "completed"
    },
    "tags": []
   },
   "outputs": [],
   "source": [
    "# exec(open('utils.py', 'r').read())"
   ]
  },
  {
   "cell_type": "markdown",
   "id": "b6f01015",
   "metadata": {
    "_kg_hide-input": true,
    "papermill": {
     "duration": 0.058927,
     "end_time": "2024-10-15T03:50:28.761077",
     "exception": false,
     "start_time": "2024-10-15T03:50:28.702150",
     "status": "completed"
    },
    "tags": []
   },
   "source": [
    "### Load Data"
   ]
  },
  {
   "cell_type": "code",
   "execution_count": 54,
   "id": "2c0a870f",
   "metadata": {
    "_kg_hide-input": true,
    "execution": {
     "iopub.execute_input": "2024-10-15T03:50:28.861892Z",
     "iopub.status.busy": "2024-10-15T03:50:28.861442Z",
     "iopub.status.idle": "2024-10-15T03:50:28.867526Z",
     "shell.execute_reply": "2024-10-15T03:50:28.866285Z"
    },
    "jupyter": {
     "source_hidden": true
    },
    "papermill": {
     "duration": 0.059882,
     "end_time": "2024-10-15T03:50:28.870371",
     "exception": false,
     "start_time": "2024-10-15T03:50:28.810489",
     "status": "completed"
    },
    "tags": []
   },
   "outputs": [],
   "source": [
    "# %%time\n",
    "# if os.path.exists(\"/kaggle/input/adc24-intro-training/f_raw_train.pickle\"):\n",
    "#     f_raw_train = np.load('/kaggle/input/adc24-intro-training/f_raw_train.pickle', allow_pickle=True)\n",
    "# else:\n",
    "#     f_raw_train = read_and_preprocess('train', train_labels.index, 'FGS1')\n",
    "#     with open('f_raw_train.pickle', 'wb') as f:\n",
    "#         pickle.dump(f_raw_train, f)"
   ]
  },
  {
   "cell_type": "code",
   "execution_count": 55,
   "id": "d401e009",
   "metadata": {
    "_kg_hide-input": true,
    "execution": {
     "iopub.execute_input": "2024-10-15T03:50:28.979714Z",
     "iopub.status.busy": "2024-10-15T03:50:28.978447Z",
     "iopub.status.idle": "2024-10-15T03:50:28.984957Z",
     "shell.execute_reply": "2024-10-15T03:50:28.983513Z"
    },
    "jupyter": {
     "source_hidden": true
    },
    "papermill": {
     "duration": 0.067315,
     "end_time": "2024-10-15T03:50:28.987589",
     "exception": false,
     "start_time": "2024-10-15T03:50:28.920274",
     "status": "completed"
    },
    "tags": []
   },
   "outputs": [],
   "source": [
    "# %%time\n",
    "# if os.path.exists(\"/kaggle/input/adc24-intro-training/a_raw_train.pickle\"):\n",
    "#     a_raw_train = np.load('/kaggle/input/adc24-intro-training/a_raw_train.pickle', allow_pickle=True)\n",
    "# else:\n",
    "#     a_raw_train = read_and_preprocess('train', train_labels.index)\n",
    "#     with open('a_raw_train.pickle', 'wb') as f:\n",
    "#         pickle.dump(a_raw_train, f)"
   ]
  },
  {
   "cell_type": "markdown",
   "id": "a34be5cd",
   "metadata": {
    "_kg_hide-input": true,
    "papermill": {
     "duration": 0.049757,
     "end_time": "2024-10-15T03:50:29.089424",
     "exception": false,
     "start_time": "2024-10-15T03:50:29.039667",
     "status": "completed"
    },
    "tags": []
   },
   "source": [
    "### Feature Engineering"
   ]
  },
  {
   "cell_type": "code",
   "execution_count": 56,
   "id": "f9097754",
   "metadata": {
    "_kg_hide-input": true,
    "execution": {
     "iopub.execute_input": "2024-10-15T03:50:29.208169Z",
     "iopub.status.busy": "2024-10-15T03:50:29.207032Z",
     "iopub.status.idle": "2024-10-15T03:50:29.212806Z",
     "shell.execute_reply": "2024-10-15T03:50:29.211590Z"
    },
    "jupyter": {
     "source_hidden": true
    },
    "papermill": {
     "duration": 0.066054,
     "end_time": "2024-10-15T03:50:29.215442",
     "exception": false,
     "start_time": "2024-10-15T03:50:29.149388",
     "status": "completed"
    },
    "tags": []
   },
   "outputs": [],
   "source": [
    "# %%time\n",
    "# train = feature_engineering(f_raw_train, a_raw_train, train_adc_info)"
   ]
  },
  {
   "cell_type": "code",
   "execution_count": 57,
   "id": "42f71241",
   "metadata": {
    "_kg_hide-input": true,
    "execution": {
     "iopub.execute_input": "2024-10-15T03:50:29.323248Z",
     "iopub.status.busy": "2024-10-15T03:50:29.322110Z",
     "iopub.status.idle": "2024-10-15T03:50:29.328434Z",
     "shell.execute_reply": "2024-10-15T03:50:29.327218Z"
    },
    "jupyter": {
     "source_hidden": true
    },
    "papermill": {
     "duration": 0.062798,
     "end_time": "2024-10-15T03:50:29.331200",
     "exception": false,
     "start_time": "2024-10-15T03:50:29.268402",
     "status": "completed"
    },
    "tags": []
   },
   "outputs": [],
   "source": [
    "# train.head()"
   ]
  },
  {
   "cell_type": "code",
   "execution_count": 58,
   "id": "c7ba3736",
   "metadata": {
    "_kg_hide-input": true,
    "execution": {
     "iopub.execute_input": "2024-10-15T03:50:29.435844Z",
     "iopub.status.busy": "2024-10-15T03:50:29.435283Z",
     "iopub.status.idle": "2024-10-15T03:50:29.441339Z",
     "shell.execute_reply": "2024-10-15T03:50:29.440015Z"
    },
    "jupyter": {
     "source_hidden": true
    },
    "papermill": {
     "duration": 0.062049,
     "end_time": "2024-10-15T03:50:29.444068",
     "exception": false,
     "start_time": "2024-10-15T03:50:29.382019",
     "status": "completed"
    },
    "tags": []
   },
   "outputs": [],
   "source": [
    "# train = train.iloc[:,:-1]"
   ]
  },
  {
   "cell_type": "markdown",
   "id": "d178777a",
   "metadata": {
    "_kg_hide-input": true,
    "papermill": {
     "duration": 0.052125,
     "end_time": "2024-10-15T03:50:29.547149",
     "exception": false,
     "start_time": "2024-10-15T03:50:29.495024",
     "status": "completed"
    },
    "tags": []
   },
   "source": [
    "### Data Plot"
   ]
  },
  {
   "cell_type": "code",
   "execution_count": 59,
   "id": "364ef9ea",
   "metadata": {
    "_kg_hide-input": true,
    "execution": {
     "iopub.execute_input": "2024-10-15T03:50:29.652773Z",
     "iopub.status.busy": "2024-10-15T03:50:29.651712Z",
     "iopub.status.idle": "2024-10-15T03:50:29.658457Z",
     "shell.execute_reply": "2024-10-15T03:50:29.657099Z"
    },
    "jupyter": {
     "source_hidden": true
    },
    "papermill": {
     "duration": 0.063274,
     "end_time": "2024-10-15T03:50:29.661307",
     "exception": false,
     "start_time": "2024-10-15T03:50:29.598033",
     "status": "completed"
    },
    "tags": []
   },
   "outputs": [],
   "source": [
    "# plt.figure(figsize=(6, 2))\n",
    "# plt.plot(f_raw_train.mean(axis=0))\n",
    "# for time_step in [20500, 23500, 44000, 47000]:\n",
    "#     plt.axvline(time_step, color='gray')\n",
    "# plt.xlabel('time step')\n",
    "# plt.title('FGS1: Overall mean')\n",
    "# plt.show()\n",
    "\n",
    "# plt.figure(figsize=(6, 2))\n",
    "# plt.plot(a_raw_train.mean(axis=0))\n",
    "# for time_step in [20500, 23500, 44000, 47000]:\n",
    "#     plt.axvline(time_step * 11250 // 135000, color='gray')\n",
    "# plt.xlabel('time step')\n",
    "# plt.title('AIRS-CH0: Overall mean')\n",
    "# plt.show()"
   ]
  },
  {
   "cell_type": "code",
   "execution_count": 60,
   "id": "4881a145",
   "metadata": {
    "_kg_hide-input": true,
    "execution": {
     "iopub.execute_input": "2024-10-15T03:50:29.766863Z",
     "iopub.status.busy": "2024-10-15T03:50:29.766324Z",
     "iopub.status.idle": "2024-10-15T03:50:29.772744Z",
     "shell.execute_reply": "2024-10-15T03:50:29.771568Z"
    },
    "jupyter": {
     "source_hidden": true
    },
    "papermill": {
     "duration": 0.062793,
     "end_time": "2024-10-15T03:50:29.775583",
     "exception": false,
     "start_time": "2024-10-15T03:50:29.712790",
     "status": "completed"
    },
    "tags": []
   },
   "outputs": [],
   "source": [
    "# color_array = np.array(plt.rcParams['axes.prop_cycle'].by_key()['color'])\n",
    "# plt.scatter(train.a_relative_reduction, train_labels.wl_1, s=15, alpha=0.5,\n",
    "#             c=color_array[train_adc_info.star])\n",
    "# plt.xlabel('relative signal reduction when planet is in front')\n",
    "# plt.ylabel('target')\n",
    "# plt.title('Correlation between relative signal reduction and target')\n",
    "# # plt.gca().set_aspect('equal')\n",
    "# points = [plt.Line2D([0], [0], label=f'star {i}', marker='o', markersize=3,\n",
    "#          markeredgecolor=color_array[i], markerfacecolor=color_array[i], linestyle='') for i in range(2)]\n",
    "\n",
    "# plt.legend(handles=points)\n",
    "# plt.show()"
   ]
  },
  {
   "cell_type": "markdown",
   "id": "f65b8a90",
   "metadata": {
    "_kg_hide-input": true,
    "papermill": {
     "duration": 0.049312,
     "end_time": "2024-10-15T03:50:29.880122",
     "exception": false,
     "start_time": "2024-10-15T03:50:29.830810",
     "status": "completed"
    },
    "tags": []
   },
   "source": [
    "### Model\n",
    "#### Rigde Model"
   ]
  },
  {
   "cell_type": "code",
   "execution_count": 61,
   "id": "a88bac2c",
   "metadata": {
    "_kg_hide-input": true,
    "execution": {
     "iopub.execute_input": "2024-10-15T03:50:29.984432Z",
     "iopub.status.busy": "2024-10-15T03:50:29.983302Z",
     "iopub.status.idle": "2024-10-15T03:50:29.989824Z",
     "shell.execute_reply": "2024-10-15T03:50:29.988583Z"
    },
    "jupyter": {
     "source_hidden": true
    },
    "papermill": {
     "duration": 0.061898,
     "end_time": "2024-10-15T03:50:29.992598",
     "exception": false,
     "start_time": "2024-10-15T03:50:29.930700",
     "status": "completed"
    },
    "tags": []
   },
   "outputs": [],
   "source": [
    "# model = Ridge(alpha=1e-12)\n",
    "\n",
    "# oof_pred = cross_val_predict(model, train, train_labels)\n",
    "\n",
    "# print(f\"# R2 score: {r2_score(train_labels, oof_pred):.4f}\")\n",
    "# sigma_pred = mean_squared_error(train_labels, oof_pred, squared=False)\n",
    "# print(f\"# Root mean squared error: {sigma_pred:.7f}\")"
   ]
  },
  {
   "cell_type": "code",
   "execution_count": 62,
   "id": "1f677e24",
   "metadata": {
    "_kg_hide-input": true,
    "execution": {
     "iopub.execute_input": "2024-10-15T03:50:30.104395Z",
     "iopub.status.busy": "2024-10-15T03:50:30.103100Z",
     "iopub.status.idle": "2024-10-15T03:50:30.109969Z",
     "shell.execute_reply": "2024-10-15T03:50:30.108519Z"
    },
    "jupyter": {
     "source_hidden": true
    },
    "papermill": {
     "duration": 0.063369,
     "end_time": "2024-10-15T03:50:30.112994",
     "exception": false,
     "start_time": "2024-10-15T03:50:30.049625",
     "status": "completed"
    },
    "tags": []
   },
   "outputs": [],
   "source": [
    "# oof_df = postprocessing(oof_pred, train_adc_info.index, sigma_pred)\n",
    "# display(oof_df)\n",
    "\n",
    "# gll_score = competition_score(train_labels.copy().reset_index(),\n",
    "#                               oof_df.copy().reset_index(),\n",
    "#                               naive_mean=train_labels.values.mean(),\n",
    "#                               naive_sigma=train_labels.values.std(),\n",
    "#                               sigma_true=0.000003)\n",
    "# print(f\"# Estimated competition score: {gll_score:.4f}\")"
   ]
  },
  {
   "cell_type": "code",
   "execution_count": 63,
   "id": "7c7e3355",
   "metadata": {
    "_kg_hide-input": true,
    "execution": {
     "iopub.execute_input": "2024-10-15T03:50:30.221231Z",
     "iopub.status.busy": "2024-10-15T03:50:30.220598Z",
     "iopub.status.idle": "2024-10-15T03:50:30.226197Z",
     "shell.execute_reply": "2024-10-15T03:50:30.225096Z"
    },
    "jupyter": {
     "source_hidden": true
    },
    "papermill": {
     "duration": 0.062495,
     "end_time": "2024-10-15T03:50:30.228806",
     "exception": false,
     "start_time": "2024-10-15T03:50:30.166311",
     "status": "completed"
    },
    "tags": []
   },
   "outputs": [],
   "source": [
    "# model.fit(train, train_labels)\n",
    "# with open('model.pickle', 'wb') as f:\n",
    "#     pickle.dump(model, f)\n",
    "# with open('sigma_pred.pickle', 'wb') as f:\n",
    "#     pickle.dump(sigma_pred, f)"
   ]
  },
  {
   "cell_type": "markdown",
   "id": "08c97978",
   "metadata": {
    "_kg_hide-input": true,
    "papermill": {
     "duration": 0.049618,
     "end_time": "2024-10-15T03:50:30.328493",
     "exception": false,
     "start_time": "2024-10-15T03:50:30.278875",
     "status": "completed"
    },
    "tags": []
   },
   "source": [
    "### Inference"
   ]
  },
  {
   "cell_type": "code",
   "execution_count": 64,
   "id": "1036ca17",
   "metadata": {
    "_kg_hide-input": true,
    "_kg_hide-output": true,
    "execution": {
     "iopub.execute_input": "2024-10-15T03:50:30.429413Z",
     "iopub.status.busy": "2024-10-15T03:50:30.428907Z",
     "iopub.status.idle": "2024-10-15T03:50:30.435120Z",
     "shell.execute_reply": "2024-10-15T03:50:30.433989Z"
    },
    "jupyter": {
     "source_hidden": true
    },
    "papermill": {
     "duration": 0.060035,
     "end_time": "2024-10-15T03:50:30.437943",
     "exception": false,
     "start_time": "2024-10-15T03:50:30.377908",
     "status": "completed"
    },
    "tags": []
   },
   "outputs": [],
   "source": [
    "# # Load the data\n",
    "# test_adc_info = pd.read_csv('/kaggle/input/ariel-data-challenge-2024/test_adc_info.csv',\n",
    "#                            index_col='planet_id')\n",
    "# sample_submission = pd.read_csv('/kaggle/input/ariel-data-challenge-2024/sample_submission.csv',\n",
    "#                                 index_col='planet_id')\n",
    "# f_raw_test = read_and_preprocess('test', sample_submission.index, 'FGS1')\n",
    "# a_raw_test = read_and_preprocess('test', sample_submission.index)\n",
    "# test = feature_engineering(f_raw_test, a_raw_test, test_adc_info)\n",
    "# test = test.iloc[: , :-1]\n",
    "# # Load the model\n",
    "# with open('model.pickle', 'rb') as f:\n",
    "#     model = pickle.load(f)\n",
    "# with open('sigma_pred.pickle', 'rb') as f:\n",
    "#     sigma_pred = pickle.load(f)\n",
    "\n",
    "# # Predict\n",
    "# test_pred = model.predict(test)\n",
    "\n",
    "# # Package into submission file\n",
    "# sub_df = sub_df = postprocessing(test_pred,\n",
    "#                         test_adc_info.index,\n",
    "#                         sigma_pred=np.tile(np.where(test_adc_info[['star']] <= 1, 0.0001555, 0.00085), (1, 283)))\n",
    "# display(sub_df)\n",
    "# sub_df.to_csv('submission_5.csv')"
   ]
  },
  {
   "cell_type": "markdown",
   "id": "6554ede0",
   "metadata": {
    "papermill": {
     "duration": 0.052952,
     "end_time": "2024-10-15T03:50:30.542734",
     "exception": false,
     "start_time": "2024-10-15T03:50:30.489782",
     "status": "completed"
    },
    "tags": []
   },
   "source": [
    "## 7. [ariel_only_correlation | param upd[LB.517]](https://www.kaggle.com/code/hideyukizushi/ariel-only-correlation-param-upd-lb-517)\n",
    "### [yukiZ](https://www.kaggle.com/hideyukizushi)"
   ]
  },
  {
   "cell_type": "markdown",
   "id": "8d28ae5f",
   "metadata": {
    "_kg_hide-input": true,
    "papermill": {
     "duration": 0.050631,
     "end_time": "2024-10-15T03:50:30.645864",
     "exception": false,
     "start_time": "2024-10-15T03:50:30.595233",
     "status": "completed"
    },
    "tags": []
   },
   "source": [
    "### ℹ️ **Info**\n",
    "* **forked original great work kernels**\n",
    "    * https://www.kaggle.com/code/sergeifironov/ariel-only-correlation\n",
    "\n",
    "* **2024/09/08 My Changed**\n",
    "    * scipy minimize() param & other params update"
   ]
  },
  {
   "cell_type": "markdown",
   "id": "04b33cef",
   "metadata": {
    "_kg_hide-input": true,
    "papermill": {
     "duration": 0.0523,
     "end_time": "2024-10-15T03:50:30.750804",
     "exception": false,
     "start_time": "2024-10-15T03:50:30.698504",
     "status": "completed"
    },
    "tags": []
   },
   "source": [
    "---\n",
    "---"
   ]
  },
  {
   "cell_type": "code",
   "execution_count": 65,
   "id": "2af49e7d",
   "metadata": {
    "_kg_hide-input": true,
    "_kg_hide-output": true,
    "execution": {
     "iopub.execute_input": "2024-10-15T03:50:30.854826Z",
     "iopub.status.busy": "2024-10-15T03:50:30.854305Z",
     "iopub.status.idle": "2024-10-15T03:50:30.862088Z",
     "shell.execute_reply": "2024-10-15T03:50:30.860931Z"
    },
    "jupyter": {
     "source_hidden": true
    },
    "papermill": {
     "duration": 0.063447,
     "end_time": "2024-10-15T03:50:30.864869",
     "exception": false,
     "start_time": "2024-10-15T03:50:30.801422",
     "status": "completed"
    },
    "tags": []
   },
   "outputs": [],
   "source": [
    "if 'SOLUTION_7' in ENSEMBLE_SOLUTIONS:\n",
    "    \n",
    "    import pandas as pd\n",
    "    import matplotlib.pyplot as plt\n",
    "    import numpy as np\n",
    "    import seaborn as sns\n",
    "    import scipy.stats\n",
    "    from tqdm import tqdm\n",
    "\n",
    "    from sklearn.model_selection import cross_val_predict\n",
    "    from sklearn.linear_model import Ridge\n",
    "    from sklearn.metrics import r2_score, mean_squared_error\n",
    "    import itertools\n",
    "    from scipy.optimize import minimize\n",
    "    from functools import partial\n",
    "    import random, os\n",
    "    from astropy.stats import sigma_clip"
   ]
  },
  {
   "cell_type": "code",
   "execution_count": 66,
   "id": "a319226a",
   "metadata": {
    "_kg_hide-input": true,
    "_kg_hide-output": true,
    "execution": {
     "iopub.execute_input": "2024-10-15T03:50:30.970401Z",
     "iopub.status.busy": "2024-10-15T03:50:30.969906Z",
     "iopub.status.idle": "2024-10-15T03:50:30.996789Z",
     "shell.execute_reply": "2024-10-15T03:50:30.995311Z"
    },
    "jupyter": {
     "source_hidden": true
    },
    "papermill": {
     "duration": 0.083099,
     "end_time": "2024-10-15T03:50:30.999826",
     "exception": false,
     "start_time": "2024-10-15T03:50:30.916727",
     "status": "completed"
    },
    "tags": []
   },
   "outputs": [],
   "source": [
    "if 'SOLUTION_7' in ENSEMBLE_SOLUTIONS:\n",
    "    \n",
    "    test_adc_info = pd.read_csv('/kaggle/input/ariel-data-challenge-2024/test_adc_info.csv',\n",
    "                               index_col='planet_id')\n",
    "    axis_info = pd.read_parquet('/kaggle/input/ariel-data-challenge-2024/axis_info.parquet')"
   ]
  },
  {
   "cell_type": "code",
   "execution_count": 67,
   "id": "d26e2cf6",
   "metadata": {
    "_kg_hide-input": true,
    "_kg_hide-output": true,
    "execution": {
     "iopub.execute_input": "2024-10-15T03:50:31.104805Z",
     "iopub.status.busy": "2024-10-15T03:50:31.104348Z",
     "iopub.status.idle": "2024-10-15T03:50:41.628120Z",
     "shell.execute_reply": "2024-10-15T03:50:41.626824Z"
    },
    "jupyter": {
     "source_hidden": true
    },
    "papermill": {
     "duration": 10.578474,
     "end_time": "2024-10-15T03:50:41.630847",
     "exception": false,
     "start_time": "2024-10-15T03:50:31.052373",
     "status": "completed"
    },
    "tags": []
   },
   "outputs": [
    {
     "name": "stderr",
     "output_type": "stream",
     "text": [
      "100%|██████████| 1/1 [00:05<00:00,  5.53s/it]\n",
      "100%|██████████| 1/1 [00:04<00:00,  4.94s/it]\n"
     ]
    }
   ],
   "source": [
    "if 'SOLUTION_7' in ENSEMBLE_SOLUTIONS:\n",
    "    \n",
    "    def apply_linear_corr(linear_corr,clean_signal):\n",
    "        linear_corr = np.flip(linear_corr, axis=0)\n",
    "        for x, y in itertools.product(\n",
    "                    range(clean_signal.shape[1]), range(clean_signal.shape[2])\n",
    "                ):\n",
    "            poli = np.poly1d(linear_corr[:, x, y])\n",
    "            clean_signal[:, x, y] = poli(clean_signal[:, x, y])\n",
    "        return clean_signal\n",
    "\n",
    "    def clean_dark(signal, dark, dt):\n",
    "        dark = np.tile(dark, (signal.shape[0], 1, 1))\n",
    "        signal -= dark* dt[:, np.newaxis, np.newaxis]\n",
    "        return signal\n",
    "\n",
    "    def preproc(dataset, adc_info, sensor, binning = 15):\n",
    "        cut_inf, cut_sup = 39, 321\n",
    "        sensor_sizes_dict = {\"AIRS-CH0\":[[11250, 32, 356], [1, 32, cut_sup-cut_inf]], \"FGS1\":[[135000, 32, 32], [1, 32, 32]]}\n",
    "        binned_dict = {\"AIRS-CH0\":[11250 // binning // 2, 282], \"FGS1\":[135000 // binning // 2]}\n",
    "        linear_corr_dict = {\"AIRS-CH0\":(6, 32, 356), \"FGS1\":(6, 32, 32)}\n",
    "        planet_ids = adc_info.index\n",
    "\n",
    "        feats = []\n",
    "        for i, planet_id in tqdm(list(enumerate(planet_ids))):\n",
    "            signal = pd.read_parquet(f'/kaggle/input/ariel-data-challenge-2024/{dataset}/{planet_id}/{sensor}_signal.parquet').to_numpy()\n",
    "            dark_frame = pd.read_parquet(f'/kaggle/input/ariel-data-challenge-2024/{dataset}/' + str(planet_id) + '/' + sensor + '_calibration/dark.parquet', engine='pyarrow').to_numpy()\n",
    "            dead_frame = pd.read_parquet(f'/kaggle/input/ariel-data-challenge-2024/{dataset}/' + str(planet_id) + '/' + sensor + '_calibration/dead.parquet', engine='pyarrow').to_numpy()\n",
    "            flat_frame = pd.read_parquet(f'/kaggle/input/ariel-data-challenge-2024/{dataset}/' + str(planet_id) + '/' + sensor + '_calibration/flat.parquet', engine='pyarrow').to_numpy()\n",
    "            linear_corr = pd.read_parquet(f'/kaggle/input/ariel-data-challenge-2024/{dataset}/' + str(planet_id) + '/' + sensor + '_calibration/linear_corr.parquet').values.astype(np.float64).reshape(linear_corr_dict[sensor])\n",
    "\n",
    "            signal = signal.reshape(sensor_sizes_dict[sensor][0]) \n",
    "            gain = adc_info[f'{sensor}_adc_gain'].values[i]\n",
    "            offset = adc_info[f'{sensor}_adc_offset'].values[i]\n",
    "            signal = signal / gain + offset\n",
    "\n",
    "            hot = sigma_clip(\n",
    "                dark_frame, sigma=8, maxiters=5\n",
    "            ).mask\n",
    "\n",
    "            if sensor != \"FGS1\":\n",
    "                signal = signal[:, :, cut_inf:cut_sup] #11250 * 32 * 282\n",
    "                #dt = axis_info['AIRS-CH0-integration_time'].dropna().values\n",
    "                dt = np.ones(len(signal))*0.1 \n",
    "                dt[1::2] += 4.5 #@bilzard idea\n",
    "                linear_corr = linear_corr[:, :, cut_inf:cut_sup]\n",
    "                dark_frame = dark_frame[:, cut_inf:cut_sup]\n",
    "                dead_frame = dead_frame[:, cut_inf:cut_sup]\n",
    "                flat_frame = flat_frame[:, cut_inf:cut_sup]\n",
    "                hot = hot[:, cut_inf:cut_sup]\n",
    "            else:\n",
    "                dt = np.ones(len(signal))*0.1\n",
    "                dt[1::2] += 0.1\n",
    "\n",
    "            signal = signal.clip(0) #@graySnow idea\n",
    "            linear_corr_signal = apply_linear_corr(linear_corr, signal)\n",
    "            signal = clean_dark(linear_corr_signal, dark_frame, dt)\n",
    "\n",
    "            flat = flat_frame.reshape(sensor_sizes_dict[sensor][1])\n",
    "            flat[dead_frame.reshape(sensor_sizes_dict[sensor][1])] = np.nan\n",
    "            flat[hot.reshape(sensor_sizes_dict[sensor][1])] = np.nan\n",
    "            signal = signal / flat\n",
    "\n",
    "            if sensor == \"FGS1\":\n",
    "                signal = signal.reshape((sensor_sizes_dict[sensor][0][0], sensor_sizes_dict[sensor][0][1]*sensor_sizes_dict[sensor][0][2]))\n",
    "\n",
    "            mean_signal = np.nanmean(signal, axis=1) # mean over the 32*32(FGS1) or 32(CH0) pixels\n",
    "            cds_signal = (mean_signal[1::2] - mean_signal[0::2])\n",
    "\n",
    "            binned = np.zeros((binned_dict[sensor]))\n",
    "            for j in range(cds_signal.shape[0] // binning):\n",
    "                binned[j] = cds_signal[j*binning:j*binning+binning].mean(axis=0)\n",
    "\n",
    "            if sensor == \"FGS1\":\n",
    "                binned = binned.reshape((binned.shape[0],1))\n",
    "\n",
    "            feats.append(binned)\n",
    "\n",
    "        return np.stack(feats)\n",
    "\n",
    "    pre_train = np.concatenate([preproc('test', test_adc_info, \"FGS1\", 30*12), preproc('test', test_adc_info, \"AIRS-CH0\", 30)], axis=2)"
   ]
  },
  {
   "cell_type": "markdown",
   "id": "08f5379e",
   "metadata": {
    "_kg_hide-input": true,
    "papermill": {
     "duration": 0.050676,
     "end_time": "2024-10-15T03:50:41.732261",
     "exception": false,
     "start_time": "2024-10-15T03:50:41.681585",
     "status": "completed"
    },
    "tags": []
   },
   "source": [
    "### fit polynoms for each sample"
   ]
  },
  {
   "cell_type": "code",
   "execution_count": 68,
   "id": "ef02a511",
   "metadata": {
    "_kg_hide-input": true,
    "execution": {
     "iopub.execute_input": "2024-10-15T03:50:41.836355Z",
     "iopub.status.busy": "2024-10-15T03:50:41.834969Z",
     "iopub.status.idle": "2024-10-15T03:50:41.922950Z",
     "shell.execute_reply": "2024-10-15T03:50:41.921561Z"
    },
    "jupyter": {
     "source_hidden": true
    },
    "papermill": {
     "duration": 0.143325,
     "end_time": "2024-10-15T03:50:41.925950",
     "exception": false,
     "start_time": "2024-10-15T03:50:41.782625",
     "status": "completed"
    },
    "tags": []
   },
   "outputs": [],
   "source": [
    "if 'SOLUTION_7' in ENSEMBLE_SOLUTIONS:\n",
    "    \n",
    "    def phase_detector(signal):\n",
    "        phase1, phase2 = None, None\n",
    "        best_drop = 0\n",
    "        for i in range(50//2,150//2):        \n",
    "            t1 = signal[i:i+20//2].max() - signal[i:i+20//2].min()\n",
    "            if t1 > best_drop:\n",
    "                phase1 = i+(20+5)//2\n",
    "                best_drop = t1\n",
    "\n",
    "        best_drop = 0\n",
    "        for i in range(200//2,250//2):\n",
    "            t1 = signal[i:i+20//2].max() - signal[i:i+20//2].min()\n",
    "            if t1 > best_drop:\n",
    "                phase2 = i-5//2\n",
    "                best_drop = t1\n",
    "\n",
    "        return phase1, phase2\n",
    "\n",
    "    def try_s(signal, p1, p2, deg, s):\n",
    "        out = list(range(p1-30)) + list(range(p2+30,signal.shape[0]))\n",
    "        x, y = out, signal[out].tolist()\n",
    "        x = x + list(range(p1,p2))\n",
    "\n",
    "        y = y + (signal[p1:p2] * (1 + s[0])).tolist()\n",
    "        z = np.polyfit(x, y, deg)\n",
    "        p = np.poly1d(z)\n",
    "        q = np.abs(p(x) - y).mean()\n",
    "\n",
    "        if s < 1e-4:\n",
    "            return q + 1e3\n",
    "\n",
    "        return q\n",
    "\n",
    "    def calibrate_signal(signal):\n",
    "        p1,p2 = phase_detector(signal)\n",
    "\n",
    "        best_deg, best_score = 1, 1e12\n",
    "        for deg in range(1, 6):\n",
    "            f = partial(try_s, signal, p1, p2, deg)\n",
    "            r = minimize(f, [0.001], method = 'Nelder-Mead')\n",
    "            s = r.x[0]\n",
    "\n",
    "            out = list(range(p1-30)) + list(range(p2+30,signal.shape[0]))\n",
    "            x, y = out, signal[out].tolist()\n",
    "            x = x + list(range(p1,p2))\n",
    "            y = y + (signal[p1:p2] * (1 + s)).tolist()\n",
    "\n",
    "            z = np.polyfit(x, y, deg)\n",
    "            p = np.poly1d(z)\n",
    "            q = np.abs(p(x) - y).mean()\n",
    "\n",
    "            if q < best_score:\n",
    "                best_score = q\n",
    "                best_deg = deg\n",
    "\n",
    "            print(deg, q)\n",
    "\n",
    "        z = np.polyfit(x, y, best_deg)\n",
    "        p = np.poly1d(z)\n",
    "\n",
    "        return s, x, y, p(x)\n",
    "\n",
    "    def calibrate_train(signal):\n",
    "        p1,p2 = phase_detector(signal)\n",
    "\n",
    "        best_deg, best_score = 1, 1e12\n",
    "        for deg in range(1, 6):\n",
    "            f = partial(try_s, signal, p1, p2, deg)\n",
    "            r = minimize(f, [0.0001], method = 'Nelder-Mead')\n",
    "            s = r.x[0]\n",
    "\n",
    "            out = list(range(p1-30)) + list(range(p2+30,signal.shape[0]))\n",
    "            x, y = out, signal[out].tolist()\n",
    "            x = x + list(range(p1,p2))\n",
    "            y = y + (signal[p1:p2] * (1 + s)).tolist()\n",
    "\n",
    "            z = np.polyfit(x, y, deg)\n",
    "            p = np.poly1d(z)\n",
    "            q = np.abs(p(x) - y).mean()\n",
    "\n",
    "            if q < best_score:\n",
    "                best_score = q\n",
    "                best_deg = deg\n",
    "\n",
    "        z = np.polyfit(x, y, best_deg)\n",
    "        p = np.poly1d(z)\n",
    "\n",
    "        return s, p(np.arange(signal.shape[0])), p1, p2\n",
    "\n",
    "\n",
    "    train = pre_train.copy()\n",
    "    all_s = []\n",
    "    for i in range(len(test_adc_info)):\n",
    "        signal = train[i,:,1:].mean(axis=1)\n",
    "        s, p, p1, p2 = calibrate_train(pre_train[i,:,1:].mean(axis=1))\n",
    "        all_s.append(s)\n",
    "\n",
    "    #copy answer 283 times because we predict mean value\n",
    "    train_s = np.repeat(np.array(all_s), 283).reshape((len(all_s), 283))\n",
    "    \n",
    "    _k_sigma_7 = 0.000176\n",
    "    \n",
    "    \n",
    "    if LAUNCH_VARIANT == 'option 111': _k_sigma_7 = 0.000176135 # _k_sigma_9 = 0.000140985 # \n",
    "    if LAUNCH_VARIANT == 'option 112': _k_sigma_7 = 0.000176270 # _k_sigma_9 = 0.000141120 # \n",
    "    if LAUNCH_VARIANT == 'option 113': _k_sigma_7 = 0.000176405 # _k_sigma_9 = 0.000141255 # \n",
    "        \n",
    "    if LAUNCH_VARIANT == 'option 114': _k_sigma_7 = 0.000176540 # _k_sigma_9 = 0.000141390 # \n",
    "    if LAUNCH_VARIANT == 'option 115': _k_sigma_7 = 0.000176676 # _k_sigma_9 = 0.000141525 # \n",
    "    if LAUNCH_VARIANT == 'option 116': _k_sigma_7 = 0.000176810 # _k_sigma_9 = 0.000141650 # \n",
    "        \n",
    "    if LAUNCH_VARIANT == 'option 117': _k_sigma_7 = 0.000176945 # _k_sigma_9 = 0.000141785 # \n",
    "    if LAUNCH_VARIANT == 'option 118': _k_sigma_7 = 0.000177080 # _k_sigma_9 = 0.000141920 # \n",
    "    if LAUNCH_VARIANT == 'option 119': _k_sigma_7 = 0.000177215 # _k_sigma_9 = 0.000142055 # \n",
    "        \n",
    "\n",
    "    train_sigma = np.ones_like(train_s) * _k_sigma_7"
   ]
  },
  {
   "cell_type": "markdown",
   "id": "bee554a2",
   "metadata": {
    "papermill": {
     "duration": 0.052472,
     "end_time": "2024-10-15T03:50:42.029261",
     "exception": false,
     "start_time": "2024-10-15T03:50:41.976789",
     "status": "completed"
    },
    "tags": []
   },
   "source": [
    "Probably we can accurately estimate sigma from train"
   ]
  },
  {
   "cell_type": "code",
   "execution_count": 69,
   "id": "532061d5",
   "metadata": {
    "_kg_hide-input": true,
    "execution": {
     "iopub.execute_input": "2024-10-15T03:50:42.134731Z",
     "iopub.status.busy": "2024-10-15T03:50:42.134149Z",
     "iopub.status.idle": "2024-10-15T03:50:42.491434Z",
     "shell.execute_reply": "2024-10-15T03:50:42.490005Z"
    },
    "jupyter": {
     "source_hidden": true
    },
    "papermill": {
     "duration": 0.412751,
     "end_time": "2024-10-15T03:50:42.494028",
     "exception": false,
     "start_time": "2024-10-15T03:50:42.081277",
     "status": "completed"
    },
    "tags": []
   },
   "outputs": [
    {
     "name": "stdout",
     "output_type": "stream",
     "text": [
      "1 0.07244680006452496\n",
      "2 0.07002299921950764\n",
      "3 0.06342300208129605\n",
      "4 0.06371088493969411\n",
      "5 0.06319975127381998\n"
     ]
    },
    {
     "data": {
      "image/png": "[encoded data removed]",
      "text/plain": [
       "<Figure size 640x480 with 1 Axes>"
      ]
     },
     "metadata": {},
     "output_type": "display_data"
    }
   ],
   "source": [
    "if 'SOLUTION_7' in ENSEMBLE_SOLUTIONS:\n",
    "    \n",
    "    n = 0\n",
    "    s, x, y, y_new = calibrate_signal(pre_train[n,:,1:].mean(axis=1))\n",
    "    plt.scatter(x,y)\n",
    "    plt.scatter(x,y_new)"
   ]
  },
  {
   "cell_type": "markdown",
   "id": "8588952e",
   "metadata": {
    "papermill": {
     "duration": 0.053257,
     "end_time": "2024-10-15T03:50:42.599869",
     "exception": false,
     "start_time": "2024-10-15T03:50:42.546612",
     "status": "completed"
    },
    "tags": []
   },
   "source": [
    "I call the orange line \"starline\". This is probably what we would see if the planet weren't in the way."
   ]
  },
  {
   "cell_type": "markdown",
   "id": "9df7729d",
   "metadata": {
    "_kg_hide-input": true,
    "papermill": {
     "duration": 0.051922,
     "end_time": "2024-10-15T03:50:42.704853",
     "exception": false,
     "start_time": "2024-10-15T03:50:42.652931",
     "status": "completed"
    },
    "tags": []
   },
   "source": [
    "### Making submission"
   ]
  },
  {
   "cell_type": "code",
   "execution_count": 70,
   "id": "76a2af32",
   "metadata": {
    "_kg_hide-input": true,
    "_kg_hide-output": true,
    "execution": {
     "iopub.execute_input": "2024-10-15T03:50:42.812548Z",
     "iopub.status.busy": "2024-10-15T03:50:42.812007Z",
     "iopub.status.idle": "2024-10-15T03:50:42.849042Z",
     "shell.execute_reply": "2024-10-15T03:50:42.847805Z"
    },
    "jupyter": {
     "source_hidden": true
    },
    "papermill": {
     "duration": 0.093831,
     "end_time": "2024-10-15T03:50:42.852252",
     "exception": false,
     "start_time": "2024-10-15T03:50:42.758421",
     "status": "completed"
    },
    "tags": []
   },
   "outputs": [],
   "source": [
    "if 'SOLUTION_7' in ENSEMBLE_SOLUTIONS:    \n",
    "    \n",
    "    ss = pd.read_csv('/kaggle/input/ariel-data-challenge-2024/sample_submission.csv')\n",
    "\n",
    "    preds = train_s.clip(0)\n",
    "    sigmas = train_sigma\n",
    "    submission = pd.DataFrame(np.concatenate([preds,sigmas], axis=1), columns=ss.columns[1:])\n",
    "    submission.index = test_adc_info.index\n",
    "    submission.to_csv('submission_7.csv')"
   ]
  },
  {
   "cell_type": "markdown",
   "id": "9ff75467",
   "metadata": {
    "papermill": {
     "duration": 0.053012,
     "end_time": "2024-10-15T03:50:42.959214",
     "exception": false,
     "start_time": "2024-10-15T03:50:42.906202",
     "status": "completed"
    },
    "tags": []
   },
   "source": [
    "## 8. [Ariel Data Challenge 2024](https://www.kaggle.com/code/xiaocao123/ariel-data-challenge-2024)\n",
    "### [qianc](https://www.kaggle.com/xiaocao123)"
   ]
  },
  {
   "cell_type": "markdown",
   "id": "0694161b",
   "metadata": {
    "_kg_hide-input": true,
    "papermill": {
     "duration": 0.052398,
     "end_time": "2024-10-15T03:50:43.065533",
     "exception": false,
     "start_time": "2024-10-15T03:50:43.013135",
     "status": "completed"
    },
    "tags": []
   },
   "source": [
    "This notebook is an update of https://www.kaggle.com/code/sergeifironov/ariel-only-correlation\n",
    "from Sergei Fironov\n",
    "\n",
    "Updates :\n",
    "- keep 10:22 pixels from the 32 (the image are well centred)\n",
    "- Use the derivative for the determination of the beginning and end of the signal during eclipse (idea from Reza R. Choubeh)\n",
    "- 'Simplification' of the code for minimize\n",
    "- Degree of polyfit <= 4\n",
    "- Predictions of test after training Ridge regression with the modelization results (targets predictions with modelization) and the True targets. "
   ]
  },
  {
   "cell_type": "markdown",
   "id": "044ab7a3",
   "metadata": {
    "_kg_hide-input": true,
    "papermill": {
     "duration": 0.052531,
     "end_time": "2024-10-15T03:50:43.170684",
     "exception": false,
     "start_time": "2024-10-15T03:50:43.118153",
     "status": "completed"
    },
    "tags": []
   },
   "source": [
    "### Librairies"
   ]
  },
  {
   "cell_type": "code",
   "execution_count": 71,
   "id": "fc0de9cf",
   "metadata": {
    "_kg_hide-input": true,
    "execution": {
     "iopub.execute_input": "2024-10-15T03:50:43.279658Z",
     "iopub.status.busy": "2024-10-15T03:50:43.279163Z",
     "iopub.status.idle": "2024-10-15T03:50:43.284690Z",
     "shell.execute_reply": "2024-10-15T03:50:43.283548Z"
    },
    "jupyter": {
     "source_hidden": true
    },
    "papermill": {
     "duration": 0.06278,
     "end_time": "2024-10-15T03:50:43.287280",
     "exception": false,
     "start_time": "2024-10-15T03:50:43.224500",
     "status": "completed"
    },
    "tags": []
   },
   "outputs": [],
   "source": [
    "# import pandas as pd\n",
    "# import matplotlib.pyplot as plt\n",
    "# import numpy as np\n",
    "# from tqdm import tqdm\n",
    "# import joblib\n",
    "\n",
    "# from sklearn.linear_model import Ridge\n",
    "# from sklearn.metrics import r2_score, mean_squared_error\n",
    "# import itertools\n",
    "\n",
    "# from scipy.optimize import minimize\n",
    "# from scipy import optimize\n",
    "\n",
    "# from astropy.stats import sigma_clip"
   ]
  },
  {
   "cell_type": "code",
   "execution_count": 72,
   "id": "4fbcac85",
   "metadata": {
    "_kg_hide-input": true,
    "execution": {
     "iopub.execute_input": "2024-10-15T03:50:43.396544Z",
     "iopub.status.busy": "2024-10-15T03:50:43.396011Z",
     "iopub.status.idle": "2024-10-15T03:50:43.402086Z",
     "shell.execute_reply": "2024-10-15T03:50:43.400593Z"
    },
    "jupyter": {
     "source_hidden": true
    },
    "papermill": {
     "duration": 0.063955,
     "end_time": "2024-10-15T03:50:43.404646",
     "exception": false,
     "start_time": "2024-10-15T03:50:43.340691",
     "status": "completed"
    },
    "tags": []
   },
   "outputs": [],
   "source": [
    "# dataset = 'test'\n",
    "# adc_info = pd.read_csv('/kaggle/input/ariel-data-challenge-2024/'+f'{dataset}_adc_info.csv',index_col='planet_id')\n",
    "# axis_info = pd.read_parquet('/kaggle/input/ariel-data-challenge-2024/axis_info.parquet')"
   ]
  },
  {
   "cell_type": "markdown",
   "id": "67af6f38",
   "metadata": {
    "_kg_hide-input": true,
    "papermill": {
     "duration": 0.051133,
     "end_time": "2024-10-15T03:50:43.507964",
     "exception": false,
     "start_time": "2024-10-15T03:50:43.456831",
     "status": "completed"
    },
    "tags": []
   },
   "source": [
    "### Calibration"
   ]
  },
  {
   "cell_type": "code",
   "execution_count": 73,
   "id": "8d20716e",
   "metadata": {
    "_kg_hide-input": true,
    "execution": {
     "iopub.execute_input": "2024-10-15T03:50:43.616408Z",
     "iopub.status.busy": "2024-10-15T03:50:43.615897Z",
     "iopub.status.idle": "2024-10-15T03:50:43.625939Z",
     "shell.execute_reply": "2024-10-15T03:50:43.624482Z"
    },
    "jupyter": {
     "source_hidden": true
    },
    "papermill": {
     "duration": 0.069297,
     "end_time": "2024-10-15T03:50:43.628754",
     "exception": false,
     "start_time": "2024-10-15T03:50:43.559457",
     "status": "completed"
    },
    "tags": []
   },
   "outputs": [],
   "source": [
    "# def apply_linear_corr(linear_corr,clean_signal):\n",
    "#     linear_corr = np.flip(linear_corr, axis=0)\n",
    "#     for x, y in itertools.product(\n",
    "#                 range(clean_signal.shape[1]), range(clean_signal.shape[2])\n",
    "#             ):\n",
    "#         poli = np.poly1d(linear_corr[:, x, y])\n",
    "#         clean_signal[:, x, y] = poli(clean_signal[:, x, y])\n",
    "#     return clean_signal\n",
    "\n",
    "# def clean_dark(signal, dark, dt):\n",
    "#     dark = np.tile(dark, (signal.shape[0], 1, 1))\n",
    "#     signal -= dark* dt[:, np.newaxis, np.newaxis]\n",
    "#     return signal\n",
    "\n",
    "# def preproc(dataset, adc_info, sensor, binning = 15):\n",
    "#     cut_inf, cut_sup = 39, 321\n",
    "#     sensor_sizes_dict = {\"AIRS-CH0\":[[11250, 32, 356], [1, 32, cut_sup-cut_inf]], \"FGS1\":[[135000, 32, 32], [1, 32, 32]]}\n",
    "#     binned_dict = {\"AIRS-CH0\":[11250 // binning // 2, 282], \"FGS1\":[135000 // binning // 2]}\n",
    "#     linear_corr_dict = {\"AIRS-CH0\":(6, 32, 356), \"FGS1\":(6, 32, 32)}\n",
    "#     planet_ids = adc_info.index\n",
    "    \n",
    "#     feats = []\n",
    "#     for i, planet_id in tqdm(list(enumerate(planet_ids))):\n",
    "#         signal = pd.read_parquet(f'/kaggle/input/ariel-data-challenge-2024/{dataset}/{planet_id}/{sensor}_signal.parquet').to_numpy()\n",
    "#         dark_frame = pd.read_parquet(f'/kaggle/input/ariel-data-challenge-2024/{dataset}/' + str(planet_id) + '/' + sensor + '_calibration/dark.parquet', engine='pyarrow').to_numpy()\n",
    "#         dead_frame = pd.read_parquet(f'/kaggle/input/ariel-data-challenge-2024/{dataset}/' + str(planet_id) + '/' + sensor + '_calibration/dead.parquet', engine='pyarrow').to_numpy()\n",
    "#         flat_frame = pd.read_parquet(f'/kaggle/input/ariel-data-challenge-2024/{dataset}/' + str(planet_id) + '/' + sensor + '_calibration/flat.parquet', engine='pyarrow').to_numpy()\n",
    "#         linear_corr = pd.read_parquet(f'/kaggle/input/ariel-data-challenge-2024/{dataset}/' + str(planet_id) + '/' + sensor + '_calibration/linear_corr.parquet').values.astype(np.float64).reshape(linear_corr_dict[sensor])\n",
    "\n",
    "#         signal = signal.reshape(sensor_sizes_dict[sensor][0]) \n",
    "#         gain = adc_info[f'{sensor}_adc_gain'].values[i]\n",
    "#         offset = adc_info[f'{sensor}_adc_offset'].values[i]\n",
    "#         signal = signal / gain + offset\n",
    "        \n",
    "#         hot = sigma_clip(\n",
    "#             dark_frame, sigma=5, maxiters=5\n",
    "#         ).mask\n",
    "        \n",
    "#         if sensor != \"FGS1\":\n",
    "#             signal = signal[:, :, cut_inf:cut_sup] \n",
    "#             dt = np.ones(len(signal))*0.1 \n",
    "#             dt[1::2] += 4.5 #@bilzard idea\n",
    "#             linear_corr = linear_corr[:, :, cut_inf:cut_sup]\n",
    "#             dark_frame = dark_frame[:, cut_inf:cut_sup]\n",
    "#             dead_frame = dead_frame[:, cut_inf:cut_sup]\n",
    "#             flat_frame = flat_frame[:, cut_inf:cut_sup]\n",
    "#             hot = hot[:, cut_inf:cut_sup]\n",
    "#         else:\n",
    "#             dt = np.ones(len(signal))*0.1\n",
    "#             dt[1::2] += 0.1\n",
    "            \n",
    "#         signal = signal.clip(0) #@graySnow idea\n",
    "#         linear_corr_signal = apply_linear_corr(linear_corr, signal)\n",
    "#         signal = clean_dark(linear_corr_signal, dark_frame, dt)\n",
    "        \n",
    "#         flat = flat_frame.reshape(sensor_sizes_dict[sensor][1])\n",
    "#         flat[dead_frame.reshape(sensor_sizes_dict[sensor][1])] = np.nan\n",
    "#         flat[hot.reshape(sensor_sizes_dict[sensor][1])] = np.nan\n",
    "#         signal = signal / flat\n",
    "        \n",
    "        \n",
    "#         if sensor == \"FGS1\":\n",
    "#             signal = signal[:,10:22,10:22] # **** updates ****\n",
    "#             signal = signal.reshape(sensor_sizes_dict[sensor][0][0],144) # # **** updates ****\n",
    "\n",
    "#         if sensor != \"FGS1\":\n",
    "#             signal = signal[:,10:22,:] # **** updates ****\n",
    "\n",
    "#         mean_signal = np.nanmean(signal, axis=1) \n",
    "#         cds_signal = (mean_signal[1::2] - mean_signal[0::2])\n",
    "        \n",
    "#         binned = np.zeros((binned_dict[sensor]))\n",
    "#         for j in range(cds_signal.shape[0] // binning):\n",
    "#             binned[j] = cds_signal[j*binning:j*binning+binning].mean(axis=0) \n",
    "                   \n",
    "#         if sensor == \"FGS1\":\n",
    "#             binned = binned.reshape((binned.shape[0],1))\n",
    "        \n",
    "#         feats.append(binned)\n",
    "        \n",
    "#     return np.stack(feats)\n",
    "    \n",
    "# pre_train = np.concatenate([preproc(f'{dataset}', adc_info, \"FGS1\", 30*12), preproc(f'{dataset}', adc_info, \"AIRS-CH0\", 30)], axis=2)"
   ]
  },
  {
   "cell_type": "markdown",
   "id": "d1830e70",
   "metadata": {
    "_kg_hide-input": true,
    "papermill": {
     "duration": 0.052592,
     "end_time": "2024-10-15T03:50:43.733326",
     "exception": false,
     "start_time": "2024-10-15T03:50:43.680734",
     "status": "completed"
    },
    "tags": []
   },
   "source": [
    "### Modelization"
   ]
  },
  {
   "cell_type": "code",
   "execution_count": 74,
   "id": "376de129",
   "metadata": {
    "_kg_hide-input": true,
    "execution": {
     "iopub.execute_input": "2024-10-15T03:50:43.839513Z",
     "iopub.status.busy": "2024-10-15T03:50:43.838982Z",
     "iopub.status.idle": "2024-10-15T03:50:43.846381Z",
     "shell.execute_reply": "2024-10-15T03:50:43.845071Z"
    },
    "jupyter": {
     "source_hidden": true
    },
    "papermill": {
     "duration": 0.063504,
     "end_time": "2024-10-15T03:50:43.848952",
     "exception": false,
     "start_time": "2024-10-15T03:50:43.785448",
     "status": "completed"
    },
    "tags": []
   },
   "outputs": [],
   "source": [
    "# def phase_detector(signal):\n",
    "    \n",
    "#     MIN = np.argmin(signal[30:140])+30\n",
    "#     signal1 = signal[:MIN ]\n",
    "#     signal2 = signal[MIN :]\n",
    "\n",
    "#     first_derivative1 = np.gradient(signal1)\n",
    "#     first_derivative1 /= first_derivative1.max()\n",
    "#     first_derivative2 = np.gradient(signal2)\n",
    "#     first_derivative2 /= first_derivative2.max()\n",
    "\n",
    "#     phase1 = np.argmin(first_derivative1)\n",
    "#     phase2 = np.argmax(first_derivative2) + MIN\n",
    "\n",
    "#     return phase1, phase2\n",
    "    \n",
    "# def objective(s):\n",
    "    \n",
    "#     best_q = 1e10\n",
    "#     for i in range(4) :\n",
    "#         delta = 2\n",
    "#         x = list(range(signal.shape[0]-delta*4))\n",
    "#         y = signal[:p1-delta].tolist() + (signal[p1+delta:p2 - delta] * (1 + s)).tolist() + signal[p2+delta:].tolist()\n",
    "        \n",
    "#         z = np.polyfit(x, y, deg=i)\n",
    "#         p = np.poly1d(z)\n",
    "#         q = np.abs(p(x) - y).mean()\n",
    "    \n",
    "#     if q < best_q :\n",
    "#         best_q = q\n",
    "    \n",
    "#     return q\n",
    "\n",
    "\n",
    "# all_s = []\n",
    "# for i in tqdm(range(len(adc_info))):\n",
    "    \n",
    "#     signal = pre_train[i,:,1:].mean(axis=1)\n",
    "#     p1,p2 = phase_detector(signal)\n",
    " \n",
    "#     r = minimize(\n",
    "#                 objective,\n",
    "#                 [0.0001],\n",
    "#                 method= 'Nelder-Mead'\n",
    "#                   )\n",
    "#     s = r.x[0]\n",
    "#     all_s.append(s)\n",
    "    \n",
    "# all_s = np.repeat(np.array(all_s), 283).reshape((len(all_s), 283))        "
   ]
  },
  {
   "cell_type": "markdown",
   "id": "79d6a76a",
   "metadata": {
    "_kg_hide-input": true,
    "papermill": {
     "duration": 0.051467,
     "end_time": "2024-10-15T03:50:43.952098",
     "exception": false,
     "start_time": "2024-10-15T03:50:43.900631",
     "status": "completed"
    },
    "tags": []
   },
   "source": [
    "### Predictions with Ridge model"
   ]
  },
  {
   "cell_type": "code",
   "execution_count": 75,
   "id": "94a214cd",
   "metadata": {
    "_kg_hide-input": true,
    "execution": {
     "iopub.execute_input": "2024-10-15T03:50:44.059005Z",
     "iopub.status.busy": "2024-10-15T03:50:44.058493Z",
     "iopub.status.idle": "2024-10-15T03:50:44.064199Z",
     "shell.execute_reply": "2024-10-15T03:50:44.062888Z"
    },
    "jupyter": {
     "source_hidden": true
    },
    "papermill": {
     "duration": 0.062742,
     "end_time": "2024-10-15T03:50:44.066991",
     "exception": false,
     "start_time": "2024-10-15T03:50:44.004249",
     "status": "completed"
    },
    "tags": []
   },
   "outputs": [],
   "source": [
    "# pd.DataFrame(all_s)"
   ]
  },
  {
   "cell_type": "code",
   "execution_count": 76,
   "id": "3949449a",
   "metadata": {
    "_kg_hide-input": true,
    "execution": {
     "iopub.execute_input": "2024-10-15T03:50:44.173463Z",
     "iopub.status.busy": "2024-10-15T03:50:44.172945Z",
     "iopub.status.idle": "2024-10-15T03:50:44.179046Z",
     "shell.execute_reply": "2024-10-15T03:50:44.177663Z"
    },
    "jupyter": {
     "source_hidden": true
    },
    "papermill": {
     "duration": 0.061968,
     "end_time": "2024-10-15T03:50:44.181532",
     "exception": false,
     "start_time": "2024-10-15T03:50:44.119564",
     "status": "completed"
    },
    "tags": []
   },
   "outputs": [],
   "source": [
    "# model = joblib.load(\"/kaggle/input/adc24-meta-model-ridge/model_ridge_10_22_delta2.joblib\")\n",
    "# pred = model.predict(all_s)\n",
    "# pd.DataFrame(pred)\n",
    "# import pickle\n",
    "# with open('/kaggle/input/ad24-train-inf-ridge-addfe-lb-441/model.pickle', 'rb') as f:\n",
    "#     model = pickle.load(f)\n",
    "# pred = model.predict(all_s)\n",
    "# pd.DataFrame(pred)"
   ]
  },
  {
   "cell_type": "markdown",
   "id": "02cd6fe5",
   "metadata": {
    "_kg_hide-input": true,
    "papermill": {
     "duration": 0.051489,
     "end_time": "2024-10-15T03:50:44.284775",
     "exception": false,
     "start_time": "2024-10-15T03:50:44.233286",
     "status": "completed"
    },
    "tags": []
   },
   "source": [
    "### Submission"
   ]
  },
  {
   "cell_type": "code",
   "execution_count": 77,
   "id": "fa192cfa",
   "metadata": {
    "_kg_hide-input": true,
    "execution": {
     "iopub.execute_input": "2024-10-15T03:50:44.399122Z",
     "iopub.status.busy": "2024-10-15T03:50:44.397545Z",
     "iopub.status.idle": "2024-10-15T03:50:44.403923Z",
     "shell.execute_reply": "2024-10-15T03:50:44.402546Z"
    },
    "jupyter": {
     "source_hidden": true
    },
    "papermill": {
     "duration": 0.06429,
     "end_time": "2024-10-15T03:50:44.406443",
     "exception": false,
     "start_time": "2024-10-15T03:50:44.342153",
     "status": "completed"
    },
    "tags": []
   },
   "outputs": [],
   "source": [
    "# ss = pd.read_csv('/kaggle/input/ariel-data-challenge-2024/sample_submission.csv')\n",
    "# sigma = np.ones_like(all_s) * 0.000145 \n",
    "# pred = all_s.clip(0) \n",
    "# submission = pd.DataFrame(np.concatenate([pred,sigma], axis=1), columns=ss.columns[1:])\n",
    "# submission.index = adc_info.index\n",
    "# submission.to_csv('submission_8.csv')\n",
    "# submission"
   ]
  },
  {
   "cell_type": "markdown",
   "id": "7b4f779a",
   "metadata": {
    "papermill": {
     "duration": 0.055844,
     "end_time": "2024-10-15T03:50:44.514938",
     "exception": false,
     "start_time": "2024-10-15T03:50:44.459094",
     "status": "completed"
    },
    "tags": []
   },
   "source": [
    "## 9. [LB=0.545](https://www.kaggle.com/code/xiaocao123/lb-0-545)\n",
    "### [qianc](https://www.kaggle.com/xiaocao123)"
   ]
  },
  {
   "cell_type": "markdown",
   "id": "7162638b",
   "metadata": {
    "_kg_hide-input": true,
    "papermill": {
     "duration": 0.056131,
     "end_time": "2024-10-15T03:50:44.642702",
     "exception": false,
     "start_time": "2024-10-15T03:50:44.586571",
     "status": "completed"
    },
    "tags": []
   },
   "source": [
    " Notebook from https://www.kaggle.com/code/vyacheslavbolotin/ariel-ensemble-of-solutions\n",
    " If it is useful to you, please give your like.\n",
    "\n",
    " Below is the link to my other notebook, which is also the first sharer.\n",
    "\n",
    " https://www.kaggle.com/code/xiaocao123/ariel-data-challenge-2024"
   ]
  },
  {
   "cell_type": "markdown",
   "id": "afbaa24b",
   "metadata": {
    "_kg_hide-input": true,
    "papermill": {
     "duration": 0.052599,
     "end_time": "2024-10-15T03:50:44.747740",
     "exception": false,
     "start_time": "2024-10-15T03:50:44.695141",
     "status": "completed"
    },
    "tags": []
   },
   "source": [
    "This notebook is an update of https://www.kaggle.com/code/sergeifironov/ariel-only-correlation\n",
    "from Sergei Fironov\n",
    "\n",
    "Updates :\n",
    "- keep 10:22 pixels from the 32 (the image are well centred)\n",
    "- Use the derivative for the determination of the beginning and end of the signal during eclipse (idea from Reza R. Choubeh)\n",
    "- 'Simplification' of the code for minimize\n",
    "- Degree of polyfit <= 4\n",
    "- Predictions of test after training Ridge regression with the modelization results (targets predictions with modelization) and the True targets. "
   ]
  },
  {
   "cell_type": "markdown",
   "id": "40db471e",
   "metadata": {
    "_kg_hide-input": true,
    "papermill": {
     "duration": 0.051806,
     "end_time": "2024-10-15T03:50:44.851510",
     "exception": false,
     "start_time": "2024-10-15T03:50:44.799704",
     "status": "completed"
    },
    "tags": []
   },
   "source": [
    "### Librairies"
   ]
  },
  {
   "cell_type": "code",
   "execution_count": 78,
   "id": "18ee7e1d",
   "metadata": {
    "_kg_hide-input": true,
    "execution": {
     "iopub.execute_input": "2024-10-15T03:50:44.958425Z",
     "iopub.status.busy": "2024-10-15T03:50:44.957862Z",
     "iopub.status.idle": "2024-10-15T03:50:44.965685Z",
     "shell.execute_reply": "2024-10-15T03:50:44.964314Z"
    },
    "jupyter": {
     "source_hidden": true
    },
    "papermill": {
     "duration": 0.064127,
     "end_time": "2024-10-15T03:50:44.968428",
     "exception": false,
     "start_time": "2024-10-15T03:50:44.904301",
     "status": "completed"
    },
    "tags": []
   },
   "outputs": [],
   "source": [
    "if 'SOLUTION_9' in ENSEMBLE_SOLUTIONS:\n",
    "    \n",
    "    import pandas as pd\n",
    "    import matplotlib.pyplot as plt\n",
    "    import numpy as np\n",
    "    from tqdm import tqdm\n",
    "    import joblib\n",
    "\n",
    "    from sklearn.linear_model import Ridge\n",
    "    from sklearn.metrics import r2_score, mean_squared_error\n",
    "    import itertools\n",
    "\n",
    "    from scipy.optimize import minimize\n",
    "    from scipy import optimize\n",
    "\n",
    "    from astropy.stats import sigma_clip"
   ]
  },
  {
   "cell_type": "code",
   "execution_count": 79,
   "id": "2a15e94d",
   "metadata": {
    "_kg_hide-input": true,
    "execution": {
     "iopub.execute_input": "2024-10-15T03:50:45.078282Z",
     "iopub.status.busy": "2024-10-15T03:50:45.077793Z",
     "iopub.status.idle": "2024-10-15T03:50:45.101063Z",
     "shell.execute_reply": "2024-10-15T03:50:45.099789Z"
    },
    "jupyter": {
     "source_hidden": true
    },
    "papermill": {
     "duration": 0.081997,
     "end_time": "2024-10-15T03:50:45.104031",
     "exception": false,
     "start_time": "2024-10-15T03:50:45.022034",
     "status": "completed"
    },
    "tags": []
   },
   "outputs": [],
   "source": [
    "if 'SOLUTION_9' in ENSEMBLE_SOLUTIONS:\n",
    "    \n",
    "    dataset = 'test'\n",
    "    adc_info = pd.read_csv('/kaggle/input/ariel-data-challenge-2024/'+f'{dataset}_adc_info.csv',index_col='planet_id')\n",
    "    axis_info = pd.read_parquet('/kaggle/input/ariel-data-challenge-2024/axis_info.parquet')"
   ]
  },
  {
   "cell_type": "code",
   "execution_count": 80,
   "id": "ca3c4440",
   "metadata": {
    "_kg_hide-input": true,
    "_kg_hide-output": true,
    "execution": {
     "iopub.execute_input": "2024-10-15T03:50:45.211739Z",
     "iopub.status.busy": "2024-10-15T03:50:45.211204Z",
     "iopub.status.idle": "2024-10-15T03:50:55.001843Z",
     "shell.execute_reply": "2024-10-15T03:50:55.000272Z"
    },
    "jupyter": {
     "source_hidden": true
    },
    "papermill": {
     "duration": 9.847692,
     "end_time": "2024-10-15T03:50:55.004628",
     "exception": false,
     "start_time": "2024-10-15T03:50:45.156936",
     "status": "completed"
    },
    "tags": []
   },
   "outputs": [
    {
     "name": "stderr",
     "output_type": "stream",
     "text": [
      "100%|██████████| 1/1 [00:04<00:00,  4.80s/it]\n",
      "100%|██████████| 1/1 [00:04<00:00,  4.94s/it]\n"
     ]
    }
   ],
   "source": [
    "if 'SOLUTION_9' in ENSEMBLE_SOLUTIONS:\n",
    "    \n",
    "    def apply_linear_corr(linear_corr,clean_signal):\n",
    "        linear_corr = np.flip(linear_corr, axis=0)\n",
    "        for x, y in itertools.product(\n",
    "                    range(clean_signal.shape[1]), range(clean_signal.shape[2])\n",
    "                ):\n",
    "            poli = np.poly1d(linear_corr[:, x, y])\n",
    "            clean_signal[:, x, y] = poli(clean_signal[:, x, y])\n",
    "        return clean_signal\n",
    "\n",
    "    def clean_dark(signal, dark, dt):\n",
    "        dark = np.tile(dark, (signal.shape[0], 1, 1))\n",
    "        signal -= dark* dt[:, np.newaxis, np.newaxis]\n",
    "        return signal\n",
    "\n",
    "    def preproc(dataset, adc_info, sensor, binning = 15):\n",
    "        cut_inf, cut_sup = 39, 321\n",
    "        sensor_sizes_dict = {\"AIRS-CH0\":[[11250, 32, 356], [1, 32, cut_sup-cut_inf]], \"FGS1\":[[135000, 32, 32], [1, 32, 32]]}\n",
    "        binned_dict = {\"AIRS-CH0\":[11250 // binning // 2, 282], \"FGS1\":[135000 // binning // 2]}\n",
    "        linear_corr_dict = {\"AIRS-CH0\":(6, 32, 356), \"FGS1\":(6, 32, 32)}\n",
    "        planet_ids = adc_info.index\n",
    "\n",
    "        feats = []\n",
    "        for i, planet_id in tqdm(list(enumerate(planet_ids))):\n",
    "            signal = pd.read_parquet(f'/kaggle/input/ariel-data-challenge-2024/{dataset}/{planet_id}/{sensor}_signal.parquet').to_numpy()\n",
    "            dark_frame = pd.read_parquet(f'/kaggle/input/ariel-data-challenge-2024/{dataset}/' + str(planet_id) + '/' + sensor + '_calibration/dark.parquet', engine='pyarrow').to_numpy()\n",
    "            dead_frame = pd.read_parquet(f'/kaggle/input/ariel-data-challenge-2024/{dataset}/' + str(planet_id) + '/' + sensor + '_calibration/dead.parquet', engine='pyarrow').to_numpy()\n",
    "            flat_frame = pd.read_parquet(f'/kaggle/input/ariel-data-challenge-2024/{dataset}/' + str(planet_id) + '/' + sensor + '_calibration/flat.parquet', engine='pyarrow').to_numpy()\n",
    "            linear_corr = pd.read_parquet(f'/kaggle/input/ariel-data-challenge-2024/{dataset}/' + str(planet_id) + '/' + sensor + '_calibration/linear_corr.parquet').values.astype(np.float64).reshape(linear_corr_dict[sensor])\n",
    "\n",
    "            signal = signal.reshape(sensor_sizes_dict[sensor][0]) \n",
    "            gain = adc_info[f'{sensor}_adc_gain'].values[i]\n",
    "            offset = adc_info[f'{sensor}_adc_offset'].values[i]\n",
    "            signal = signal / gain + offset\n",
    "\n",
    "            hot = sigma_clip(\n",
    "                dark_frame, sigma=5, maxiters=5\n",
    "            ).mask\n",
    "\n",
    "            if sensor != \"FGS1\":\n",
    "                signal = signal[:, :, cut_inf:cut_sup] \n",
    "                dt = np.ones(len(signal))*0.1 \n",
    "                dt[1::2] += 4.5 #@bilzard idea\n",
    "                linear_corr = linear_corr[:, :, cut_inf:cut_sup]\n",
    "                dark_frame = dark_frame[:, cut_inf:cut_sup]\n",
    "                dead_frame = dead_frame[:, cut_inf:cut_sup]\n",
    "                flat_frame = flat_frame[:, cut_inf:cut_sup]\n",
    "                hot = hot[:, cut_inf:cut_sup]\n",
    "            else:\n",
    "                dt = np.ones(len(signal))*0.1\n",
    "                dt[1::2] += 0.1\n",
    "\n",
    "            signal = signal.clip(0) #@graySnow idea\n",
    "            linear_corr_signal = apply_linear_corr(linear_corr, signal)\n",
    "            signal = clean_dark(linear_corr_signal, dark_frame, dt)\n",
    "\n",
    "            flat = flat_frame.reshape(sensor_sizes_dict[sensor][1])\n",
    "            flat[dead_frame.reshape(sensor_sizes_dict[sensor][1])] = np.nan\n",
    "            flat[hot.reshape(sensor_sizes_dict[sensor][1])] = np.nan\n",
    "            signal = signal / flat\n",
    "\n",
    "\n",
    "            if sensor == \"FGS1\":\n",
    "                signal = signal[:,10:22,10:22] # **** updates ****\n",
    "                signal = signal.reshape(sensor_sizes_dict[sensor][0][0],144) # # **** updates ****\n",
    "\n",
    "            if sensor != \"FGS1\":\n",
    "                signal = signal[:,10:22,:] # **** updates ****\n",
    "\n",
    "            mean_signal = np.nanmean(signal, axis=1) \n",
    "            cds_signal = (mean_signal[1::2] - mean_signal[0::2])\n",
    "\n",
    "            binned = np.zeros((binned_dict[sensor]))\n",
    "            for j in range(cds_signal.shape[0] // binning):\n",
    "                binned[j] = cds_signal[j*binning:j*binning+binning].mean(axis=0) \n",
    "\n",
    "            if sensor == \"FGS1\":\n",
    "                binned = binned.reshape((binned.shape[0],1))\n",
    "\n",
    "            feats.append(binned)\n",
    "\n",
    "        return np.stack(feats)\n",
    "\n",
    "    pre_train = np.concatenate([preproc(f'{dataset}', adc_info, \"FGS1\", 30*12), preproc(f'{dataset}', adc_info, \"AIRS-CH0\", 30)], axis=2)"
   ]
  },
  {
   "cell_type": "markdown",
   "id": "cceaeb61",
   "metadata": {
    "_kg_hide-input": true,
    "papermill": {
     "duration": 0.054865,
     "end_time": "2024-10-15T03:50:55.114857",
     "exception": false,
     "start_time": "2024-10-15T03:50:55.059992",
     "status": "completed"
    },
    "tags": []
   },
   "source": [
    "### Modelization"
   ]
  },
  {
   "cell_type": "code",
   "execution_count": 81,
   "id": "20962157",
   "metadata": {
    "_kg_hide-input": true,
    "_kg_hide-output": true,
    "execution": {
     "iopub.execute_input": "2024-10-15T03:50:55.228648Z",
     "iopub.status.busy": "2024-10-15T03:50:55.228119Z",
     "iopub.status.idle": "2024-10-15T03:50:55.291188Z",
     "shell.execute_reply": "2024-10-15T03:50:55.289793Z"
    },
    "jupyter": {
     "source_hidden": true
    },
    "papermill": {
     "duration": 0.122903,
     "end_time": "2024-10-15T03:50:55.293696",
     "exception": false,
     "start_time": "2024-10-15T03:50:55.170793",
     "status": "completed"
    },
    "tags": []
   },
   "outputs": [
    {
     "name": "stderr",
     "output_type": "stream",
     "text": [
      "100%|██████████| 1/1 [00:00<00:00, 23.18it/s]\n"
     ]
    }
   ],
   "source": [
    "if 'SOLUTION_9' in ENSEMBLE_SOLUTIONS:\n",
    "    \n",
    "    def phase_detector(signal):\n",
    "\n",
    "        MIN = np.argmin(signal[30:140])+30\n",
    "        signal1 = signal[:MIN ]\n",
    "        signal2 = signal[MIN :]\n",
    "\n",
    "        first_derivative1 = np.gradient(signal1)\n",
    "        first_derivative1 /= first_derivative1.max()\n",
    "        first_derivative2 = np.gradient(signal2)\n",
    "        first_derivative2 /= first_derivative2.max()\n",
    "\n",
    "        phase1 = np.argmin(first_derivative1)\n",
    "        phase2 = np.argmax(first_derivative2) + MIN\n",
    "\n",
    "        return phase1, phase2\n",
    "\n",
    "    def objective(s):\n",
    "\n",
    "        best_q = 1e10\n",
    "        for i in range(4) :\n",
    "            delta = 2\n",
    "            x = list(range(signal.shape[0]-delta*4))\n",
    "            y = signal[:p1-delta].tolist() + (signal[p1+delta:p2 - delta] * (1 + s)).tolist() + signal[p2+delta:].tolist()\n",
    "\n",
    "            z = np.polyfit(x, y, deg=i)\n",
    "            p = np.poly1d(z)\n",
    "            q = np.abs(p(x) - y).mean()\n",
    "\n",
    "        if q < best_q :\n",
    "            best_q = q\n",
    "\n",
    "        return q\n",
    "\n",
    "\n",
    "    all_s = []\n",
    "    for i in tqdm(range(len(adc_info))):\n",
    "\n",
    "        signal = pre_train[i,:,1:].mean(axis=1)\n",
    "        p1,p2 = phase_detector(signal)\n",
    "\n",
    "        r = minimize(\n",
    "                    objective,\n",
    "                    [0.0001],\n",
    "                    method= 'Nelder-Mead'\n",
    "                      )\n",
    "        s = r.x[0]\n",
    "        all_s.append(s)\n",
    "\n",
    "    all_s = np.repeat(np.array(all_s), 283).reshape((len(all_s), 283))        "
   ]
  },
  {
   "cell_type": "markdown",
   "id": "5cfd9ee3",
   "metadata": {
    "_kg_hide-input": true,
    "papermill": {
     "duration": 0.05411,
     "end_time": "2024-10-15T03:50:55.402342",
     "exception": false,
     "start_time": "2024-10-15T03:50:55.348232",
     "status": "completed"
    },
    "tags": []
   },
   "source": [
    "### Predictions with Ridge model"
   ]
  },
  {
   "cell_type": "code",
   "execution_count": 82,
   "id": "0a7f22e3",
   "metadata": {
    "_kg_hide-input": true,
    "execution": {
     "iopub.execute_input": "2024-10-15T03:50:55.514951Z",
     "iopub.status.busy": "2024-10-15T03:50:55.514493Z",
     "iopub.status.idle": "2024-10-15T03:50:55.519818Z",
     "shell.execute_reply": "2024-10-15T03:50:55.518554Z"
    },
    "jupyter": {
     "source_hidden": true
    },
    "papermill": {
     "duration": 0.065436,
     "end_time": "2024-10-15T03:50:55.522348",
     "exception": false,
     "start_time": "2024-10-15T03:50:55.456912",
     "status": "completed"
    },
    "tags": []
   },
   "outputs": [],
   "source": [
    "# if 'SOLUTION_9' in ENSEMBLE_SOLUTIONS:\n",
    "    \n",
    "    # pd.DataFrame(all_s)"
   ]
  },
  {
   "cell_type": "code",
   "execution_count": 83,
   "id": "cf650c4b",
   "metadata": {
    "_kg_hide-input": true,
    "execution": {
     "iopub.execute_input": "2024-10-15T03:50:55.635691Z",
     "iopub.status.busy": "2024-10-15T03:50:55.635226Z",
     "iopub.status.idle": "2024-10-15T03:50:55.640870Z",
     "shell.execute_reply": "2024-10-15T03:50:55.639645Z"
    },
    "jupyter": {
     "source_hidden": true
    },
    "papermill": {
     "duration": 0.065828,
     "end_time": "2024-10-15T03:50:55.643189",
     "exception": false,
     "start_time": "2024-10-15T03:50:55.577361",
     "status": "completed"
    },
    "tags": []
   },
   "outputs": [],
   "source": [
    "# if 'SOLUTION_9' in ENSEMBLE_SOLUTIONS:\n",
    "    \n",
    "    # model = joblib.load(\"/kaggle/input/adc24-meta-model-ridge/model_ridge_10_22_delta2.joblib\")\n",
    "    # pred = model.predict(all_s)\n",
    "    # pd.DataFrame(pred)\n",
    "    # import pickle\n",
    "    # with open('/kaggle/input/ad24-train-inf-ridge-addfe-lb-441/model.pickle', 'rb') as f:\n",
    "    #     model = pickle.load(f)\n",
    "    # pred = model.predict(all_s)\n",
    "    # pd.DataFrame(pred)"
   ]
  },
  {
   "cell_type": "markdown",
   "id": "6f6bb8ca",
   "metadata": {
    "_kg_hide-input": true,
    "papermill": {
     "duration": 0.05436,
     "end_time": "2024-10-15T03:50:55.753012",
     "exception": false,
     "start_time": "2024-10-15T03:50:55.698652",
     "status": "completed"
    },
    "tags": []
   },
   "source": [
    "### Submission"
   ]
  },
  {
   "cell_type": "code",
   "execution_count": 84,
   "id": "8258f74d",
   "metadata": {
    "_kg_hide-input": true,
    "_kg_hide-output": true,
    "execution": {
     "iopub.execute_input": "2024-10-15T03:50:55.863397Z",
     "iopub.status.busy": "2024-10-15T03:50:55.862874Z",
     "iopub.status.idle": "2024-10-15T03:50:55.902045Z",
     "shell.execute_reply": "2024-10-15T03:50:55.900621Z"
    },
    "papermill": {
     "duration": 0.097988,
     "end_time": "2024-10-15T03:50:55.905076",
     "exception": false,
     "start_time": "2024-10-15T03:50:55.807088",
     "status": "completed"
    },
    "tags": []
   },
   "outputs": [],
   "source": [
    "if 'SOLUTION_9' in ENSEMBLE_SOLUTIONS:\n",
    "    \n",
    "    ss = pd.read_csv('/kaggle/input/ariel-data-challenge-2024/sample_submission.csv')\n",
    "\n",
    "    _k_sigma_9 = 0.000140985 # 0.0001422\n",
    "    \n",
    "    \n",
    "    if LAUNCH_VARIANT == 'option 111': _k_sigma_9 = 0.000140985 # _k_sigma_7 = 0.000176135 # \n",
    "    if LAUNCH_VARIANT == 'option 112': _k_sigma_9 = 0.000141120 # _k_sigma_7 = 0.000176270 # \n",
    "    if LAUNCH_VARIANT == 'option 113': _k_sigma_9 = 0.000141255 # _k_sigma_7 = 0.000176405 # \n",
    "        \n",
    "    if LAUNCH_VARIANT == 'option 114': _k_sigma_9 = 0.000141390 # _k_sigma_7 = 0.000176540 # \n",
    "    if LAUNCH_VARIANT == 'option 115': _k_sigma_9 = 0.000141525 # _k_sigma_7 = 0.000176676 # \n",
    "    if LAUNCH_VARIANT == 'option 116': _k_sigma_9 = 0.000141650 # _k_sigma_7 = 0.000176810 # \n",
    "        \n",
    "    if LAUNCH_VARIANT == 'option 117': _k_sigma_9 = 0.000141785 # _k_sigma_7 = 0.000176945 # \n",
    "    if LAUNCH_VARIANT == 'option 118': _k_sigma_9 = 0.000141920 # _k_sigma_7 = 0.000177080 # \n",
    "    if LAUNCH_VARIANT == 'option 119': _k_sigma_9 = 0.000142055 # _k_sigma_7 = 0.000177215 # \n",
    "\n",
    "        \n",
    "    sigma = np.ones_like(all_s) * _k_sigma_9\n",
    "    pred = all_s.clip(0) \n",
    "    submission = pd.DataFrame(np.concatenate([pred,sigma], axis=1), columns=ss.columns[1:])\n",
    "    submission.index = adc_info.index\n",
    "    submission.to_csv('submission_9.csv')\n",
    "    submission"
   ]
  },
  {
   "cell_type": "markdown",
   "id": "0df730d3",
   "metadata": {
    "papermill": {
     "duration": 0.054732,
     "end_time": "2024-10-15T03:50:56.014869",
     "exception": false,
     "start_time": "2024-10-15T03:50:55.960137",
     "status": "completed"
    },
    "tags": []
   },
   "source": [
    "## [LB=0.545 + change parameters](https://www.kaggle.com/code/xiaocao123/lb-0-545)\n",
    "### [invisible](https://www.kaggle.com/vyacheslavbolotin)"
   ]
  },
  {
   "cell_type": "code",
   "execution_count": 85,
   "id": "b0c3dca6",
   "metadata": {
    "_kg_hide-input": true,
    "_kg_hide-output": true,
    "execution": {
     "iopub.execute_input": "2024-10-15T03:50:56.126917Z",
     "iopub.status.busy": "2024-10-15T03:50:56.126361Z",
     "iopub.status.idle": "2024-10-15T03:50:56.134949Z",
     "shell.execute_reply": "2024-10-15T03:50:56.133557Z"
    },
    "jupyter": {
     "source_hidden": true
    },
    "papermill": {
     "duration": 0.067248,
     "end_time": "2024-10-15T03:50:56.137909",
     "exception": false,
     "start_time": "2024-10-15T03:50:56.070661",
     "status": "completed"
    },
    "tags": []
   },
   "outputs": [],
   "source": [
    "if 'SOLUTION_10' in ENSEMBLE_SOLUTIONS:\n",
    "\n",
    "    import pandas as pd\n",
    "    import matplotlib.pyplot as plt\n",
    "    import numpy as np\n",
    "    from tqdm import tqdm\n",
    "    import joblib\n",
    "    from sklearn.linear_model import Ridge\n",
    "    from sklearn.metrics import r2_score, mean_squared_error\n",
    "    import itertools\n",
    "    from scipy.optimize import minimize\n",
    "    from scipy import optimize\n",
    "    from astropy.stats import sigma_clip\n",
    "\n",
    "    dataset = 'test'\n",
    "    adc_info = pd.read_csv('/kaggle/input/ariel-data-challenge-2024/'+f'{dataset}_adc_info.csv',index_col='planet_id')\n",
    "    axis_info = pd.read_parquet('/kaggle/input/ariel-data-challenge-2024/axis_info.parquet')"
   ]
  },
  {
   "cell_type": "code",
   "execution_count": 86,
   "id": "374bbeae",
   "metadata": {
    "_kg_hide-input": true,
    "_kg_hide-output": true,
    "execution": {
     "iopub.execute_input": "2024-10-15T03:50:56.249306Z",
     "iopub.status.busy": "2024-10-15T03:50:56.248819Z",
     "iopub.status.idle": "2024-10-15T03:50:56.278535Z",
     "shell.execute_reply": "2024-10-15T03:50:56.277257Z"
    },
    "jupyter": {
     "source_hidden": true
    },
    "papermill": {
     "duration": 0.089069,
     "end_time": "2024-10-15T03:50:56.281199",
     "exception": false,
     "start_time": "2024-10-15T03:50:56.192130",
     "status": "completed"
    },
    "tags": []
   },
   "outputs": [],
   "source": [
    "if 'SOLUTION_10' in ENSEMBLE_SOLUTIONS:\n",
    "    \n",
    "    def apply_linear_corr(linear_corr,clean_signal):\n",
    "        linear_corr = np.flip(linear_corr, axis=0)\n",
    "        for x, y in itertools.product(\n",
    "                    range(clean_signal.shape[1]), range(clean_signal.shape[2])\n",
    "                ):\n",
    "            poli = np.poly1d(linear_corr[:, x, y])\n",
    "            clean_signal[:, x, y] = poli(clean_signal[:, x, y])\n",
    "        return clean_signal\n",
    "\n",
    "    def clean_dark(signal, dark, dt):\n",
    "        dark = np.tile(dark, (signal.shape[0], 1, 1))\n",
    "        signal -= dark* dt[:, np.newaxis, np.newaxis]\n",
    "        return signal\n",
    "\n",
    "    def preproc(dataset, adc_info, sensor, binning = 15):\n",
    "        cut_inf, cut_sup = 39, 321\n",
    "        sensor_sizes_dict = {\"AIRS-CH0\":[[11250, 32, 356], [1, 32, cut_sup-cut_inf]], \"FGS1\":[[135000, 32, 32], [1, 32, 32]]}\n",
    "        binned_dict = {\"AIRS-CH0\":[11250 // binning // 2, 282], \"FGS1\":[135000 // binning // 2]}\n",
    "        linear_corr_dict = {\"AIRS-CH0\":(6, 32, 356), \"FGS1\":(6, 32, 32)}\n",
    "        planet_ids = adc_info.index\n",
    "\n",
    "        feats = []\n",
    "        for i, planet_id in tqdm(list(enumerate(planet_ids))):\n",
    "            signal = pd.read_parquet(f'/kaggle/input/ariel-data-challenge-2024/{dataset}/{planet_id}/{sensor}_signal.parquet').to_numpy()\n",
    "            dark_frame = pd.read_parquet(f'/kaggle/input/ariel-data-challenge-2024/{dataset}/' + str(planet_id) + '/' + sensor + '_calibration/dark.parquet', engine='pyarrow').to_numpy()\n",
    "            dead_frame = pd.read_parquet(f'/kaggle/input/ariel-data-challenge-2024/{dataset}/' + str(planet_id) + '/' + sensor + '_calibration/dead.parquet', engine='pyarrow').to_numpy()\n",
    "            flat_frame = pd.read_parquet(f'/kaggle/input/ariel-data-challenge-2024/{dataset}/' + str(planet_id) + '/' + sensor + '_calibration/flat.parquet', engine='pyarrow').to_numpy()\n",
    "            linear_corr = pd.read_parquet(f'/kaggle/input/ariel-data-challenge-2024/{dataset}/' + str(planet_id) + '/' + sensor + '_calibration/linear_corr.parquet').values.astype(np.float64).reshape(linear_corr_dict[sensor])\n",
    "\n",
    "            signal = signal.reshape(sensor_sizes_dict[sensor][0]) \n",
    "            gain = adc_info[f'{sensor}_adc_gain'].values[i]\n",
    "            offset = adc_info[f'{sensor}_adc_offset'].values[i]\n",
    "            signal = signal / gain + offset\n",
    "\n",
    "            hot = sigma_clip(\n",
    "                dark_frame, sigma=5, maxiters=5\n",
    "            ).mask\n",
    "            \n",
    "            bilzard_idea = 4.5\n",
    "            \n",
    "            if LAUNCH_VARIANT == 'option 70': bilzard_idea = 4.15\n",
    "            if LAUNCH_VARIANT == 'option 71': bilzard_idea = 4.85\n",
    "            if LAUNCH_VARIANT == 'option 72': bilzard_idea = 5.15\n",
    "\n",
    "            if sensor != \"FGS1\":\n",
    "                signal = signal[:, :, cut_inf:cut_sup] \n",
    "                dt = np.ones(len(signal))*0.1 \n",
    "                dt[1::2] += bilzard_idea\n",
    "                linear_corr = linear_corr[:, :, cut_inf:cut_sup]\n",
    "                dark_frame = dark_frame[:, cut_inf:cut_sup]\n",
    "                dead_frame = dead_frame[:, cut_inf:cut_sup]\n",
    "                flat_frame = flat_frame[:, cut_inf:cut_sup]\n",
    "                hot = hot[:, cut_inf:cut_sup]\n",
    "            else:\n",
    "                dt = np.ones(len(signal))*0.1\n",
    "                dt[1::2] += 0.1\n",
    "\n",
    "            signal = signal.clip(0) #@graySnow idea\n",
    "            linear_corr_signal = apply_linear_corr(linear_corr, signal)\n",
    "            signal = clean_dark(linear_corr_signal, dark_frame, dt)\n",
    "\n",
    "            flat = flat_frame.reshape(sensor_sizes_dict[sensor][1])\n",
    "            flat[dead_frame.reshape(sensor_sizes_dict[sensor][1])] = np.nan\n",
    "            flat[hot.reshape(sensor_sizes_dict[sensor][1])] = np.nan\n",
    "            signal = signal / flat\n",
    "\n",
    "\n",
    "            if sensor == \"FGS1\":\n",
    "                signal = signal[:,10:22,10:22] # **** updates ****\n",
    "                signal = signal.reshape(sensor_sizes_dict[sensor][0][0],144) # # **** updates ****\n",
    "\n",
    "            if sensor != \"FGS1\":\n",
    "                signal = signal[:,10:22,:] # **** updates ****\n",
    "\n",
    "            mean_signal = np.nanmean(signal, axis=1) \n",
    "            cds_signal = (mean_signal[1::2] - mean_signal[0::2])\n",
    "\n",
    "            binned = np.zeros((binned_dict[sensor]))\n",
    "            for j in range(cds_signal.shape[0] // binning):\n",
    "                binned[j] = cds_signal[j*binning:j*binning+binning].mean(axis=0) \n",
    "\n",
    "            if sensor == \"FGS1\":\n",
    "                binned = binned.reshape((binned.shape[0],1))\n",
    "\n",
    "            feats.append(binned)\n",
    "\n",
    "        return np.stack(feats)\n",
    "\n",
    "    pre_train = np.concatenate([preproc(f'{dataset}', adc_info, \"FGS1\", 30*12), preproc(f'{dataset}', adc_info, \"AIRS-CH0\", 30)], axis=2)"
   ]
  },
  {
   "cell_type": "code",
   "execution_count": 87,
   "id": "192ba186",
   "metadata": {
    "_kg_hide-input": true,
    "_kg_hide-output": true,
    "execution": {
     "iopub.execute_input": "2024-10-15T03:50:56.393184Z",
     "iopub.status.busy": "2024-10-15T03:50:56.392757Z",
     "iopub.status.idle": "2024-10-15T03:50:56.408967Z",
     "shell.execute_reply": "2024-10-15T03:50:56.407853Z"
    },
    "jupyter": {
     "source_hidden": true
    },
    "papermill": {
     "duration": 0.075775,
     "end_time": "2024-10-15T03:50:56.411700",
     "exception": false,
     "start_time": "2024-10-15T03:50:56.335925",
     "status": "completed"
    },
    "tags": []
   },
   "outputs": [],
   "source": [
    "if 'SOLUTION_10' in ENSEMBLE_SOLUTIONS:\n",
    "    \n",
    "    def phase_detector(signal):\n",
    "\n",
    "        MIN = np.argmin(signal[30:140])+30\n",
    "        signal1 = signal[:MIN ]\n",
    "        signal2 = signal[MIN :]\n",
    "\n",
    "        first_derivative1 = np.gradient(signal1)\n",
    "        first_derivative1 /= first_derivative1.max()\n",
    "        first_derivative2 = np.gradient(signal2)\n",
    "        first_derivative2 /= first_derivative2.max()\n",
    "\n",
    "        phase1 = np.argmin(first_derivative1)\n",
    "        phase2 = np.argmax(first_derivative2) + MIN\n",
    "\n",
    "        return phase1, phase2\n",
    "\n",
    "    def objective(s):\n",
    "\n",
    "        best_q = 1e10\n",
    "        for i in range(4) :\n",
    "            delta = 2\n",
    "            x = list(range(signal.shape[0]-delta*4))\n",
    "            y = signal[:p1-delta].tolist() + (signal[p1+delta:p2 - delta] * (1 + s)).tolist() + signal[p2+delta:].tolist()\n",
    "\n",
    "            z = np.polyfit(x, y, deg=i)\n",
    "            p = np.poly1d(z)\n",
    "            q = np.abs(p(x) - y).mean()\n",
    "\n",
    "        if q < best_q :\n",
    "            best_q = q\n",
    "\n",
    "        return q\n",
    "    \n",
    "    \n",
    "    _k_min = 0.0001\n",
    "    \n",
    "    if LAUNCH_VARIANT == 'option 70': _k_min = 0.00015\n",
    "    if LAUNCH_VARIANT == 'option 71': _k_min = 0.000085\n",
    "    if LAUNCH_VARIANT == 'option 72': _k_min = 0.00021\n",
    "\n",
    "\n",
    "    all_s = []\n",
    "    for i in tqdm(range(len(adc_info))):\n",
    "\n",
    "        signal = pre_train[i,:,1:].mean(axis=1)\n",
    "        p1,p2 = phase_detector(signal)\n",
    "\n",
    "        r = minimize(\n",
    "                    objective,\n",
    "                    [0.00015],\n",
    "                    method= 'Nelder-Mead'\n",
    "                      )\n",
    "        s = r.x[0]\n",
    "        all_s.append(s)\n",
    "\n",
    "    all_s = np.repeat(np.array(all_s), 283).reshape((len(all_s), 283))        "
   ]
  },
  {
   "cell_type": "code",
   "execution_count": 88,
   "id": "0cd91528",
   "metadata": {
    "_kg_hide-input": true,
    "_kg_hide-output": true,
    "execution": {
     "iopub.execute_input": "2024-10-15T03:50:56.521670Z",
     "iopub.status.busy": "2024-10-15T03:50:56.521217Z",
     "iopub.status.idle": "2024-10-15T03:50:56.528820Z",
     "shell.execute_reply": "2024-10-15T03:50:56.527519Z"
    },
    "jupyter": {
     "source_hidden": true
    },
    "papermill": {
     "duration": 0.065718,
     "end_time": "2024-10-15T03:50:56.531176",
     "exception": false,
     "start_time": "2024-10-15T03:50:56.465458",
     "status": "completed"
    },
    "tags": []
   },
   "outputs": [],
   "source": [
    "if 'SOLUTION_10' in ENSEMBLE_SOLUTIONS:\n",
    "    \n",
    "    ss = pd.read_csv('/kaggle/input/ariel-data-challenge-2024/sample_submission.csv')\n",
    "\n",
    "    __k = 0.0001422\n",
    "\n",
    "    sigma = np.ones_like(all_s) * __k\n",
    "    pred = all_s.clip(0) \n",
    "    submission = pd.DataFrame(np.concatenate([pred,sigma], axis=1), columns=ss.columns[1:])\n",
    "    submission.index = adc_info.index\n",
    "    submission.to_csv('submission_10.csv')\n",
    "    submission"
   ]
  },
  {
   "cell_type": "markdown",
   "id": "cac25983",
   "metadata": {
    "papermill": {
     "duration": 0.056273,
     "end_time": "2024-10-15T03:50:56.642184",
     "exception": false,
     "start_time": "2024-10-15T03:50:56.585911",
     "status": "completed"
    },
    "tags": []
   },
   "source": [
    "## 11. [ariel_only_correlation|ParamUpd[9/22ImprveLB.522]](https://www.kaggle.com/code/hideyukizushi/ariel-only-correlation-paramupd-9-22imprvelb-522)\n",
    "### [yukiZ](https://www.kaggle.com/hideyukizushi)"
   ]
  },
  {
   "cell_type": "code",
   "execution_count": 89,
   "id": "2d8ba3b5",
   "metadata": {
    "_kg_hide-input": true,
    "_kg_hide-output": true,
    "execution": {
     "iopub.execute_input": "2024-10-15T03:50:56.752831Z",
     "iopub.status.busy": "2024-10-15T03:50:56.752373Z",
     "iopub.status.idle": "2024-10-15T03:50:56.760171Z",
     "shell.execute_reply": "2024-10-15T03:50:56.758837Z"
    },
    "jupyter": {
     "source_hidden": true
    },
    "papermill": {
     "duration": 0.066531,
     "end_time": "2024-10-15T03:50:56.762948",
     "exception": false,
     "start_time": "2024-10-15T03:50:56.696417",
     "status": "completed"
    },
    "tags": []
   },
   "outputs": [],
   "source": [
    "if 'SOLUTION_11' in ENSEMBLE_SOLUTIONS:\n",
    "    \n",
    "    import pandas as pd\n",
    "    import matplotlib.pyplot as plt\n",
    "    import numpy as np\n",
    "    import seaborn as sns\n",
    "    import scipy.stats\n",
    "    from tqdm import tqdm\n",
    "\n",
    "    from sklearn.model_selection import cross_val_predict\n",
    "    from sklearn.linear_model import Ridge\n",
    "    from sklearn.metrics import r2_score, mean_squared_error\n",
    "    import itertools\n",
    "    from scipy.optimize import minimize\n",
    "    from functools import partial\n",
    "    import random, os\n",
    "    from astropy.stats import sigma_clip"
   ]
  },
  {
   "cell_type": "code",
   "execution_count": 90,
   "id": "a54f4b9a",
   "metadata": {
    "_kg_hide-input": true,
    "_kg_hide-output": true,
    "execution": {
     "iopub.execute_input": "2024-10-15T03:50:56.876875Z",
     "iopub.status.busy": "2024-10-15T03:50:56.876437Z",
     "iopub.status.idle": "2024-10-15T03:50:56.882585Z",
     "shell.execute_reply": "2024-10-15T03:50:56.881349Z"
    },
    "jupyter": {
     "source_hidden": true
    },
    "papermill": {
     "duration": 0.066284,
     "end_time": "2024-10-15T03:50:56.885235",
     "exception": false,
     "start_time": "2024-10-15T03:50:56.818951",
     "status": "completed"
    },
    "tags": []
   },
   "outputs": [],
   "source": [
    "if 'SOLUTION_11' in ENSEMBLE_SOLUTIONS:\n",
    "    \n",
    "    test_adc_info = pd.read_csv('/kaggle/input/ariel-data-challenge-2024/test_adc_info.csv',\n",
    "                               index_col='planet_id')\n",
    "    axis_info = pd.read_parquet('/kaggle/input/ariel-data-challenge-2024/axis_info.parquet')"
   ]
  },
  {
   "cell_type": "code",
   "execution_count": 91,
   "id": "972b4f03",
   "metadata": {
    "_kg_hide-input": true,
    "_kg_hide-output": true,
    "execution": {
     "iopub.execute_input": "2024-10-15T03:50:56.997185Z",
     "iopub.status.busy": "2024-10-15T03:50:56.996681Z",
     "iopub.status.idle": "2024-10-15T03:50:57.025329Z",
     "shell.execute_reply": "2024-10-15T03:50:57.024129Z"
    },
    "jupyter": {
     "source_hidden": true
    },
    "papermill": {
     "duration": 0.087398,
     "end_time": "2024-10-15T03:50:57.027977",
     "exception": false,
     "start_time": "2024-10-15T03:50:56.940579",
     "status": "completed"
    },
    "tags": []
   },
   "outputs": [],
   "source": [
    "if 'SOLUTION_11' in ENSEMBLE_SOLUTIONS:\n",
    "    \n",
    "    def apply_linear_corr(linear_corr,clean_signal):\n",
    "        linear_corr = np.flip(linear_corr, axis=0)\n",
    "        for x, y in itertools.product(\n",
    "                    range(clean_signal.shape[1]), range(clean_signal.shape[2])\n",
    "                ):\n",
    "            poli = np.poly1d(linear_corr[:, x, y])\n",
    "            clean_signal[:, x, y] = poli(clean_signal[:, x, y])\n",
    "        return clean_signal\n",
    "\n",
    "    def clean_dark(signal, dark, dt):\n",
    "        dark = np.tile(dark, (signal.shape[0], 1, 1))\n",
    "        signal -= dark* dt[:, np.newaxis, np.newaxis]\n",
    "        return signal\n",
    "\n",
    "    def preproc(dataset, adc_info, sensor, binning = 15):\n",
    "        cut_inf, cut_sup = 39, 321\n",
    "        sensor_sizes_dict = {\"AIRS-CH0\":[[11250, 32, 356], [1, 32, cut_sup-cut_inf]], \"FGS1\":[[135000, 32, 32], [1, 32, 32]]}\n",
    "        binned_dict = {\"AIRS-CH0\":[11250 // binning // 2, 282], \"FGS1\":[135000 // binning // 2]}\n",
    "        linear_corr_dict = {\"AIRS-CH0\":(6, 32, 356), \"FGS1\":(6, 32, 32)}\n",
    "        planet_ids = adc_info.index\n",
    "\n",
    "        feats = []\n",
    "        for i, planet_id in tqdm(list(enumerate(planet_ids))):\n",
    "            signal = pd.read_parquet(f'/kaggle/input/ariel-data-challenge-2024/{dataset}/{planet_id}/{sensor}_signal.parquet').to_numpy()\n",
    "            dark_frame = pd.read_parquet(f'/kaggle/input/ariel-data-challenge-2024/{dataset}/' + str(planet_id) + '/' + sensor + '_calibration/dark.parquet', engine='pyarrow').to_numpy()\n",
    "            dead_frame = pd.read_parquet(f'/kaggle/input/ariel-data-challenge-2024/{dataset}/' + str(planet_id) + '/' + sensor + '_calibration/dead.parquet', engine='pyarrow').to_numpy()\n",
    "            flat_frame = pd.read_parquet(f'/kaggle/input/ariel-data-challenge-2024/{dataset}/' + str(planet_id) + '/' + sensor + '_calibration/flat.parquet', engine='pyarrow').to_numpy()\n",
    "            linear_corr = pd.read_parquet(f'/kaggle/input/ariel-data-challenge-2024/{dataset}/' + str(planet_id) + '/' + sensor + '_calibration/linear_corr.parquet').values.astype(np.float64).reshape(linear_corr_dict[sensor])\n",
    "\n",
    "            signal = signal.reshape(sensor_sizes_dict[sensor][0]) \n",
    "            gain = adc_info[f'{sensor}_adc_gain'].values[i]\n",
    "            offset = adc_info[f'{sensor}_adc_offset'].values[i]\n",
    "            signal = signal / gain + offset\n",
    "\n",
    "            hot = sigma_clip(\n",
    "                dark_frame, sigma=8, maxiters=5\n",
    "            ).mask\n",
    "\n",
    "            if sensor != \"FGS1\":\n",
    "                signal = signal[:, :, cut_inf:cut_sup] #11250 * 32 * 282\n",
    "                #dt = axis_info['AIRS-CH0-integration_time'].dropna().values\n",
    "                dt = np.ones(len(signal))*0.1 \n",
    "                dt[1::2] += 4.5 #@bilzard idea\n",
    "                linear_corr = linear_corr[:, :, cut_inf:cut_sup]\n",
    "                dark_frame = dark_frame[:, cut_inf:cut_sup]\n",
    "                dead_frame = dead_frame[:, cut_inf:cut_sup]\n",
    "                flat_frame = flat_frame[:, cut_inf:cut_sup]\n",
    "                hot = hot[:, cut_inf:cut_sup]\n",
    "            else:\n",
    "                dt = np.ones(len(signal))*0.1\n",
    "                dt[1::2] += 0.1\n",
    "\n",
    "            signal = signal.clip(0) #@graySnow idea\n",
    "            linear_corr_signal = apply_linear_corr(linear_corr, signal)\n",
    "            signal = clean_dark(linear_corr_signal, dark_frame, dt)\n",
    "\n",
    "            flat = flat_frame.reshape(sensor_sizes_dict[sensor][1])\n",
    "            flat[dead_frame.reshape(sensor_sizes_dict[sensor][1])] = np.nan\n",
    "            flat[hot.reshape(sensor_sizes_dict[sensor][1])] = np.nan\n",
    "            signal = signal / flat\n",
    "\n",
    "            if sensor == \"FGS1\":\n",
    "                signal = signal.reshape((sensor_sizes_dict[sensor][0][0], sensor_sizes_dict[sensor][0][1]*sensor_sizes_dict[sensor][0][2]))\n",
    "\n",
    "            mean_signal = np.nanmean(signal, axis=1) # mean over the 32*32(FGS1) or 32(CH0) pixels\n",
    "            cds_signal = (mean_signal[1::2] - mean_signal[0::2])\n",
    "\n",
    "            binned = np.zeros((binned_dict[sensor]))\n",
    "            for j in range(cds_signal.shape[0] // binning):\n",
    "                binned[j] = cds_signal[j*binning:j*binning+binning].mean(axis=0)\n",
    "\n",
    "            if sensor == \"FGS1\":\n",
    "                binned = binned.reshape((binned.shape[0],1))\n",
    "\n",
    "            feats.append(binned)\n",
    "\n",
    "        return np.stack(feats)\n",
    "\n",
    "    pre_train = np.concatenate([preproc('test', test_adc_info, \"FGS1\", 30*12), preproc('test', test_adc_info, \"AIRS-CH0\", 30)], axis=2)"
   ]
  },
  {
   "cell_type": "code",
   "execution_count": 92,
   "id": "8ee92223",
   "metadata": {
    "_kg_hide-input": true,
    "_kg_hide-output": true,
    "execution": {
     "iopub.execute_input": "2024-10-15T03:50:57.139790Z",
     "iopub.status.busy": "2024-10-15T03:50:57.138778Z",
     "iopub.status.idle": "2024-10-15T03:50:57.166385Z",
     "shell.execute_reply": "2024-10-15T03:50:57.165173Z"
    },
    "jupyter": {
     "source_hidden": true
    },
    "papermill": {
     "duration": 0.085847,
     "end_time": "2024-10-15T03:50:57.168833",
     "exception": false,
     "start_time": "2024-10-15T03:50:57.082986",
     "status": "completed"
    },
    "tags": []
   },
   "outputs": [],
   "source": [
    "if 'SOLUTION_11' in ENSEMBLE_SOLUTIONS:\n",
    "    \n",
    "    def phase_detector(signal):\n",
    "        phase1, phase2 = None, None\n",
    "        best_drop = 0\n",
    "        for i in range(50//2,150//2):        \n",
    "            t1 = signal[i:i+20//2].max() - signal[i:i+20//2].min()\n",
    "            if t1 > best_drop:\n",
    "                phase1 = i+(20+5)//2\n",
    "                best_drop = t1\n",
    "\n",
    "        best_drop = 0\n",
    "        for i in range(200//2,250//2):\n",
    "            t1 = signal[i:i+20//2].max() - signal[i:i+20//2].min()\n",
    "            if t1 > best_drop:\n",
    "                phase2 = i-5//2\n",
    "                best_drop = t1\n",
    "\n",
    "        return phase1, phase2\n",
    "\n",
    "    def try_s(signal, p1, p2, deg, s):\n",
    "        out = list(range(p1-30)) + list(range(p2+30,signal.shape[0]))\n",
    "        x, y = out, signal[out].tolist()\n",
    "        x = x + list(range(p1,p2))\n",
    "\n",
    "        y = y + (signal[p1:p2] * (1 + s[0])).tolist()\n",
    "        z = np.polyfit(x, y, deg)\n",
    "        p = np.poly1d(z)\n",
    "        q = np.abs(p(x) - y).mean()\n",
    "\n",
    "        if s < 1e-4:\n",
    "            return q + 1e3\n",
    "\n",
    "        return q\n",
    "\n",
    "    def calibrate_signal(signal):\n",
    "        p1,p2 = phase_detector(signal)\n",
    "\n",
    "        best_deg, best_score = 1, 1e12\n",
    "        for deg in range(1, 4):\n",
    "            f = partial(try_s, signal, p1, p2, deg)\n",
    "            r = minimize(f, [0.001], method = 'Nelder-Mead')\n",
    "            s = r.x[0]\n",
    "\n",
    "            out = list(range(p1-30)) + list(range(p2+30,signal.shape[0]))\n",
    "            x, y = out, signal[out].tolist()\n",
    "            x = x + list(range(p1,p2))\n",
    "            y = y + (signal[p1:p2] * (1 + s)).tolist()\n",
    "\n",
    "            z = np.polyfit(x, y, deg)\n",
    "            p = np.poly1d(z)\n",
    "            q = np.abs(p(x) - y).mean()\n",
    "\n",
    "            if q < best_score:\n",
    "                best_score = q\n",
    "                best_deg = deg\n",
    "\n",
    "            print(deg, q)\n",
    "\n",
    "        z = np.polyfit(x, y, best_deg)\n",
    "        p = np.poly1d(z)\n",
    "\n",
    "        return s, x, y, p(x)\n",
    "\n",
    "    def calibrate_train(signal):\n",
    "        p1,p2 = phase_detector(signal)\n",
    "\n",
    "        best_deg, best_score = 1, 1e12\n",
    "        for deg in range(1, 4):\n",
    "            f = partial(try_s, signal, p1, p2, deg)\n",
    "            r = minimize(f, [0.0001], method = 'Nelder-Mead')\n",
    "            s = r.x[0]\n",
    "\n",
    "            out = list(range(p1-30)) + list(range(p2+30,signal.shape[0]))\n",
    "            x, y = out, signal[out].tolist()\n",
    "            x = x + list(range(p1,p2))\n",
    "            y = y + (signal[p1:p2] * (1 + s)).tolist()\n",
    "\n",
    "            z = np.polyfit(x, y, deg)\n",
    "            p = np.poly1d(z)\n",
    "            q = np.abs(p(x) - y).mean()\n",
    "\n",
    "            if q < best_score:\n",
    "                best_score = q\n",
    "                best_deg = deg\n",
    "\n",
    "        z = np.polyfit(x, y, best_deg)\n",
    "        p = np.poly1d(z)\n",
    "\n",
    "        return s, p(np.arange(signal.shape[0])), p1, p2\n",
    "\n",
    "\n",
    "    train = pre_train.copy()\n",
    "    all_s = []\n",
    "    for i in range(len(test_adc_info)):\n",
    "        signal = train[i,:,1:].mean(axis=1)\n",
    "        s, p, p1, p2 = calibrate_train(pre_train[i,:,1:].mean(axis=1))\n",
    "        all_s.append(s)\n",
    "\n",
    "    #copy answer 283 times because we predict mean value\n",
    "    train_s = np.repeat(np.array(all_s), 283).reshape((len(all_s), 283)) \n",
    "    \n",
    "    _k_sigma_11 = 0.000176 #  0.000140985\n",
    "        \n",
    "#     if LAUNCH_VARIANT == 'option 93': _k_sigma_11 = 0.000185 # _k_sigma_9 = 0.000140\n",
    "#     if LAUNCH_VARIANT == 'option 94': _k_sigma_11 = 0.000190 # _k_sigma_9 = 0.000135\n",
    "#     if LAUNCH_VARIANT == 'option 95': _k_sigma_11 = 0.000195 # _k_sigma_9 = 0.000130\n",
    "    \n",
    "    train_sigma = np.ones_like(train_s) * _k_sigma_11"
   ]
  },
  {
   "cell_type": "code",
   "execution_count": 93,
   "id": "577245b0",
   "metadata": {
    "_kg_hide-input": true,
    "_kg_hide-output": true,
    "execution": {
     "iopub.execute_input": "2024-10-15T03:50:57.283048Z",
     "iopub.status.busy": "2024-10-15T03:50:57.281677Z",
     "iopub.status.idle": "2024-10-15T03:50:57.288922Z",
     "shell.execute_reply": "2024-10-15T03:50:57.287753Z"
    },
    "jupyter": {
     "source_hidden": true
    },
    "papermill": {
     "duration": 0.068418,
     "end_time": "2024-10-15T03:50:57.291294",
     "exception": false,
     "start_time": "2024-10-15T03:50:57.222876",
     "status": "completed"
    },
    "tags": []
   },
   "outputs": [],
   "source": [
    "if 'SOLUTION_11' in ENSEMBLE_SOLUTIONS:\n",
    "    \n",
    "    n = 0\n",
    "    s, x, y, y_new = calibrate_signal(pre_train[n,:,1:].mean(axis=1))\n",
    "    plt.scatter(x,y)\n",
    "    plt.scatter(x,y_new)"
   ]
  },
  {
   "cell_type": "code",
   "execution_count": 94,
   "id": "9b8df2ab",
   "metadata": {
    "_kg_hide-input": true,
    "_kg_hide-output": true,
    "execution": {
     "iopub.execute_input": "2024-10-15T03:50:57.402135Z",
     "iopub.status.busy": "2024-10-15T03:50:57.401621Z",
     "iopub.status.idle": "2024-10-15T03:50:57.409807Z",
     "shell.execute_reply": "2024-10-15T03:50:57.408412Z"
    },
    "jupyter": {
     "source_hidden": true
    },
    "papermill": {
     "duration": 0.066569,
     "end_time": "2024-10-15T03:50:57.412555",
     "exception": false,
     "start_time": "2024-10-15T03:50:57.345986",
     "status": "completed"
    },
    "tags": []
   },
   "outputs": [],
   "source": [
    "if 'SOLUTION_11' in ENSEMBLE_SOLUTIONS:\n",
    "    \n",
    "    ss = pd.read_csv('/kaggle/input/ariel-data-challenge-2024/sample_submission.csv')\n",
    "\n",
    "    preds = train_s.clip(0)\n",
    "    sigmas = train_sigma\n",
    "    submission = pd.DataFrame(np.concatenate([preds,sigmas], axis=1), columns=ss.columns[1:])\n",
    "    submission.index = test_adc_info.index\n",
    "    submission.to_csv('submission_11.csv')"
   ]
  },
  {
   "cell_type": "markdown",
   "id": "445d028a",
   "metadata": {
    "papermill": {
     "duration": 0.055424,
     "end_time": "2024-10-15T03:50:57.523717",
     "exception": false,
     "start_time": "2024-10-15T03:50:57.468293",
     "status": "completed"
    },
    "tags": []
   },
   "source": [
    "## Ensemble of solutions"
   ]
  },
  {
   "cell_type": "code",
   "execution_count": 95,
   "id": "d5fd53a5",
   "metadata": {
    "_kg_hide-input": true,
    "execution": {
     "iopub.execute_input": "2024-10-15T03:50:57.639171Z",
     "iopub.status.busy": "2024-10-15T03:50:57.638703Z",
     "iopub.status.idle": "2024-10-15T03:50:57.867198Z",
     "shell.execute_reply": "2024-10-15T03:50:57.865823Z"
    },
    "papermill": {
     "duration": 0.291253,
     "end_time": "2024-10-15T03:50:57.870312",
     "exception": false,
     "start_time": "2024-10-15T03:50:57.579059",
     "status": "completed"
    },
    "tags": []
   },
   "outputs": [
    {
     "data": {
      "text/html": [
       "<div>\n",
       "<style scoped>\n",
       "    .dataframe tbody tr th:only-of-type {\n",
       "        vertical-align: middle;\n",
       "    }\n",
       "\n",
       "    .dataframe tbody tr th {\n",
       "        vertical-align: top;\n",
       "    }\n",
       "\n",
       "    .dataframe thead th {\n",
       "        text-align: right;\n",
       "    }\n",
       "</style>\n",
       "<table border=\"1\" class=\"dataframe\">\n",
       "  <thead>\n",
       "    <tr style=\"text-align: right;\">\n",
       "      <th></th>\n",
       "      <th>planet_id</th>\n",
       "      <th>wl_1</th>\n",
       "      <th>wl_2</th>\n",
       "      <th>wl_3</th>\n",
       "      <th>wl_4</th>\n",
       "      <th>wl_5</th>\n",
       "      <th>wl_6</th>\n",
       "      <th>wl_7</th>\n",
       "      <th>wl_8</th>\n",
       "      <th>wl_9</th>\n",
       "      <th>...</th>\n",
       "      <th>sigma_274</th>\n",
       "      <th>sigma_275</th>\n",
       "      <th>sigma_276</th>\n",
       "      <th>sigma_277</th>\n",
       "      <th>sigma_278</th>\n",
       "      <th>sigma_279</th>\n",
       "      <th>sigma_280</th>\n",
       "      <th>sigma_281</th>\n",
       "      <th>sigma_282</th>\n",
       "      <th>sigma_283</th>\n",
       "    </tr>\n",
       "  </thead>\n",
       "  <tbody>\n",
       "    <tr>\n",
       "      <th>0</th>\n",
       "      <td>499191466.0</td>\n",
       "      <td>0.002723</td>\n",
       "      <td>0.002723</td>\n",
       "      <td>0.002723</td>\n",
       "      <td>0.002723</td>\n",
       "      <td>0.002723</td>\n",
       "      <td>0.002723</td>\n",
       "      <td>0.002723</td>\n",
       "      <td>0.002723</td>\n",
       "      <td>0.002723</td>\n",
       "      <td>...</td>\n",
       "      <td>0.000143</td>\n",
       "      <td>0.000143</td>\n",
       "      <td>0.000143</td>\n",
       "      <td>0.000143</td>\n",
       "      <td>0.000143</td>\n",
       "      <td>0.000143</td>\n",
       "      <td>0.000143</td>\n",
       "      <td>0.000143</td>\n",
       "      <td>0.000143</td>\n",
       "      <td>0.000143</td>\n",
       "    </tr>\n",
       "  </tbody>\n",
       "</table>\n",
       "<p>1 rows × 567 columns</p>\n",
       "</div>"
      ],
      "text/plain": [
       "     planet_id      wl_1      wl_2      wl_3      wl_4      wl_5      wl_6  \\\n",
       "0  499191466.0  0.002723  0.002723  0.002723  0.002723  0.002723  0.002723   \n",
       "\n",
       "       wl_7      wl_8      wl_9  ...  sigma_274  sigma_275  sigma_276  \\\n",
       "0  0.002723  0.002723  0.002723  ...   0.000143   0.000143   0.000143   \n",
       "\n",
       "   sigma_277  sigma_278  sigma_279  sigma_280  sigma_281  sigma_282  sigma_283  \n",
       "0   0.000143   0.000143   0.000143   0.000143   0.000143   0.000143   0.000143  \n",
       "\n",
       "[1 rows x 567 columns]"
      ]
     },
     "metadata": {},
     "output_type": "display_data"
    },
    {
     "data": {
      "text/html": [
       "<div>\n",
       "<style scoped>\n",
       "    .dataframe tbody tr th:only-of-type {\n",
       "        vertical-align: middle;\n",
       "    }\n",
       "\n",
       "    .dataframe tbody tr th {\n",
       "        vertical-align: top;\n",
       "    }\n",
       "\n",
       "    .dataframe thead th {\n",
       "        text-align: right;\n",
       "    }\n",
       "</style>\n",
       "<table border=\"1\" class=\"dataframe\">\n",
       "  <thead>\n",
       "    <tr style=\"text-align: right;\">\n",
       "      <th></th>\n",
       "      <th>planet_id</th>\n",
       "      <th>wl_1</th>\n",
       "      <th>wl_2</th>\n",
       "      <th>wl_3</th>\n",
       "      <th>wl_4</th>\n",
       "      <th>wl_5</th>\n",
       "      <th>wl_6</th>\n",
       "      <th>wl_7</th>\n",
       "      <th>wl_8</th>\n",
       "      <th>wl_9</th>\n",
       "      <th>...</th>\n",
       "      <th>sigma_274</th>\n",
       "      <th>sigma_275</th>\n",
       "      <th>sigma_276</th>\n",
       "      <th>sigma_277</th>\n",
       "      <th>sigma_278</th>\n",
       "      <th>sigma_279</th>\n",
       "      <th>sigma_280</th>\n",
       "      <th>sigma_281</th>\n",
       "      <th>sigma_282</th>\n",
       "      <th>sigma_283</th>\n",
       "    </tr>\n",
       "  </thead>\n",
       "  <tbody>\n",
       "    <tr>\n",
       "      <th>0</th>\n",
       "      <td>499191466.0</td>\n",
       "      <td>0.002723</td>\n",
       "      <td>0.002723</td>\n",
       "      <td>0.002723</td>\n",
       "      <td>0.002723</td>\n",
       "      <td>0.002723</td>\n",
       "      <td>0.002723</td>\n",
       "      <td>0.002723</td>\n",
       "      <td>0.002723</td>\n",
       "      <td>0.002723</td>\n",
       "      <td>...</td>\n",
       "      <td>0.000143</td>\n",
       "      <td>0.000143</td>\n",
       "      <td>0.000143</td>\n",
       "      <td>0.000143</td>\n",
       "      <td>0.000143</td>\n",
       "      <td>0.000143</td>\n",
       "      <td>0.000143</td>\n",
       "      <td>0.000143</td>\n",
       "      <td>0.000143</td>\n",
       "      <td>0.000143</td>\n",
       "    </tr>\n",
       "  </tbody>\n",
       "</table>\n",
       "<p>1 rows × 567 columns</p>\n",
       "</div>"
      ],
      "text/plain": [
       "     planet_id      wl_1      wl_2      wl_3      wl_4      wl_5      wl_6  \\\n",
       "0  499191466.0  0.002723  0.002723  0.002723  0.002723  0.002723  0.002723   \n",
       "\n",
       "       wl_7      wl_8      wl_9  ...  sigma_274  sigma_275  sigma_276  \\\n",
       "0  0.002723  0.002723  0.002723  ...   0.000143   0.000143   0.000143   \n",
       "\n",
       "   sigma_277  sigma_278  sigma_279  sigma_280  sigma_281  sigma_282  sigma_283  \n",
       "0   0.000143   0.000143   0.000143   0.000143   0.000143   0.000143   0.000143  \n",
       "\n",
       "[1 rows x 567 columns]"
      ]
     },
     "metadata": {},
     "output_type": "display_data"
    }
   ],
   "source": [
    "if  LAUNCH_VARIANT == 'option 111' \\\n",
    " or LAUNCH_VARIANT == 'option 112' \\\n",
    " or LAUNCH_VARIANT == 'option 113' \\\n",
    " or LAUNCH_VARIANT == 'option 114' \\\n",
    " or LAUNCH_VARIANT == 'option 115' \\\n",
    " or LAUNCH_VARIANT == 'option 116' \\\n",
    " or LAUNCH_VARIANT == 'option 117' \\\n",
    " or LAUNCH_VARIANT == 'option 118' \\\n",
    " or LAUNCH_VARIANT == 'option 119' \\\n",
    " or LAUNCH_VARIANT == 'option 121':\n",
    "    \n",
    "    df_solution_x = pd.read_csv('submission_7.csv')\n",
    "    df_solution_7 = pd.read_csv('submission_7.csv')\n",
    "    df_solution_9 = pd.read_csv('submission_9.csv')\n",
    "    df_solution_7 = df_solution_7.map(lambda x:x*0.0303215)\n",
    "    df_solution_9 = df_solution_9.map(lambda x:x*0.9696785)\n",
    "    df_temp = df_solution_7.add(df_solution_9)\n",
    "    display(df_temp)\n",
    "    df_submission = df_temp.map(lambda x:x)\n",
    "    display(df_submission)\n",
    "    df_submission['planet_id'] = df_solution_x['planet_id']"
   ]
  },
  {
   "cell_type": "code",
   "execution_count": 96,
   "id": "4542dd01",
   "metadata": {
    "execution": {
     "iopub.execute_input": "2024-10-15T03:50:57.984922Z",
     "iopub.status.busy": "2024-10-15T03:50:57.984504Z",
     "iopub.status.idle": "2024-10-15T03:50:58.016919Z",
     "shell.execute_reply": "2024-10-15T03:50:58.015600Z"
    },
    "jupyter": {
     "source_hidden": true
    },
    "papermill": {
     "duration": 0.092833,
     "end_time": "2024-10-15T03:50:58.019635",
     "exception": false,
     "start_time": "2024-10-15T03:50:57.926802",
     "status": "completed"
    },
    "tags": []
   },
   "outputs": [
    {
     "data": {
      "text/html": [
       "<div>\n",
       "<style scoped>\n",
       "    .dataframe tbody tr th:only-of-type {\n",
       "        vertical-align: middle;\n",
       "    }\n",
       "\n",
       "    .dataframe tbody tr th {\n",
       "        vertical-align: top;\n",
       "    }\n",
       "\n",
       "    .dataframe thead th {\n",
       "        text-align: right;\n",
       "    }\n",
       "</style>\n",
       "<table border=\"1\" class=\"dataframe\">\n",
       "  <thead>\n",
       "    <tr style=\"text-align: right;\">\n",
       "      <th></th>\n",
       "      <th>planet_id</th>\n",
       "      <th>wl_1</th>\n",
       "      <th>wl_2</th>\n",
       "      <th>wl_3</th>\n",
       "      <th>wl_4</th>\n",
       "      <th>wl_5</th>\n",
       "      <th>wl_6</th>\n",
       "      <th>wl_7</th>\n",
       "      <th>wl_8</th>\n",
       "      <th>wl_9</th>\n",
       "      <th>...</th>\n",
       "      <th>sigma_274</th>\n",
       "      <th>sigma_275</th>\n",
       "      <th>sigma_276</th>\n",
       "      <th>sigma_277</th>\n",
       "      <th>sigma_278</th>\n",
       "      <th>sigma_279</th>\n",
       "      <th>sigma_280</th>\n",
       "      <th>sigma_281</th>\n",
       "      <th>sigma_282</th>\n",
       "      <th>sigma_283</th>\n",
       "    </tr>\n",
       "  </thead>\n",
       "  <tbody>\n",
       "    <tr>\n",
       "      <th>0</th>\n",
       "      <td>499191466</td>\n",
       "      <td>0.002723</td>\n",
       "      <td>0.002723</td>\n",
       "      <td>0.002723</td>\n",
       "      <td>0.002723</td>\n",
       "      <td>0.002723</td>\n",
       "      <td>0.002723</td>\n",
       "      <td>0.002723</td>\n",
       "      <td>0.002723</td>\n",
       "      <td>0.002723</td>\n",
       "      <td>...</td>\n",
       "      <td>0.000143</td>\n",
       "      <td>0.000143</td>\n",
       "      <td>0.000143</td>\n",
       "      <td>0.000143</td>\n",
       "      <td>0.000143</td>\n",
       "      <td>0.000143</td>\n",
       "      <td>0.000143</td>\n",
       "      <td>0.000143</td>\n",
       "      <td>0.000143</td>\n",
       "      <td>0.000143</td>\n",
       "    </tr>\n",
       "  </tbody>\n",
       "</table>\n",
       "<p>1 rows × 567 columns</p>\n",
       "</div>"
      ],
      "text/plain": [
       "   planet_id      wl_1      wl_2      wl_3      wl_4      wl_5      wl_6  \\\n",
       "0  499191466  0.002723  0.002723  0.002723  0.002723  0.002723  0.002723   \n",
       "\n",
       "       wl_7      wl_8      wl_9  ...  sigma_274  sigma_275  sigma_276  \\\n",
       "0  0.002723  0.002723  0.002723  ...   0.000143   0.000143   0.000143   \n",
       "\n",
       "   sigma_277  sigma_278  sigma_279  sigma_280  sigma_281  sigma_282  sigma_283  \n",
       "0   0.000143   0.000143   0.000143   0.000143   0.000143   0.000143   0.000143  \n",
       "\n",
       "[1 rows x 567 columns]"
      ]
     },
     "execution_count": 96,
     "metadata": {},
     "output_type": "execute_result"
    }
   ],
   "source": [
    "df_submission.to_csv('submission.csv', index=False, float_format='%.8f')\n",
    "df_submission"
   ]
  },
  {
   "cell_type": "code",
   "execution_count": 97,
   "id": "d0a65136",
   "metadata": {
    "_kg_hide-input": true,
    "execution": {
     "iopub.execute_input": "2024-10-15T03:50:58.136947Z",
     "iopub.status.busy": "2024-10-15T03:50:58.136394Z",
     "iopub.status.idle": "2024-10-15T03:50:58.149694Z",
     "shell.execute_reply": "2024-10-15T03:50:58.148439Z"
    },
    "jupyter": {
     "source_hidden": true
    },
    "papermill": {
     "duration": 0.076529,
     "end_time": "2024-10-15T03:50:58.152175",
     "exception": false,
     "start_time": "2024-10-15T03:50:58.075646",
     "status": "completed"
    },
    "tags": []
   },
   "outputs": [],
   "source": [
    "# arhiv\n",
    "\n",
    "# - option 096 -> LB=**?** solutions (11,9) * sigma.11.(0.000195) - (0.000125).9.amgis\n",
    "# - option 097 -> LB=**?** solutions (11,9) * sigma.11.(0.000200) - (0.000120).9.amgis\n",
    "# - option 098 -> LB=**?** solutions (11,9) * sigma.11.(0.000205) - (0.000115).9.amgis\n",
    "# - \n",
    "# - option 099 -> LB=**?** solutions (11,9) * sigma.11.(0.000210) - (0.000110).9.amgis\n",
    "# - option 100 -> LB=**?** solutions (11,9) * sigma.11.(0.000215) - (0.000105).9.amgis\n",
    "# - option 101 -> LB=**?** solutions (11,9) * sigma.11.(0.000220) - (0.000100).9.amgis\n",
    "# - \n",
    "# - \n",
    "# - option 102 -> LB=**?** solutions (7,9) * sigma.7.(0.000180) - (0.000140).9.amgis\n",
    "# - option 103 -> LB=**?** solutions (7,9) * sigma.7.(0.000185) - (0.000135).9.amgis\n",
    "# - option 104 -> LB=**?** solutions (7,9) * sigma.7.(0.000190) - (0.000130).9.amgis\n",
    "# - \n",
    "# - option 105 -> LB=**?** solutions (7,9) * sigma.7.(0.000195) - (0.000125).9.amgis\n",
    "# - option 106 -> LB=**?** solutions (7,9) * sigma.7.(0.000200) - (0.000120).9.amgis\n",
    "# - option 107 -> LB=**?** solutions (7,9) * sigma.7.(0.000205) - (0.000115).9.amgis\n",
    "# - \n",
    "# - option 108 -> LB=**?** solutions (7,9) * sigma.7.(0.000210) - (0.000110).9.amgis\n",
    "# - option 109 -> LB=**?** solutions (7,9) * sigma.7.(0.000215) - (0.000105).9.amgis\n",
    "# - option 110 -> LB=**?** solutions (7,9) * sigma.7.(0.000220) - (0.000100).9.amgis\n",
    "\n",
    "# if LAUNCH_VARIANT == 'option 93' or LAUNCH_VARIANT == 'option 94' or LAUNCH_VARIANT == 'option 95':\n",
    "#     df_solution_x  = pd.read_csv('submission_11.csv')\n",
    "#     df_solution_11 = pd.read_csv('submission_11.csv')\n",
    "#     df_solution_9  = pd.read_csv('submission_9.csv')\n",
    "#     df_solution_11 = df_solution_11.map(lambda x:x*0.0303215)\n",
    "#     df_solution_9  = df_solution_9 .map(lambda x:x*0.9696785)\n",
    "#     df_temp = df_solution_11.add(df_solution_9)\n",
    "#     display(df_temp)\n",
    "#     df_submission = df_temp.map(lambda x:x)\n",
    "#     display(df_submission)\n",
    "#     df_submission['planet_id'] = df_solution_x['planet_id']\n",
    "\n",
    "# if LAUNCH_VARIANT == 'option 90' or LAUNCH_VARIANT == 'option 91' or LAUNCH_VARIANT == 'option 92':\n",
    "#     df_solution_x  = pd.read_csv('submission_11.csv')\n",
    "#     df_solution_11 = pd.read_csv('submission_11.csv')\n",
    "#     df_solution_9  = pd.read_csv('submission_9.csv')\n",
    "#     df_solution_11 = df_solution_11.map(lambda x:x*0.0303215)\n",
    "#     df_solution_9  = df_solution_9 .map(lambda x:x*0.9696785)\n",
    "#     df_temp = df_solution_11.add(df_solution_9)\n",
    "#     display(df_temp)\n",
    "#     df_submission = df_temp.map(lambda x:x)\n",
    "#     display(df_submission)\n",
    "#     df_submission['planet_id'] = df_solution_x['planet_id']\n",
    "\n",
    "# if LAUNCH_VARIANT == 'option 87': _k_sigma = 0.000177\n",
    "# if LAUNCH_VARIANT == 'option 88': _k_sigma = 0.000178\n",
    "# if LAUNCH_VARIANT == 'option 89': _k_sigma = 0.000179\n",
    "\n",
    "# if LAUNCH_VARIANT == 'option 90': _k_sigma = 0.0001749\n",
    "# if LAUNCH_VARIANT == 'option 91': _k_sigma = 0.000174\n",
    "# if LAUNCH_VARIANT == 'option 92': _k_sigma = 0.000173\n",
    "\n",
    "#LAUNCH_VARIANT,ENSEMBLE_SOLUTIONS = 'option 82',['SOLUTION_11','SOLUTION_9']\n",
    "#LAUNCH_VARIANT,ENSEMBLE_SOLUTIONS = 'option 83',['SOLUTION_7','SOLUTION_11','SOLUTION_9']\n",
    "\n",
    "# if ENSEMBLE_SOLUTIONS == ['SOLUTION_11','SOLUTION_9'] and LAUNCH_VARIANT == 'option 84':\n",
    "#     df_solution_x = pd.read_csv('submission_9.csv')\n",
    "#     df_solution_11= pd.read_csv('submission_11.csv')\n",
    "#     df_solution_9 = pd.read_csv('submission_9.csv')\n",
    "#     df_solution_11= df_solution_11.map(lambda x:x*0.10)\n",
    "#     df_solution_9 = df_solution_9 .map(lambda x:x*0.90)\n",
    "#     df_temp = df_solution_11.add(df_solution_9)\n",
    "#     df_submission = df_temp.map(lambda x:x)\n",
    "#     df_submission['planet_id'] = df_solution_x['planet_id']\n",
    "    \n",
    "# if ENSEMBLE_SOLUTIONS == ['SOLUTION_11','SOLUTION_9'] and LAUNCH_VARIANT == 'option 85':\n",
    "#     df_solution_x = pd.read_csv('submission_9.csv')\n",
    "#     df_solution_11= pd.read_csv('submission_11.csv')\n",
    "#     df_solution_9 = pd.read_csv('submission_9.csv')\n",
    "#     df_solution_11= df_solution_11.map(lambda x:x*0.15)\n",
    "#     df_solution_9 = df_solution_9 .map(lambda x:x*0.85)\n",
    "#     df_temp = df_solution_11.add(df_solution_9)\n",
    "#     df_submission = df_temp.map(lambda x:x)\n",
    "#     df_submission['planet_id'] = df_solution_x['planet_id']\n",
    "    \n",
    "# if ENSEMBLE_SOLUTIONS == ['SOLUTION_11','SOLUTION_9'] and LAUNCH_VARIANT == 'option 86':\n",
    "#     df_solution_x = pd.read_csv('submission_9.csv')\n",
    "#     df_solution_11= pd.read_csv('submission_11.csv')\n",
    "#     df_solution_9 = pd.read_csv('submission_9.csv')\n",
    "#     df_solution_11= df_solution_11.map(lambda x:x*0.20)\n",
    "#     df_solution_9 = df_solution_9 .map(lambda x:x*0.80)\n",
    "#     df_temp = df_solution_11.add(df_solution_9)\n",
    "#     df_submission = df_temp.map(lambda x:x)\n",
    "#     df_submission['planet_id'] = df_solution_x['planet_id']\n",
    "\n",
    "# if ENSEMBLE_SOLUTIONS == ['SOLUTION_11','SOLUTION_9']:\n",
    "#     df_solution_x = pd.read_csv('submission_9.csv')\n",
    "#     df_solution_11= pd.read_csv('submission_11.csv')\n",
    "#     df_solution_9 = pd.read_csv('submission_9.csv')\n",
    "#     df_solution_11= df_solution_11.map(lambda x:x*0.0303215)\n",
    "#     df_solution_9 = df_solution_9 .map(lambda x:x*0.9696785)\n",
    "#     df_temp = df_solution_11.add(df_solution_9)\n",
    "#     df_submission = df_temp.map(lambda x:x)\n",
    "#     df_submission['planet_id'] = df_solution_x['planet_id']\n",
    "    \n",
    "# if ENSEMBLE_SOLUTIONS == ['SOLUTION_7','SOLUTION_11','SOLUTION_9']:\n",
    "#     df_solution_x = pd.read_csv('submission_7.csv')\n",
    "#     df_solution_7 = pd.read_csv('submission_7.csv')\n",
    "#     df_solution_11= pd.read_csv('submission_11.csv')\n",
    "#     df_solution_9 = pd.read_csv('submission_9.csv')\n",
    "#     df_solution_7 = df_solution_7 .map(lambda x:x*0.01)\n",
    "#     df_solution_11= df_solution_11.map(lambda x:x*0.04)\n",
    "#     df_solution_9 = df_solution_9 .map(lambda x:x*0.95)\n",
    "#     df_temp = df_solution_7.add(df_solution_11).add(df_solution_9)\n",
    "#     df_submission = df_temp.map(lambda x:x)\n",
    "#     df_submission['planet_id'] = df_solution_x['planet_id']\n",
    "\n",
    "# if LAUNCH_VARIANT == 'option 70':\n",
    "#     df_solution_x = pd.read_csv('submission_7.csv')\n",
    "#     df_solution_7 = pd.read_csv('submission_7.csv')\n",
    "#     df_solution_9 = pd.read_csv('submission_9.csv')\n",
    "#     df_solution_7 = df_solution_7.map(lambda x:x*0.0303215)\n",
    "#     df_solution_9 = df_solution_9.map(lambda x:x*0.9696785)\n",
    "#     df_temp = df_solution_7.add(df_solution_9)\n",
    "#     df_submission = df_temp.map(lambda x:x)\n",
    "#     df_submission['planet_id'] = df_solution_x['planet_id']\n",
    "\n",
    "\n",
    "# - sigma(0.000140985 + 0.0001422)\n",
    "# - \n",
    "# - option 70 -> LB=**?** work (9,10) + weight (0.55 + 0.45) + bilzard_idea(4.5 + 4.15) + k_min(0.0001 + 0.00015)\n",
    "# - option 71 -> LB=**?** work (9,10) + weight (0.55 + 0.45) + bilzard_idea(4.5 + 4.85) + k_min(0.0001 + 0.000085)\n",
    "# - option 72 -> LB=**?** work (9,10) + weight (0.55 + 0.45) + bilzard_idea(4.5 + 5.15) + k_min(0.0001 + 0.0002)\n",
    "# - **?**\n",
    "# - option 73 -> LB=**?** work (9,10) + weight (0.45 + 0.55) + bilzard_idea(4.5 + 4.15) + k_min(0.0001 + 0.00015)\n",
    "# - option 74 -> LB=**?** work (9,10) + weight (0.45 + 0.55) + bilzard_idea(4.5 + 4.85) + k_min(0.0001 + 0.000085)\n",
    "# - option 75 -> LB=**?** work (9,10) + weight (0.45 + 0.55) + bilzard_idea(4.5 + 5.15) + k_min(0.0001 + 0.0002)\n",
    "# - **?**\n",
    "# - option 76 -> LB=**?** work (9,10) + weight (0.35 + 0.65) + bilzard_idea(4.5 + 4.15) + k_min(0.0001 + 0.00015)\n",
    "# - option 77 -> LB=**?** work (9,10) + weight (0.35 + 0.65) + bilzard_idea(4.5 + 4.85) + k_min(0.0001 + 0.000085)\n",
    "# - option 78 -> LB=**?** work (9,10) + weight (0.35 + 0.65) + bilzard_idea(4.5 + 5.15) + k_min(0.0001 + 0.0002)\n",
    "# - **?**\n",
    "# - option 79 -> LB=**?** work (9,10) + weight (0.65 + 0.35) + bilzard_idea(4.5 + 4.15) + k_min(0.0001 + 0.00015)\n",
    "# - option 80 -> LB=**?** work (9,10) + weight (0.65 + 0.35) + bilzard_idea(4.5 + 4.85) + k_min(0.0001 + 0.000085)\n",
    "# - option 81 -> LB=**?** work (9,10) + weight (0.65 + 0.35) + bilzard_idea(4.5 + 5.15) + k_min(0.0001 + 0.0002)"
   ]
  }
 ],
 "metadata": {
  "kaggle": {
   "accelerator": "none",
   "dataSources": [
    {
     "databundleVersionId": 9188054,
     "sourceId": 70367,
     "sourceType": "competition"
    },
    {
     "sourceId": 191155259,
     "sourceType": "kernelVersion"
    },
    {
     "sourceId": 196522559,
     "sourceType": "kernelVersion"
    }
   ],
   "dockerImageVersionId": 30761,
   "isGpuEnabled": false,
   "isInternetEnabled": false,
   "language": "python",
   "sourceType": "notebook"
  },
  "kernelspec": {
   "display_name": "Python 3",
   "language": "python",
   "name": "python3"
  },
  "language_info": {
   "codemirror_mode": {
    "name": "ipython",
    "version": 3
   },
   "file_extension": ".py",
   "mimetype": "text/x-python",
   "name": "python",
   "nbconvert_exporter": "python",
   "pygments_lexer": "ipython3",
   "version": "3.10.14"
  },
  "papermill": {
   "default_parameters": {},
   "duration": 61.713124,
   "end_time": "2024-10-15T03:50:58.933435",
   "environment_variables": {},
   "exception": null,
   "input_path": "__notebook__.ipynb",
   "output_path": "__notebook__.ipynb",
   "parameters": {},
   "start_time": "2024-10-15T03:49:57.220311",
   "version": "2.6.0"
  }
 },
 "nbformat": 4,
 "nbformat_minor": 5
}
